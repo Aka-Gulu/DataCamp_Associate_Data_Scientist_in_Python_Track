{
 "cells": [
  {
   "cell_type": "markdown",
   "id": "bb66b4da",
   "metadata": {},
   "source": [
    "#### Which day of the week?"
   ]
  },
  {
   "cell_type": "code",
   "execution_count": null,
   "id": "935ebb4c",
   "metadata": {},
   "outputs": [],
   "source": [
    "# Import date from datetime\n",
    "from datetime import date"
   ]
  },
  {
   "cell_type": "code",
   "execution_count": null,
   "id": "3fdd41a0",
   "metadata": {},
   "outputs": [],
   "source": [
    "# Import date from datetime\n",
    "from datetime import date\n",
    "\n",
    "# Create a date object\n",
    "hurricane_andrew = date(1992,8,24)"
   ]
  },
  {
   "cell_type": "code",
   "execution_count": null,
   "id": "06455354",
   "metadata": {},
   "outputs": [],
   "source": [
    "# Import date from datetime\n",
    "from datetime import date\n",
    "\n",
    "# Create a date object\n",
    "hurricane_andrew = date(1992, 8, 24)\n",
    "\n",
    "# Which day of the week is the date?\n",
    "print(hurricane_andrew.weekday())"
   ]
  },
  {
   "cell_type": "markdown",
   "id": "2aa59bfd",
   "metadata": {},
   "source": [
    "#### How many hurricanes come early?"
   ]
  },
  {
   "cell_type": "code",
   "execution_count": null,
   "id": "83051570",
   "metadata": {},
   "outputs": [],
   "source": [
    "# Counter for how many before June 1\n",
    "early_hurricanes = 0\n",
    "\n",
    "# We loop over the dates\n",
    "for hurricane in florida_hurricane_dates:\n",
    "  # Check if the month is before June (month number 6)\n",
    "  if hurricane.month < 6:\n",
    "    early_hurricanes = early_hurricanes + 1\n",
    "    \n",
    "print(early_hurricanes)"
   ]
  },
  {
   "cell_type": "markdown",
   "id": "2f61a975",
   "metadata": {},
   "source": [
    "#### Subtracting dates"
   ]
  },
  {
   "cell_type": "code",
   "execution_count": null,
   "id": "07683554",
   "metadata": {},
   "outputs": [],
   "source": [
    "# Import date\n",
    "from datetime import date\n",
    "\n",
    "# Create a date object for May 9th, 2007\n",
    "start = date(2007, 5, 9)\n",
    "\n",
    "# Create a date object for December 13th, 2007\n",
    "end = date(2007, 12, 13)\n",
    "\n",
    "# Subtract the two dates and print the number of days\n",
    "print((end - start).days)"
   ]
  },
  {
   "cell_type": "markdown",
   "id": "10c0f570",
   "metadata": {},
   "source": [
    "#### Counting events per calendar month"
   ]
  },
  {
   "cell_type": "code",
   "execution_count": null,
   "id": "0087398c",
   "metadata": {},
   "outputs": [],
   "source": [
    "# A dictionary to count hurricanes per calendar month\n",
    "hurricanes_each_month = {1: 0, 2: 0, 3: 0, 4: 0, 5: 0, 6:0,\n",
    "\t\t  \t\t\t\t 7: 0, 8:0, 9:0, 10:0, 11:0, 12:0}\n",
    "\n",
    "# Loop over all hurricanes\n",
    "for hurricane in florida_hurricane_dates:\n",
    "  # Pull out the month\n",
    "  month = hurricane.month\n",
    "  # Increment the count in your dictionary by one\n",
    "  hurricanes_each_month[month] +=1\n",
    "  \n",
    "print(hurricanes_each_month)"
   ]
  },
  {
   "cell_type": "markdown",
   "id": "f9e4a716",
   "metadata": {},
   "source": [
    "#### Putting a list of dates in order"
   ]
  },
  {
   "cell_type": "code",
   "execution_count": null,
   "id": "152dc3e0",
   "metadata": {},
   "outputs": [],
   "source": [
    "# Print the first and last scrambled dates\n",
    "print(dates_scrambled[0])\n",
    "print(dates_scrambled[-1])"
   ]
  },
  {
   "cell_type": "code",
   "execution_count": null,
   "id": "46a2cd70",
   "metadata": {},
   "outputs": [],
   "source": [
    "# Print the first and last scrambled dates\n",
    "print(dates_scrambled[0])\n",
    "print(dates_scrambled[-1])\n",
    "\n",
    "# Put the dates in order\n",
    "dates_ordered = sorted(dates_scrambled)\n",
    "\n",
    "# Print the first and last ordered dates\n",
    "print(dates_ordered[0])\n",
    "print(dates_ordered[-1])"
   ]
  },
  {
   "cell_type": "markdown",
   "id": "ce2b285b",
   "metadata": {},
   "source": [
    "#### Printing dates in a friendly format"
   ]
  },
  {
   "cell_type": "code",
   "execution_count": null,
   "id": "3b6f870a",
   "metadata": {},
   "outputs": [],
   "source": [
    "# Assign the earliest date to first_date\n",
    "first_date = min(florida_hurricane_dates)\n",
    "\n",
    "# Convert to ISO and US formats\n",
    "iso = \"Our earliest hurricane date: \" + first_date.isoformat()\n",
    "us = \"Our earliest hurricane date: \" + first_date.strftime(\"%m/%d/%Y\")\n",
    "\n",
    "print(\"ISO: \" + iso)\n",
    "print(\"US: \" + us)"
   ]
  },
  {
   "cell_type": "markdown",
   "id": "34a79c55",
   "metadata": {},
   "source": [
    "#### Representing dates in different ways"
   ]
  },
  {
   "cell_type": "code",
   "execution_count": null,
   "id": "e1034b80",
   "metadata": {},
   "outputs": [],
   "source": [
    "# Import date\n",
    "from datetime import date\n",
    "\n",
    "# Create a date object\n",
    "andrew = date(1992, 8, 26)\n",
    "\n",
    "# Print the date in the format 'YYYY-MM'\n",
    "print(andrew.strftime('%Y-%m'))"
   ]
  },
  {
   "cell_type": "code",
   "execution_count": null,
   "id": "14db2cee",
   "metadata": {},
   "outputs": [],
   "source": [
    "# Import date\n",
    "from datetime import date\n",
    "\n",
    "# Create a date object\n",
    "andrew = date(1992, 8, 26)\n",
    "\n",
    "# Print the date in the format 'MONTH (YYYY)'\n",
    "print(andrew.strftime('%B (%Y)'))"
   ]
  },
  {
   "cell_type": "code",
   "execution_count": null,
   "id": "3e245338",
   "metadata": {},
   "outputs": [],
   "source": [
    "# Import date\n",
    "from datetime import date\n",
    "\n",
    "# Create a date object\n",
    "andrew = date(1992, 8, 26)\n",
    "\n",
    "# Print the date in the format 'YYYY-DDD'\n",
    "print(andrew.strftime('%Y-%j'))"
   ]
  }
 ],
 "metadata": {
  "kernelspec": {
   "display_name": "Python 3 (ipykernel)",
   "language": "python",
   "name": "python3"
  },
  "language_info": {
   "codemirror_mode": {
    "name": "ipython",
    "version": 3
   },
   "file_extension": ".py",
   "mimetype": "text/x-python",
   "name": "python",
   "nbconvert_exporter": "python",
   "pygments_lexer": "ipython3",
   "version": "3.11.4"
  }
 },
 "nbformat": 4,
 "nbformat_minor": 5
}
