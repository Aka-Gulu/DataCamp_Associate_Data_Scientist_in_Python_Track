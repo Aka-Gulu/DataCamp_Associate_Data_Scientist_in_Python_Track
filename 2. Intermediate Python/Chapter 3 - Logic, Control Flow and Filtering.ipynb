{
 "cells": [
  {
   "cell_type": "markdown",
   "id": "ea66105f",
   "metadata": {},
   "source": [
    "#### Equality"
   ]
  },
  {
   "cell_type": "code",
   "execution_count": null,
   "id": "d6b441f3",
   "metadata": {},
   "outputs": [],
   "source": [
    "# Comparison of booleans\n",
    "True == False\n",
    "\n",
    "# Comparison of integers\n",
    "-5 * 15 != 75\n",
    "\n",
    "# Comparison of strings\n",
    "'pyscript' == 'PyScript'\n",
    "\n",
    "# Compare a boolean with an integer\n",
    "True == 1"
   ]
  },
  {
   "cell_type": "markdown",
   "id": "8137f325",
   "metadata": {},
   "source": [
    "#### Greater and less than"
   ]
  },
  {
   "cell_type": "code",
   "execution_count": null,
   "id": "4bebbef6",
   "metadata": {},
   "outputs": [],
   "source": [
    "# Comparison of integers\n",
    "x = -3 * 6\n",
    "print(x >= -10)\n",
    "\n",
    "# Comparison of strings\n",
    "y = \"test\"\n",
    "print('test'<= y)\n",
    "\n",
    "# Comparison of booleans\n",
    "print(True > False)"
   ]
  },
  {
   "cell_type": "markdown",
   "id": "a699c5a8",
   "metadata": {},
   "source": [
    "#### Compare arrays"
   ]
  },
  {
   "cell_type": "code",
   "execution_count": null,
   "id": "e71c7b4d",
   "metadata": {},
   "outputs": [],
   "source": [
    "# Create arrays\n",
    "import numpy as np\n",
    "my_house = np.array([18.0, 20.0, 10.75, 9.50])\n",
    "your_house = np.array([14.0, 24.0, 14.25, 9.0])\n",
    "\n",
    "# my_house greater than or equal to 18\n",
    "print(my_house >= 18)\n",
    "\n",
    "# my_house less than your_house\n",
    "print(my_house < your_house)"
   ]
  },
  {
   "cell_type": "markdown",
   "id": "09af67f9",
   "metadata": {},
   "source": [
    "#### and, or, not (1)"
   ]
  },
  {
   "cell_type": "code",
   "execution_count": null,
   "id": "16bf84ef",
   "metadata": {},
   "outputs": [],
   "source": [
    "# Define variables\n",
    "my_kitchen = 18.0\n",
    "your_kitchen = 14.0\n",
    "\n",
    "# my_kitchen bigger than 10 and smaller than 18?\n",
    "print(my_kitchen > 10 and my_kitchen < 18)\n",
    "\n",
    "# my_kitchen smaller than 14 or bigger than 17?\n",
    "print(my_kitchen < 14 or my_kitchen>17)\n",
    "\n",
    "# Double my_kitchen smaller than triple your_kitchen?\n",
    "print(2*my_kitchen < 3*your_kitchen)"
   ]
  },
  {
   "cell_type": "markdown",
   "id": "b490a4f0",
   "metadata": {},
   "source": [
    "#### Boolean operators with NumPy"
   ]
  },
  {
   "cell_type": "code",
   "execution_count": null,
   "id": "567454c7",
   "metadata": {},
   "outputs": [],
   "source": [
    "# Create arrays\n",
    "import numpy as np\n",
    "my_house = np.array([18.0, 20.0, 10.75, 9.50])\n",
    "your_house = np.array([14.0, 24.0, 14.25, 9.0])\n",
    "\n",
    "# my_house greater than 18.5 or smaller than 10\n",
    "print(np.logical_or(my_house > 18.5, my_house <10))\n",
    "\n",
    "# Both my_house and your_house smaller than 11\n",
    "print(np.logical_and(my_house <11, your_house < 11))"
   ]
  },
  {
   "cell_type": "markdown",
   "id": "35c938dc",
   "metadata": {},
   "source": [
    "#### if"
   ]
  },
  {
   "cell_type": "code",
   "execution_count": null,
   "id": "c3f7577a",
   "metadata": {},
   "outputs": [],
   "source": [
    "# Define variables\n",
    "room = \"kit\"\n",
    "area = 14.0\n",
    "\n",
    "# if statement for room\n",
    "if room == \"kit\" :\n",
    "    print(\"looking around in the kitchen.\")\n",
    "\n",
    "# if statement for area\n",
    "if area > 15 :\n",
    "    print('big place!')"
   ]
  },
  {
   "cell_type": "markdown",
   "id": "31d6b139",
   "metadata": {},
   "source": [
    "#### Add else"
   ]
  },
  {
   "cell_type": "code",
   "execution_count": null,
   "id": "be2b89de",
   "metadata": {},
   "outputs": [],
   "source": [
    "# Define variables\n",
    "room = \"kit\"\n",
    "area = 14.0\n",
    "\n",
    "# if-else construct for room\n",
    "if room == \"kit\" :\n",
    "    print(\"looking around in the kitchen.\")\n",
    "else :\n",
    "    print(\"looking around elsewhere.\")\n",
    "\n",
    "# if-else construct for area\n",
    "if area > 15 :\n",
    "    print(\"big place!\")\n",
    "else :\n",
    "    print('pretty small.')"
   ]
  },
  {
   "cell_type": "markdown",
   "id": "52bdbfad",
   "metadata": {},
   "source": [
    "#### Customize further: elif"
   ]
  },
  {
   "cell_type": "code",
   "execution_count": null,
   "id": "880c1808",
   "metadata": {},
   "outputs": [],
   "source": [
    "# Define variables\n",
    "room = \"bed\"\n",
    "area = 14.0\n",
    "\n",
    "# if-elif-else construct for room\n",
    "if room == \"kit\" :\n",
    "    print(\"looking around in the kitchen.\")\n",
    "elif room == \"bed\":\n",
    "    print(\"looking around in the bedroom.\")\n",
    "else :\n",
    "    print(\"looking around elsewhere.\")\n",
    "\n",
    "# if-elif-else construct for area\n",
    "if area > 15 :\n",
    "    print(\"big place!\")\n",
    "elif area > 10 :\n",
    "    print('medium size, nice!')\n",
    "else :\n",
    "    print(\"pretty small.\")"
   ]
  },
  {
   "cell_type": "markdown",
   "id": "c70f37e6",
   "metadata": {},
   "source": [
    "#### Driving right (1)"
   ]
  },
  {
   "cell_type": "code",
   "execution_count": null,
   "id": "c7c0f8bc",
   "metadata": {},
   "outputs": [],
   "source": [
    "# Import cars data\n",
    "import pandas as pd\n",
    "cars = pd.read_csv('cars.csv', index_col = 0)\n",
    "\n",
    "# Extract drives_right column as Series: dr\n",
    "dr = cars['drives_right']\n",
    "print(dr)\n",
    "# Use dr to subset cars: sel\n",
    "sel = cars[dr]\n",
    "\n",
    "# Print sel\n",
    "print(sel)"
   ]
  },
  {
   "cell_type": "markdown",
   "id": "9556adff",
   "metadata": {},
   "source": [
    "#### Driving right (2)"
   ]
  },
  {
   "cell_type": "code",
   "execution_count": null,
   "id": "59a93171",
   "metadata": {},
   "outputs": [],
   "source": [
    "# Import cars data\n",
    "import pandas as pd\n",
    "cars = pd.read_csv('cars.csv', index_col = 0)\n",
    "\n",
    "# Convert code to a one-liner\n",
    "sel = cars[cars['drives_right']]\n",
    "\n",
    "# Print sel\n",
    "print(sel)"
   ]
  },
  {
   "cell_type": "markdown",
   "id": "34521c8d",
   "metadata": {},
   "source": [
    "#### Cars per capita (1)"
   ]
  },
  {
   "cell_type": "code",
   "execution_count": null,
   "id": "eeff6a29",
   "metadata": {},
   "outputs": [],
   "source": [
    "# Import cars data\n",
    "import pandas as pd\n",
    "cars = pd.read_csv('cars.csv', index_col = 0)\n",
    "\n",
    "# Create car_maniac: observations that have a cars_per_cap over 500\n",
    "cpc = cars.iloc[:,0]\n",
    "many_cars = cpc > 500\n",
    "car_maniac = cars[many_cars]\n",
    "# Print car_maniac\n",
    "print(car_maniac)"
   ]
  },
  {
   "cell_type": "markdown",
   "id": "c657f131",
   "metadata": {},
   "source": [
    "#### Cars per capita (2)"
   ]
  },
  {
   "cell_type": "code",
   "execution_count": null,
   "id": "fea38cd8",
   "metadata": {},
   "outputs": [],
   "source": [
    "# Import cars data\n",
    "import pandas as pd\n",
    "cars = pd.read_csv('cars.csv', index_col = 0)\n",
    "\n",
    "# Import numpy, you'll need this\n",
    "import numpy as np\n",
    "\n",
    "# Create medium: observations with cars_per_cap between 100 and 500\n",
    "cpc = cars['cars_per_cap']\n",
    "between = np.logical_and(cpc > 100, cpc < 500)\n",
    "medium = cars[between]\n",
    "\n",
    "# Print medium\n",
    "print(medium)"
   ]
  }
 ],
 "metadata": {
  "kernelspec": {
   "display_name": "Python 3 (ipykernel)",
   "language": "python",
   "name": "python3"
  },
  "language_info": {
   "codemirror_mode": {
    "name": "ipython",
    "version": 3
   },
   "file_extension": ".py",
   "mimetype": "text/x-python",
   "name": "python",
   "nbconvert_exporter": "python",
   "pygments_lexer": "ipython3",
   "version": "3.11.4"
  }
 },
 "nbformat": 4,
 "nbformat_minor": 5
}
