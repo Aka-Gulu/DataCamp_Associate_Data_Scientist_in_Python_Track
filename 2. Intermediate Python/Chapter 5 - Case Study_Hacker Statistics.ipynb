{
 "cells": [
  {
   "cell_type": "markdown",
   "id": "20f0472c",
   "metadata": {},
   "source": [
    "#### Random float"
   ]
  },
  {
   "cell_type": "code",
   "execution_count": null,
   "id": "cf7fcd89",
   "metadata": {},
   "outputs": [],
   "source": [
    "# Import numpy as np\n",
    "import numpy as np\n",
    "\n",
    "# Set the seed\n",
    "toss = np.random.seed(123)\n",
    "\n",
    "# Generate and print random float\n",
    "print(np.random.rand())"
   ]
  },
  {
   "cell_type": "markdown",
   "id": "9879648b",
   "metadata": {},
   "source": [
    "#### Roll the dice"
   ]
  },
  {
   "cell_type": "code",
   "execution_count": null,
   "id": "a901170a",
   "metadata": {},
   "outputs": [],
   "source": [
    "# Import numpy and set seed\n",
    "import numpy as np\n",
    "np.random.seed(123)\n",
    "\n",
    "# Use randint() to simulate a dice\n",
    "print(np.random.randint(1,7))\n",
    "\n",
    "# Use randint() again\n",
    "print(np.random.randint(1,7))"
   ]
  },
  {
   "cell_type": "markdown",
   "id": "90ce43e5",
   "metadata": {},
   "source": [
    "#### Determine your next move"
   ]
  },
  {
   "cell_type": "code",
   "execution_count": null,
   "id": "139b3176",
   "metadata": {},
   "outputs": [],
   "source": [
    "# NumPy is imported, seed is set\n",
    "\n",
    "# Starting step\n",
    "step = 50\n",
    "\n",
    "# Roll the dice\n",
    "dice = np.random.randint(1,7)\n",
    "\n",
    "# Finish the control construct\n",
    "if dice <= 2 :\n",
    "    step = step - 1\n",
    "elif dice <= 5 :\n",
    "    step = step + 1\n",
    "else :\n",
    "    step = step + np.random.randint(1,7)\n",
    "\n",
    "# Print out dice and step\n",
    "print(dice)\n",
    "print(step)"
   ]
  },
  {
   "cell_type": "markdown",
   "id": "4fc92068",
   "metadata": {},
   "source": [
    "#### The next step"
   ]
  },
  {
   "cell_type": "code",
   "execution_count": null,
   "id": "2b98b7b1",
   "metadata": {},
   "outputs": [],
   "source": [
    "# NumPy is imported, seed is set\n",
    "\n",
    "# Initialize random_walk\n",
    "random_walk = [0]\n",
    "\n",
    "# Complete the ___\n",
    "for x in range(100) :\n",
    "    # Set step: last element in random_walk\n",
    "    step = random_walk[-1]\n",
    "\n",
    "    # Roll the dice\n",
    "    dice = np.random.randint(1,7)\n",
    "\n",
    "    # Determine next step\n",
    "    if dice <= 2:\n",
    "        step = step - 1\n",
    "    elif dice <= 5:\n",
    "        step = step + 1\n",
    "    else:\n",
    "        step = step + np.random.randint(1,7)\n",
    "\n",
    "    # append next_step to random_walk\n",
    "    random_walk.append(step)\n",
    "\n",
    "# Print random_walk\n",
    "print(random_walk)"
   ]
  },
  {
   "cell_type": "markdown",
   "id": "261794f9",
   "metadata": {},
   "source": [
    "#### How low can you go?"
   ]
  },
  {
   "cell_type": "code",
   "execution_count": null,
   "id": "6bd9a048",
   "metadata": {},
   "outputs": [],
   "source": [
    "# NumPy is imported, seed is set\n",
    "\n",
    "# Initialize random_walk\n",
    "random_walk = [0]\n",
    "\n",
    "for x in range(100) :\n",
    "    step = random_walk[-1]\n",
    "    dice = np.random.randint(1,7)\n",
    "\n",
    "    if dice <= 2:\n",
    "        # Replace below: use max to make sure step can't go below 0\n",
    "        step = max(0,step - 1)\n",
    "    elif dice <= 5:\n",
    "        step = step + 1\n",
    "    else:\n",
    "        step = step + np.random.randint(1,7)\n",
    "\n",
    "    random_walk.append(step)\n",
    "\n",
    "print(random_walk)"
   ]
  },
  {
   "cell_type": "markdown",
   "id": "9a628461",
   "metadata": {},
   "source": [
    "#### Visualize the walk"
   ]
  },
  {
   "cell_type": "code",
   "execution_count": null,
   "id": "61a12b71",
   "metadata": {},
   "outputs": [],
   "source": [
    "# NumPy is imported, seed is set\n",
    "\n",
    "# Initialization\n",
    "random_walk = [0]\n",
    "\n",
    "for x in range(100) :\n",
    "    step = random_walk[-1]\n",
    "    dice = np.random.randint(1,7)\n",
    "\n",
    "    if dice <= 2:\n",
    "        step = max(0, step - 1)\n",
    "    elif dice <= 5:\n",
    "        step = step + 1\n",
    "    else:\n",
    "        step = step + np.random.randint(1,7)\n",
    "\n",
    "    random_walk.append(step)\n",
    "\n",
    "# Import matplotlib.pyplot as plt\n",
    "import matplotlib.pyplot as plt\n",
    "\n",
    "# Plot random_walk\n",
    "plt.plot(random_walk)\n",
    "\n",
    "# Show the plot\n",
    "plt.show()"
   ]
  },
  {
   "cell_type": "markdown",
   "id": "b94ff82c",
   "metadata": {},
   "source": [
    "#### Simulate multiple walks"
   ]
  },
  {
   "cell_type": "code",
   "execution_count": null,
   "id": "60345e9d",
   "metadata": {},
   "outputs": [],
   "source": [
    "# NumPy is imported; seed is set\n",
    "\n",
    "# Initialize all_walks (don't change this line)\n",
    "all_walks = []\n",
    "\n",
    "# Simulate random walk five times\n",
    "for i in range(5) :\n",
    "\n",
    "    # Code from before\n",
    "    random_walk = [0]\n",
    "    for x in range(100) :\n",
    "        step = random_walk[-1]\n",
    "        dice = np.random.randint(1,7)\n",
    "\n",
    "        if dice <= 2:\n",
    "            step = max(0, step - 1)\n",
    "        elif dice <= 5:\n",
    "            step = step + 1\n",
    "        else:\n",
    "            step = step + np.random.randint(1,7)\n",
    "        random_walk.append(step)\n",
    "\n",
    "    # Append random_walk to all_walks\n",
    "    all_walks.append(random_walk)\n",
    "\n",
    "# Print all_walks\n",
    "print(all_walks)"
   ]
  },
  {
   "cell_type": "markdown",
   "id": "a9c857d0",
   "metadata": {},
   "source": [
    "#### Visualize all walks"
   ]
  },
  {
   "cell_type": "code",
   "execution_count": null,
   "id": "e270b733",
   "metadata": {},
   "outputs": [],
   "source": [
    "# numpy and matplotlib imported, seed set.\n",
    "\n",
    "# initialize and populate all_walks\n",
    "all_walks = []\n",
    "for i in range(5) :\n",
    "    random_walk = [0]\n",
    "    for x in range(100) :\n",
    "        step = random_walk[-1]\n",
    "        dice = np.random.randint(1,7)\n",
    "        if dice <= 2:\n",
    "            step = max(0, step - 1)\n",
    "        elif dice <= 5:\n",
    "            step = step + 1\n",
    "        else:\n",
    "            step = step + np.random.randint(1,7)\n",
    "        random_walk.append(step)\n",
    "    all_walks.append(random_walk)\n",
    "\n",
    "# Convert all_walks to NumPy array: np_aw\n",
    "np_aw = np.array(all_walks)\n",
    "\n",
    "# Plot np_aw and show\n",
    "plt.plot(np_aw)\n",
    "plt.show()\n",
    "\n",
    "# Clear the figure\n",
    "plt.clf()\n",
    "\n",
    "# Transpose np_aw: np_aw_t\n",
    "np_aw_t = np.transpose(np_aw)\n",
    "\n",
    "# Plot np_aw_t and show\n",
    "plt.plot(np_aw_t)\n",
    "plt.show()"
   ]
  },
  {
   "cell_type": "markdown",
   "id": "f7bd276b",
   "metadata": {},
   "source": [
    "#### Implement clumsiness"
   ]
  },
  {
   "cell_type": "code",
   "execution_count": null,
   "id": "b533d129",
   "metadata": {},
   "outputs": [],
   "source": [
    "# numpy and matplotlib imported, seed set\n",
    "\n",
    "# clear the plot so it doesn't get cluttered if you run this many times\n",
    "plt.clf()\n",
    "\n",
    "# Simulate random walk 20 times\n",
    "all_walks = []\n",
    "for i in range(20) :\n",
    "    random_walk = [0]\n",
    "    for x in range(100) :\n",
    "        step = random_walk[-1]\n",
    "        dice = np.random.randint(1,7)\n",
    "        if dice <= 2:\n",
    "            step = max(0, step - 1)\n",
    "        elif dice <= 5:\n",
    "            step = step + 1\n",
    "        else:\n",
    "            step = step + np.random.randint(1,7)\n",
    "\n",
    "        # Implement clumsiness\n",
    "        if np.random.rand() <= 0.005 :\n",
    "            step = 0\n",
    "\n",
    "        random_walk.append(step)\n",
    "    all_walks.append(random_walk)\n",
    "\n",
    "# Create and plot np_aw_t\n",
    "np_aw_t = np.transpose(np.array(all_walks))\n",
    "plt.plot(np_aw_t)\n",
    "plt.show()"
   ]
  },
  {
   "cell_type": "markdown",
   "id": "889f412c",
   "metadata": {},
   "source": [
    "#### Plot the distribution"
   ]
  },
  {
   "cell_type": "code",
   "execution_count": null,
   "id": "b76f63ad",
   "metadata": {},
   "outputs": [],
   "source": [
    "# numpy and matplotlib imported, seed set\n",
    "\n",
    "# Simulate random walk 500 times\n",
    "all_walks = []\n",
    "for i in range(500) :\n",
    "    random_walk = [0]\n",
    "    for x in range(100) :\n",
    "        step = random_walk[-1]\n",
    "        dice = np.random.randint(1,7)\n",
    "        if dice <= 2:\n",
    "            step = max(0, step - 1)\n",
    "        elif dice <= 5:\n",
    "            step = step + 1\n",
    "        else:\n",
    "            step = step + np.random.randint(1,7)\n",
    "        if np.random.rand() <= 0.001 :\n",
    "            step = 0\n",
    "        random_walk.append(step)\n",
    "    all_walks.append(random_walk)\n",
    "\n",
    "# Create and plot np_aw_t\n",
    "np_aw_t = np.transpose(np.array(all_walks))\n",
    "\n",
    "# Select last row from np_aw_t: ends\n",
    "ends = np_aw_t[-1,:]\n",
    "\n",
    "# Plot histogram of ends, display plot\n",
    "plt.hist(ends)\n",
    "plt.show()"
   ]
  }
 ],
 "metadata": {
  "kernelspec": {
   "display_name": "Python 3 (ipykernel)",
   "language": "python",
   "name": "python3"
  },
  "language_info": {
   "codemirror_mode": {
    "name": "ipython",
    "version": 3
   },
   "file_extension": ".py",
   "mimetype": "text/x-python",
   "name": "python",
   "nbconvert_exporter": "python",
   "pygments_lexer": "ipython3",
   "version": "3.11.4"
  }
 },
 "nbformat": 4,
 "nbformat_minor": 5
}
