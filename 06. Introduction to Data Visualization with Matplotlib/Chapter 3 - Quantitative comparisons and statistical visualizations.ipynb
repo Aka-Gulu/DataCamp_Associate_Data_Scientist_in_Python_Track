{
 "cells": [
  {
   "cell_type": "markdown",
   "id": "40f4611a",
   "metadata": {},
   "source": [
    "#### Bar chart"
   ]
  },
  {
   "cell_type": "code",
   "execution_count": null,
   "id": "9d68d7d8",
   "metadata": {},
   "outputs": [],
   "source": [
    "fig, ax = plt.subplots()\n",
    "\n",
    "# Plot a bar-chart of gold medals as a function of country\n",
    "ax.bar(medals.index,medals['Gold'])\n",
    "\n",
    "# Set the x-axis tick labels to the country names\n",
    "ax.set_xticklabels(medals.index, rotation=90)\n",
    "\n",
    "# Set the y-axis label\n",
    "ax.set_ylabel('Number of medals')\n",
    "\n",
    "plt.show()"
   ]
  },
  {
   "cell_type": "markdown",
   "id": "064d4a20",
   "metadata": {},
   "source": [
    "#### Stacked bar chart"
   ]
  },
  {
   "cell_type": "code",
   "execution_count": null,
   "id": "9dd1112a",
   "metadata": {},
   "outputs": [],
   "source": [
    "# Add bars for \"Gold\" with the label \"Gold\"\n",
    "ax.bar(medals.index, medals['Gold'], label='Gold')\n",
    "\n",
    "# Stack bars for \"Silver\" on top with label \"Silver\"\n",
    "ax.bar(medals.index, medals['Silver'], bottom=medals['Gold'], label='Silver')\n",
    "\n",
    "# Stack bars for \"Bronze\" on top of that with label \"Bronze\"\n",
    "ax.bar(medals.index,medals['Bronze'],bottom=medals['Gold']+medals['Silver'],label='Bronze')\n",
    "\n",
    "# Display the legend\n",
    "ax.legend()\n",
    "\n",
    "plt.show()"
   ]
  },
  {
   "cell_type": "markdown",
   "id": "e05039aa",
   "metadata": {},
   "source": [
    "#### Creating histograms"
   ]
  },
  {
   "cell_type": "code",
   "execution_count": null,
   "id": "928a3f71",
   "metadata": {},
   "outputs": [],
   "source": [
    "fig, ax = plt.subplots()\n",
    "# Plot a histogram of \"Weight\" for mens_rowing\n",
    "ax.hist(mens_rowing['Weight'])\n",
    "\n",
    "# Compare to histogram of \"Weight\" for mens_gymnastics\n",
    "ax.hist(mens_gymnastics['Weight'])\n",
    "# Set the x-axis label to \"Weight (kg)\"\n",
    "ax.set_xlabel('Weight (kg)')\n",
    "\n",
    "# Set the y-axis label to \"# of observations\"\n",
    "ax.set_ylabel('# of observations')\n",
    "\n",
    "plt.show()"
   ]
  },
  {
   "cell_type": "markdown",
   "id": "5e4e5a02",
   "metadata": {},
   "source": [
    "#### \"Step\" histogram"
   ]
  },
  {
   "cell_type": "code",
   "execution_count": null,
   "id": "17faed0e",
   "metadata": {},
   "outputs": [],
   "source": [
    "fig, ax = plt.subplots()\n",
    "\n",
    "# Plot a histogram of \"Weight\" for mens_rowing\n",
    "ax.hist(mens_rowing['Weight'],label='Rowing',histtype='step',bins=5)\n",
    "\n",
    "# Compare to histogram of \"Weight\" for mens_gymnastics\n",
    "ax.hist(mens_gymnastics['Weight'],label='Gymnastics',histtype='step',bins=5)\n",
    "\n",
    "ax.set_xlabel(\"Weight (kg)\")\n",
    "ax.set_ylabel(\"# of observations\")\n",
    "\n",
    "# Add the legend and show the Figure\n",
    "ax.legend()\n",
    "plt.show()"
   ]
  },
  {
   "cell_type": "markdown",
   "id": "113fef61",
   "metadata": {},
   "source": [
    "#### Adding error-bars to a bar chart"
   ]
  },
  {
   "cell_type": "code",
   "execution_count": null,
   "id": "28fa5833",
   "metadata": {},
   "outputs": [],
   "source": [
    "fig, ax = plt.subplots()\n",
    "\n",
    "# Add a bar for the rowing \"Height\" column mean/std\n",
    "ax.bar(\"Rowing\", mens_rowing['Height'].mean(), yerr=mens_rowing['Height'].std())\n",
    "\n",
    "# Add a bar for the gymnastics \"Height\" column mean/std\n",
    "ax.bar('Gymnastics',mens_gymnastics['Height'].mean(),yerr=mens_gymnastics['Height'].std())\n",
    "\n",
    "# Label the y-axis\n",
    "ax.set_ylabel('Height (cm)')\n",
    "\n",
    "plt.show()"
   ]
  },
  {
   "cell_type": "markdown",
   "id": "428d7595",
   "metadata": {},
   "source": [
    "#### Adding error-bars to a plot"
   ]
  },
  {
   "cell_type": "code",
   "execution_count": null,
   "id": "ecd83608",
   "metadata": {},
   "outputs": [],
   "source": [
    "fig, ax = plt.subplots()\n",
    "\n",
    "# Add Seattle temperature data in each month with error bars\n",
    "ax.errorbar(seattle_weather['MONTH'], seattle_weather['MLY-TAVG-NORMAL'],yerr=seattle_weather['MLY-TAVG-STDDEV'] )\n",
    "\n",
    "# Add Austin temperature data in each month with error bars\n",
    "ax.errorbar(austin_weather['MONTH'], austin_weather['MLY-TAVG-NORMAL'],yerr=austin_weather['MLY-TAVG-STDDEV'] )\n",
    "\n",
    "# Set the y-axis label\n",
    "ax.set_ylabel('Temperature (Fahrenheit)')\n",
    "\n",
    "plt.show()"
   ]
  },
  {
   "cell_type": "markdown",
   "id": "a101b446",
   "metadata": {},
   "source": [
    "#### Creating boxplots"
   ]
  },
  {
   "cell_type": "code",
   "execution_count": null,
   "id": "5ed84c96",
   "metadata": {},
   "outputs": [],
   "source": [
    "fig, ax = plt.subplots()\n",
    "\n",
    "# Add a boxplot for the \"Height\" column in the DataFrames\n",
    "ax.boxplot([mens_rowing['Height'],mens_gymnastics['Height']])\n",
    "\n",
    "# Add x-axis tick labels:\n",
    "ax.set_xticklabels(['Rowing','Gymnastics'])\n",
    "\n",
    "# Add a y-axis label\n",
    "ax.set_ylabel('Height (cm)')\n",
    "\n",
    "plt.show()"
   ]
  },
  {
   "cell_type": "markdown",
   "id": "1e6072f2",
   "metadata": {},
   "source": [
    "#### Simple scatter plot"
   ]
  },
  {
   "cell_type": "code",
   "execution_count": null,
   "id": "2280c66a",
   "metadata": {},
   "outputs": [],
   "source": [
    "fig, ax = plt.subplots()\n",
    "\n",
    "# Add data: \"co2\" on x-axis, \"relative_temp\" on y-axis\n",
    "ax.scatter(climate_change['co2'], climate_change['relative_temp'])\n",
    "\n",
    "# Set the x-axis label to \"CO2 (ppm)\"\n",
    "ax.set_xlabel('CO2 (ppm)')\n",
    "\n",
    "# Set the y-axis label to \"Relative temperature (C)\"\n",
    "ax.set_ylabel('Relative temperature (C)')\n",
    "\n",
    "plt.show()"
   ]
  },
  {
   "cell_type": "markdown",
   "id": "12d68573",
   "metadata": {},
   "source": [
    "#### Encoding time by color"
   ]
  },
  {
   "cell_type": "code",
   "execution_count": null,
   "id": "79194d6d",
   "metadata": {},
   "outputs": [],
   "source": [
    "fig, ax = plt.subplots()\n",
    "\n",
    "# Add data: \"co2\", \"relative_temp\" as x-y, index as color\n",
    "ax.scatter(climate_change['co2'],climate_change['relative_temp'],c=climate_change.index)\n",
    "\n",
    "# Set the x-axis label to \"CO2 (ppm)\"\n",
    "ax.set_xlabel('CO2 (ppm)')\n",
    "\n",
    "# Set the y-axis label to \"Relative temperature (C)\"\n",
    "ax.set_ylabel('Relative temperature (C)')\n",
    "\n",
    "plt.show()"
   ]
  }
 ],
 "metadata": {
  "kernelspec": {
   "display_name": "Python 3 (ipykernel)",
   "language": "python",
   "name": "python3"
  },
  "language_info": {
   "codemirror_mode": {
    "name": "ipython",
    "version": 3
   },
   "file_extension": ".py",
   "mimetype": "text/x-python",
   "name": "python",
   "nbconvert_exporter": "python",
   "pygments_lexer": "ipython3",
   "version": "3.11.4"
  }
 },
 "nbformat": 4,
 "nbformat_minor": 5
}
