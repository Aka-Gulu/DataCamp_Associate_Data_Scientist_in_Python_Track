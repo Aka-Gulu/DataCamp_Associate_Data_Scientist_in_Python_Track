{
 "cells": [
  {
   "cell_type": "markdown",
   "id": "9ab28833",
   "metadata": {},
   "source": [
    "#### Switching between styles"
   ]
  },
  {
   "cell_type": "code",
   "execution_count": null,
   "id": "0b4498f1",
   "metadata": {},
   "outputs": [],
   "source": [
    "# Use the \"ggplot\" style and create new Figure/Axes\n",
    "plt.style.use('ggplot')\n",
    "fig,ax=plt.subplots()\n",
    "ax.plot(seattle_weather[\"MONTH\"], seattle_weather[\"MLY-TAVG-NORMAL\"])\n",
    "plt.show()"
   ]
  },
  {
   "cell_type": "code",
   "execution_count": null,
   "id": "af6035ea",
   "metadata": {},
   "outputs": [],
   "source": [
    "# Use the \"Solarize_Light2\" style and create new Figure/Axes\n",
    "plt.style.use('Solarize_Light2')\n",
    "fig,ax=plt.subplots()\n",
    "ax.plot(austin_weather[\"MONTH\"], austin_weather[\"MLY-TAVG-NORMAL\"])\n",
    "plt.show()"
   ]
  },
  {
   "cell_type": "markdown",
   "id": "fb135339",
   "metadata": {},
   "source": [
    "#### Saving a file several times"
   ]
  },
  {
   "cell_type": "code",
   "execution_count": null,
   "id": "58a559f7",
   "metadata": {},
   "outputs": [],
   "source": [
    "# Show the figure\n",
    "plt.show()"
   ]
  },
  {
   "cell_type": "code",
   "execution_count": null,
   "id": "2e5de63b",
   "metadata": {},
   "outputs": [],
   "source": [
    "# Save as a PNG file\n",
    "fig.savefig('my_figure.png')"
   ]
  },
  {
   "cell_type": "code",
   "execution_count": null,
   "id": "e44f6ec1",
   "metadata": {},
   "outputs": [],
   "source": [
    "# Save as a PNG file with 300 dpi\n",
    "fig.savefig('my_figure_300dpi.png',dpi=300)"
   ]
  },
  {
   "cell_type": "markdown",
   "id": "7f6769a6",
   "metadata": {},
   "source": [
    "#### Save a figure with different sizes"
   ]
  },
  {
   "cell_type": "code",
   "execution_count": null,
   "id": "0617cb02",
   "metadata": {},
   "outputs": [],
   "source": [
    "# Set figure dimensions and save as a PNG\n",
    "fig.set_size_inches([3,5])\n",
    "fig.savefig('figure_3_5.png',)"
   ]
  },
  {
   "cell_type": "code",
   "execution_count": null,
   "id": "29f1fd00",
   "metadata": {},
   "outputs": [],
   "source": [
    "# Set figure dimensions and save as a PNG\n",
    "fig.set_size_inches([5,3])\n",
    "fig.savefig('figure_5_3.png')"
   ]
  },
  {
   "cell_type": "markdown",
   "id": "3561c900",
   "metadata": {},
   "source": [
    "#### Unique values of a column"
   ]
  },
  {
   "cell_type": "code",
   "execution_count": null,
   "id": "df17a367",
   "metadata": {},
   "outputs": [],
   "source": [
    "# Extract the \"Sport\" column\n",
    "sports_column = summer_2016_medals['Sport']\n",
    "\n",
    "# Find the unique values of the \"Sport\" column\n",
    "sports = sports_column.unique()\n",
    "\n",
    "# Print out the unique sports values\n",
    "print(sports)"
   ]
  },
  {
   "cell_type": "markdown",
   "id": "edd0c8d7",
   "metadata": {},
   "source": [
    "#### Automate your visualization"
   ]
  },
  {
   "cell_type": "code",
   "execution_count": null,
   "id": "c9764289",
   "metadata": {},
   "outputs": [],
   "source": [
    "fig, ax = plt.subplots()\n",
    "\n",
    "# Loop over the different sports branches\n",
    "for sport in sports:\n",
    "  # Extract the rows only for this sport\n",
    "  sport_df = summer_2016_medals[summer_2016_medals['Sport']==sport]\n",
    "  # Add a bar for the \"Weight\" mean with std y error bar\n",
    "  ax.bar(sport,sport_df['Weight'].mean(),yerr=sport_df['Weight'].std())\n",
    "\n",
    "ax.set_ylabel(\"Weight\")\n",
    "ax.set_xticklabels(sports, rotation=90)\n",
    "\n",
    "# Save the figure to file\n",
    "fig.savefig('sports_weights.png')"
   ]
  }
 ],
 "metadata": {
  "kernelspec": {
   "display_name": "Python 3 (ipykernel)",
   "language": "python",
   "name": "python3"
  },
  "language_info": {
   "codemirror_mode": {
    "name": "ipython",
    "version": 3
   },
   "file_extension": ".py",
   "mimetype": "text/x-python",
   "name": "python",
   "nbconvert_exporter": "python",
   "pygments_lexer": "ipython3",
   "version": "3.11.4"
  }
 },
 "nbformat": 4,
 "nbformat_minor": 5
}
