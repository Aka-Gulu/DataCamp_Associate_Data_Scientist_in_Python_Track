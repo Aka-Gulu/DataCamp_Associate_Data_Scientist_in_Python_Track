{
 "cells": [
  {
   "cell_type": "markdown",
   "id": "ad143c1f",
   "metadata": {},
   "source": [
    "#### Read data with a time index"
   ]
  },
  {
   "cell_type": "code",
   "execution_count": null,
   "id": "98328009",
   "metadata": {},
   "outputs": [],
   "source": [
    "# Import pandas as pd\n",
    "import pandas as pd\n",
    "\n",
    "# Read the data from file using read_csv\n",
    "climate_change = pd.read_csv('climate_change.csv', parse_dates=['date'], index_col='date')"
   ]
  },
  {
   "cell_type": "markdown",
   "id": "7e01ef17",
   "metadata": {},
   "source": [
    "#### Plot time-series data"
   ]
  },
  {
   "cell_type": "code",
   "execution_count": null,
   "id": "09937c5e",
   "metadata": {},
   "outputs": [],
   "source": [
    "import matplotlib.pyplot as plt\n",
    "fig, ax = plt.subplots()\n",
    "\n",
    "# Add the time-series for \"relative_temp\" to the plot\n",
    "ax.plot(climate_change.index,climate_change['relative_temp'])\n",
    "\n",
    "# Set the x-axis label\n",
    "ax.set_xlabel('Time')\n",
    "\n",
    "# Set the y-axis label\n",
    "ax.set_ylabel('Relative temperature (Celsius)')\n",
    "\n",
    "# Show the figure\n",
    "plt.show()"
   ]
  },
  {
   "cell_type": "markdown",
   "id": "ca5ef183",
   "metadata": {},
   "source": [
    "#### Using a time index to zoom in"
   ]
  },
  {
   "cell_type": "code",
   "execution_count": null,
   "id": "f444f8e2",
   "metadata": {},
   "outputs": [],
   "source": [
    "import matplotlib.pyplot as plt\n",
    "\n",
    "# Use plt.subplots to create fig and ax\n",
    "fig,ax=plt.subplots()\n",
    "\n",
    "# Create variable seventies with data from \"1970-01-01\" to \"1979-12-31\"\n",
    "seventies = climate_change['1970-01-01':'1979-12-31']\n",
    "\n",
    "# Add the time-series for \"co2\" data from seventies to the plot\n",
    "ax.plot(seventies.index, seventies[\"co2\"])\n",
    "\n",
    "# Show the figure\n",
    "plt.show()"
   ]
  },
  {
   "cell_type": "markdown",
   "id": "d8d35dc2",
   "metadata": {},
   "source": [
    "#### Plotting two variables"
   ]
  },
  {
   "cell_type": "code",
   "execution_count": null,
   "id": "5cdabd0f",
   "metadata": {},
   "outputs": [],
   "source": [
    "import matplotlib.pyplot as plt\n",
    "\n",
    "# Initalize a Figure and Axes\n",
    "fig,ax = plt.subplots()\n",
    "\n",
    "# Plot the CO2 variable in blue\n",
    "ax.plot(climate_change.index,climate_change['co2'], color='blue')\n",
    "\n",
    "# Create a twin Axes that shares the x-axis\n",
    "ax2 = ax.twinx()\n",
    "\n",
    "# Plot the relative temperature in red\n",
    "ax2.plot(climate_change.index,climate_change['relative_temp'], color='red')\n",
    "\n",
    "plt.show()"
   ]
  },
  {
   "cell_type": "markdown",
   "id": "6c0df6a7",
   "metadata": {},
   "source": [
    "#### Defining a function that plots time-series data"
   ]
  },
  {
   "cell_type": "code",
   "execution_count": null,
   "id": "8cd6cf4d",
   "metadata": {},
   "outputs": [],
   "source": [
    "# Define a function called plot_timeseries\n",
    "def plot_timeseries(axes, x, y, color, xlabel, ylabel):\n",
    "\n",
    "  # Plot the inputs x,y in the provided color\n",
    "  axes.plot(x, y, color=color)\n",
    "\n",
    "  # Set the x-axis label\n",
    "  axes.set_xlabel(xlabel)\n",
    "\n",
    "  # Set the y-axis label\n",
    "  axes.set_ylabel(ylabel, color=color)\n",
    "\n",
    "  # Set the colors tick params for y-axis\n",
    "  axes.tick_params('y', colors=color)"
   ]
  },
  {
   "cell_type": "markdown",
   "id": "a7dd1db5",
   "metadata": {},
   "source": [
    "#### Using a plotting function"
   ]
  },
  {
   "cell_type": "code",
   "execution_count": null,
   "id": "a50cbd02",
   "metadata": {},
   "outputs": [],
   "source": [
    "fig, ax = plt.subplots()\n",
    "\n",
    "# Plot the CO2 levels time-series in blue\n",
    "plot_timeseries(ax, climate_change.index, climate_change['co2'], \"blue\", 'Time (years)', 'CO2 levels')\n",
    "\n",
    "# Create a twin Axes object that shares the x-axis\n",
    "ax2 = ax.twinx()\n",
    "\n",
    "# Plot the relative temperature data in red\n",
    "plot_timeseries(ax2, climate_change.index, climate_change['relative_temp'], \"red\", 'Time (years)', 'Relative temperature (Celsius)')\n",
    "\n",
    "plt.show()"
   ]
  },
  {
   "cell_type": "markdown",
   "id": "a0774708",
   "metadata": {},
   "source": [
    "#### Annotating a plot of time-series data"
   ]
  },
  {
   "cell_type": "code",
   "execution_count": null,
   "id": "2cd3e8b9",
   "metadata": {},
   "outputs": [],
   "source": [
    "fig, ax = plt.subplots()\n",
    "\n",
    "# Plot the relative temperature data\n",
    "ax.plot(climate_change.index,climate_change['relative_temp'])\n",
    "\n",
    "# Annotate the date at which temperatures exceeded 1 degree\n",
    "ax.annotate('>1 degree', xy=(pd.Timestamp('2015-10-06'),1))\n",
    "\n",
    "plt.show()"
   ]
  },
  {
   "cell_type": "markdown",
   "id": "0e4fbbbc",
   "metadata": {},
   "source": [
    "#### Plotting time-series: putting it all together"
   ]
  },
  {
   "cell_type": "code",
   "execution_count": null,
   "id": "f1f6a051",
   "metadata": {},
   "outputs": [],
   "source": [
    "fig, ax = plt.subplots()\n",
    "\n",
    "# Plot the CO2 levels time-series in blue\n",
    "plot_timeseries(ax, climate_change.index, climate_change['co2'], 'blue', 'Time (years)', 'CO2 levels')\n",
    "\n",
    "# Create an Axes object that shares the x-axis\n",
    "ax2 = ax.twinx()\n",
    "\n",
    "# Plot the relative temperature data in red\n",
    "plot_timeseries(ax2, climate_change.index, climate_change['relative_temp'], 'red', 'Time (years)', 'Relative temp (Celsius)')\n",
    "\n",
    "# Annotate point with relative temperature >1 degree\n",
    "ax2.annotate(\">1 degree\", xy=(pd.Timestamp('2015-10-06'),1), xytext=(pd.Timestamp('2008-10-06'),-0.2), arrowprops={'arrowstyle':'->','color':'gray'})\n",
    "\n",
    "plt.show()"
   ]
  }
 ],
 "metadata": {
  "kernelspec": {
   "display_name": "Python 3 (ipykernel)",
   "language": "python",
   "name": "python3"
  },
  "language_info": {
   "codemirror_mode": {
    "name": "ipython",
    "version": 3
   },
   "file_extension": ".py",
   "mimetype": "text/x-python",
   "name": "python",
   "nbconvert_exporter": "python",
   "pygments_lexer": "ipython3",
   "version": "3.11.4"
  }
 },
 "nbformat": 4,
 "nbformat_minor": 5
}
