{
 "cells": [
  {
   "cell_type": "markdown",
   "id": "ad2a821d",
   "metadata": {},
   "source": [
    "#### Using the matplotlib.pyplot interface"
   ]
  },
  {
   "cell_type": "code",
   "execution_count": null,
   "id": "6e0ccffd",
   "metadata": {},
   "outputs": [],
   "source": [
    "# Import the matplotlib.pyplot submodule and name it plt\n",
    "import matplotlib.pyplot as plt\n",
    "\n",
    "# Create a Figure and an Axes with plt.subplots\n",
    "fig, ax = plt.subplots()\n",
    "\n",
    "# Call the show function to show the result\n",
    "plt.show()"
   ]
  },
  {
   "cell_type": "markdown",
   "id": "30fc3fae",
   "metadata": {},
   "source": [
    "#### Adding data to an Axes object"
   ]
  },
  {
   "cell_type": "code",
   "execution_count": null,
   "id": "efbc8b32",
   "metadata": {},
   "outputs": [],
   "source": [
    "# Import the matplotlib.pyplot submodule and name it plt\n",
    "import matplotlib.pyplot as plt\n",
    "\n",
    "# Create a Figure and an Axes with plt.subplots\n",
    "fig, ax = plt.subplots()\n",
    "\n",
    "# Plot MLY-PRCP-NORMAL from seattle_weather against the MONTH\n",
    "ax.plot(seattle_weather[\"MONTH\"], seattle_weather[\"MLY-PRCP-NORMAL\"])\n",
    "\n",
    "# Plot MLY-PRCP-NORMAL from austin_weather against MONTH\n",
    "ax.plot(austin_weather['MONTH'], austin_weather['MLY-PRCP-NORMAL'])\n",
    "\n",
    "# Call the show function\n",
    "plt.show()"
   ]
  },
  {
   "cell_type": "markdown",
   "id": "38a5ecb1",
   "metadata": {},
   "source": [
    "#### Customizing data appearance"
   ]
  },
  {
   "cell_type": "code",
   "execution_count": null,
   "id": "20f4fdf0",
   "metadata": {},
   "outputs": [],
   "source": [
    "# Plot Seattle data, setting data appearance\n",
    "ax.plot(seattle_weather[\"MONTH\"], seattle_weather[\"MLY-PRCP-NORMAL\"], color='b',marker='o',linestyle='--')\n",
    "\n",
    "# Plot Austin data, setting data appearance\n",
    "ax.plot(austin_weather[\"MONTH\"], austin_weather[\"MLY-PRCP-NORMAL\"], color='r',marker='v',linestyle='--')\n",
    "\n",
    "# Call show to display the resulting plot\n",
    "plt.show()"
   ]
  },
  {
   "cell_type": "markdown",
   "id": "00462844",
   "metadata": {},
   "source": [
    "#### Customizing axis labels and adding titles"
   ]
  },
  {
   "cell_type": "code",
   "execution_count": null,
   "id": "9541e884",
   "metadata": {},
   "outputs": [],
   "source": [
    "ax.plot(seattle_weather[\"MONTH\"], seattle_weather[\"MLY-PRCP-NORMAL\"])\n",
    "ax.plot(austin_weather[\"MONTH\"], austin_weather[\"MLY-PRCP-NORMAL\"])\n",
    "\n",
    "# Customize the x-axis label\n",
    "ax.set_xlabel('Time (months)')\n",
    "\n",
    "# Customize the y-axis label\n",
    "ax.set_ylabel('Precipitation (inches)')\n",
    "\n",
    "# Add the title\n",
    "ax.set_title('Weather patterns in Austin and Seattle')\n",
    "\n",
    "# Display the figure\n",
    "plt.show()"
   ]
  },
  {
   "cell_type": "markdown",
   "id": "831e5b8d",
   "metadata": {},
   "source": [
    "#### Creating small multiples with plt.subplots"
   ]
  },
  {
   "cell_type": "code",
   "execution_count": null,
   "id": "09b3894c",
   "metadata": {},
   "outputs": [],
   "source": [
    "# Create a Figure and an array of subplots with 2 rows and 2 columns\n",
    "fig, ax = plt.subplots(2, 2)\n",
    "\n",
    "# Addressing the top left Axes as index 0, 0, plot month and Seattle precipitation\n",
    "ax[0, 0].plot(seattle_weather['MONTH'], seattle_weather['MLY-PRCP-NORMAL'])\n",
    "\n",
    "# In the top right (index 0,1), plot month and Seattle temperatures\n",
    "ax[0, 1].plot(seattle_weather['MONTH'], seattle_weather['MLY-TAVG-NORMAL'])\n",
    "\n",
    "# In the bottom left (1, 0) plot month and Austin precipitations\n",
    "ax[1,0].plot(austin_weather['MONTH'], austin_weather['MLY-PRCP-NORMAL'])\n",
    "\n",
    "# In the bottom right (1, 1) plot month and Austin temperatures\n",
    "ax[1,1].plot(austin_weather['MONTH'], austin_weather['MLY-TAVG-NORMAL'])\n",
    "plt.show()"
   ]
  },
  {
   "cell_type": "markdown",
   "id": "326ba5bb",
   "metadata": {},
   "source": [
    "#### Small multiples with shared y axis"
   ]
  },
  {
   "cell_type": "code",
   "execution_count": null,
   "id": "daac6a15",
   "metadata": {},
   "outputs": [],
   "source": [
    "# Create a figure and an array of axes: 2 rows, 1 column with shared y axis\n",
    "fig, ax = plt.subplots(2, 1, sharey=True)\n",
    "\n",
    "# Plot Seattle precipitation data in the top axes\n",
    "ax[0].plot(seattle_weather['MLY-PRCP-NORMAL'], color = 'b')\n",
    "ax[0].plot(seattle_weather['MLY-PRCP-25PCTL'], color = 'b', linestyle = '--')\n",
    "ax[0].plot(seattle_weather['MLY-PRCP-75PCTL'], color = 'b', linestyle = '--')\n",
    "\n",
    "# Plot Austin precipitation data in the bottom axes\n",
    "ax[1].plot(austin_weather['MLY-PRCP-NORMAL'], color = 'r')\n",
    "ax[1].plot(austin_weather['MLY-PRCP-25PCTL'], color = 'r', linestyle = '--')\n",
    "ax[1].plot(austin_weather['MLY-PRCP-75PCTL'], color = 'r', linestyle = '--')\n",
    "\n",
    "plt.show()"
   ]
  }
 ],
 "metadata": {
  "kernelspec": {
   "display_name": "Python 3 (ipykernel)",
   "language": "python",
   "name": "python3"
  },
  "language_info": {
   "codemirror_mode": {
    "name": "ipython",
    "version": 3
   },
   "file_extension": ".py",
   "mimetype": "text/x-python",
   "name": "python",
   "nbconvert_exporter": "python",
   "pygments_lexer": "ipython3",
   "version": "3.11.4"
  }
 },
 "nbformat": 4,
 "nbformat_minor": 5
}
