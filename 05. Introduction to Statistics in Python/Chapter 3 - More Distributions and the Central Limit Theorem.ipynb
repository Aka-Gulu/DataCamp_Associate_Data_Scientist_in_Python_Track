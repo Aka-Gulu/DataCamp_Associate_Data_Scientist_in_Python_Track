{
 "cells": [
  {
   "cell_type": "markdown",
   "id": "9bf0a8dd",
   "metadata": {},
   "source": [
    "#### Distribution of Amir's sales"
   ]
  },
  {
   "cell_type": "code",
   "execution_count": null,
   "id": "4657d55b",
   "metadata": {},
   "outputs": [],
   "source": [
    "# Histogram of amount with 10 bins and show plot\n",
    "amir_deals['amount'].hist(bins=10)\n",
    "plt.show()"
   ]
  },
  {
   "cell_type": "markdown",
   "id": "df07d75f",
   "metadata": {},
   "source": [
    "#### Probabilities from the normal distribution"
   ]
  },
  {
   "cell_type": "code",
   "execution_count": null,
   "id": "08fa8fe7",
   "metadata": {},
   "outputs": [],
   "source": [
    "# Probability of deal < 7500\n",
    "prob_less_7500 = norm.cdf(7500,5000,2000)\n",
    "\n",
    "print(prob_less_7500)"
   ]
  },
  {
   "cell_type": "code",
   "execution_count": null,
   "id": "005ba58e",
   "metadata": {},
   "outputs": [],
   "source": [
    "# Probability of deal > 1000\n",
    "prob_over_1000 = 1-norm.cdf(1000,5000,2000)\n",
    "\n",
    "print(prob_over_1000)"
   ]
  },
  {
   "cell_type": "code",
   "execution_count": null,
   "id": "d940c4c2",
   "metadata": {},
   "outputs": [],
   "source": [
    "# Probability of deal between 3000 and 7000\n",
    "prob_3000_to_7000 = norm.cdf(7000,5000,2000) - norm.cdf(3000,5000,2000)\n",
    "\n",
    "print(prob_3000_to_7000)"
   ]
  },
  {
   "cell_type": "code",
   "execution_count": null,
   "id": "1565916c",
   "metadata": {},
   "outputs": [],
   "source": [
    "# Calculate amount that 25% of deals will be less than\n",
    "pct_25 = norm.ppf(0.25,5000,2000)\n",
    "\n",
    "print(pct_25)"
   ]
  },
  {
   "cell_type": "markdown",
   "id": "4f0c3bb0",
   "metadata": {},
   "source": [
    "#### Simulating sales under new market conditions"
   ]
  },
  {
   "cell_type": "code",
   "execution_count": null,
   "id": "698db210",
   "metadata": {},
   "outputs": [],
   "source": [
    "# Calculate new average amount\n",
    "new_mean = 5000 * 1.2\n",
    "\n",
    "# Calculate new standard deviation\n",
    "new_sd = 2000 * 1.3\n",
    "\n",
    "# Simulate 36 new sales\n",
    "new_sales = norm.rvs(new_mean,new_sd,size=36)\n",
    "\n",
    "# Create histogram and show\n",
    "plt.hist(new_sales,bins=15)\n",
    "plt.show()"
   ]
  },
  {
   "cell_type": "markdown",
   "id": "d1e586d5",
   "metadata": {},
   "source": [
    "#### The CLT in action"
   ]
  },
  {
   "cell_type": "code",
   "execution_count": null,
   "id": "56fd25f3",
   "metadata": {},
   "outputs": [],
   "source": [
    "# Create a histogram of num_users and show\n",
    "amir_deals['num_users'].hist()\n",
    "plt.show()"
   ]
  },
  {
   "cell_type": "code",
   "execution_count": null,
   "id": "69c74e14",
   "metadata": {},
   "outputs": [],
   "source": [
    "# Set seed to 104\n",
    "np.random.seed(104)\n",
    "\n",
    "# Sample 20 num_users with replacement from amir_deals\n",
    "samp_20 = amir_deals['num_users'].sample(20,replace=True)\n",
    "\n",
    "# Take mean of samp_20\n",
    "print(np.mean(samp_20))"
   ]
  },
  {
   "cell_type": "code",
   "execution_count": null,
   "id": "8ca6a615",
   "metadata": {},
   "outputs": [],
   "source": [
    "# Set seed to 104\n",
    "np.random.seed(104)\n",
    "\n",
    "# Sample 20 num_users with replacement from amir_deals and take mean\n",
    "samp_20 = amir_deals['num_users'].sample(20, replace=True)\n",
    "np.mean(samp_20)\n",
    "\n",
    "sample_means = []\n",
    "# Loop 100 times\n",
    "for i in range(100):\n",
    "  # Take sample of 20 num_users\n",
    "  samp_20 = amir_deals['num_users'].sample(20,replace=True)\n",
    "  # Calculate mean of samp_20\n",
    "  samp_20_mean = np.mean(samp_20)\n",
    "  # Append samp_20_mean to sample_means\n",
    "  sample_means.append(samp_20_mean)\n",
    "  \n",
    "print(sample_means)"
   ]
  },
  {
   "cell_type": "code",
   "execution_count": null,
   "id": "eae35db8",
   "metadata": {},
   "outputs": [],
   "source": [
    "# Set seed to 104\n",
    "np.random.seed(104)\n",
    "\n",
    "sample_means = []\n",
    "# Loop 100 times\n",
    "for i in range(100):\n",
    "  # Take sample of 20 num_users\n",
    "  samp_20 = amir_deals['num_users'].sample(20, replace=True)\n",
    "  # Calculate mean of samp_20\n",
    "  samp_20_mean = np.mean(samp_20)\n",
    "  # Append samp_20_mean to sample_means\n",
    "  sample_means.append(samp_20_mean)\n",
    "  \n",
    "# Convert to Series and plot histogram\n",
    "sample_means_series = pd.Series(sample_means)\n",
    "sample_means_series.hist()\n",
    "# Show plot\n",
    "plt.show()"
   ]
  },
  {
   "cell_type": "markdown",
   "id": "0e3d8e5f",
   "metadata": {},
   "source": [
    "#### The mean of means"
   ]
  },
  {
   "cell_type": "code",
   "execution_count": null,
   "id": "f4acbc49",
   "metadata": {},
   "outputs": [],
   "source": [
    "# Set seed to 321\n",
    "np.random.seed(321)\n",
    "\n",
    "sample_means = []\n",
    "# Loop 30 times to take 30 means\n",
    "for i in range(30):\n",
    "  # Take sample of size 20 from num_users col of all_deals with replacement\n",
    "  cur_sample = all_deals['num_users'].sample(20,replace=True)\n",
    "  # Take mean of cur_sample\n",
    "  cur_mean = np.mean(cur_sample)\n",
    "  # Append cur_mean to sample_means\n",
    "  sample_means.append(cur_mean)\n",
    "\n",
    "# Print mean of sample_means\n",
    "print(np.mean(sample_means))\n",
    "\n",
    "# Print mean of num_users in amir_deals\n",
    "print(np.mean(amir_deals['num_users']))"
   ]
  },
  {
   "cell_type": "markdown",
   "id": "51e0d02b",
   "metadata": {},
   "source": [
    "#### Tracking lead responses"
   ]
  },
  {
   "cell_type": "code",
   "execution_count": null,
   "id": "dbf2bdbc",
   "metadata": {},
   "outputs": [],
   "source": [
    "# Import poisson from scipy.stats\n",
    "from scipy.stats import poisson\n",
    "\n",
    "# Probability of 5 responses\n",
    "prob_5 = poisson.pmf(5,4)\n",
    "\n",
    "print(prob_5)"
   ]
  },
  {
   "cell_type": "code",
   "execution_count": null,
   "id": "ebc4bd1a",
   "metadata": {},
   "outputs": [],
   "source": [
    "# Import poisson from scipy.stats\n",
    "from scipy.stats import poisson\n",
    "\n",
    "# Probability of 5 responses\n",
    "prob_coworker = poisson.pmf(5,5.5)\n",
    "\n",
    "print(prob_coworker)"
   ]
  },
  {
   "cell_type": "code",
   "execution_count": null,
   "id": "044a55a9",
   "metadata": {},
   "outputs": [],
   "source": [
    "# Import poisson from scipy.stats\n",
    "from scipy.stats import poisson\n",
    "\n",
    "# Probability of 2 or fewer responses\n",
    "prob_2_or_less = poisson.cdf(2,4)\n",
    "\n",
    "print(prob_2_or_less)"
   ]
  },
  {
   "cell_type": "code",
   "execution_count": null,
   "id": "64a36b53",
   "metadata": {},
   "outputs": [],
   "source": [
    "# Import poisson from scipy.stats\n",
    "from scipy.stats import poisson\n",
    "\n",
    "# Probability of > 10 responses\n",
    "prob_over_10 = 1-poisson.cdf(10,4)\n",
    "\n",
    "print(prob_over_10)"
   ]
  },
  {
   "cell_type": "markdown",
   "id": "ce0f0efe",
   "metadata": {},
   "source": [
    "#### Modeling time between leads"
   ]
  },
  {
   "cell_type": "code",
   "execution_count": null,
   "id": "ba099f28",
   "metadata": {},
   "outputs": [],
   "source": [
    "# Import expon from scipy.stats\n",
    "from scipy.stats import expon\n",
    "\n",
    "# Print probability response takes < 1 hour\n",
    "print(expon.cdf(1, scale=2.5))"
   ]
  },
  {
   "cell_type": "code",
   "execution_count": null,
   "id": "2e50f311",
   "metadata": {},
   "outputs": [],
   "source": [
    "# Import expon from scipy.stats\n",
    "from scipy.stats import expon\n",
    "\n",
    "# Print probability response takes > 4 hours\n",
    "print(1-expon.cdf(4,scale=2.5))"
   ]
  },
  {
   "cell_type": "code",
   "execution_count": null,
   "id": "fb239a08",
   "metadata": {},
   "outputs": [],
   "source": [
    "# Import expon from scipy.stats\n",
    "from scipy.stats import expon\n",
    "\n",
    "# Print probability response takes 3-4 hours\n",
    "print(expon.cdf(4,scale=2.5) - expon.cdf(3,scale=2.5))"
   ]
  }
 ],
 "metadata": {
  "kernelspec": {
   "display_name": "Python 3 (ipykernel)",
   "language": "python",
   "name": "python3"
  },
  "language_info": {
   "codemirror_mode": {
    "name": "ipython",
    "version": 3
   },
   "file_extension": ".py",
   "mimetype": "text/x-python",
   "name": "python",
   "nbconvert_exporter": "python",
   "pygments_lexer": "ipython3",
   "version": "3.11.4"
  }
 },
 "nbformat": 4,
 "nbformat_minor": 5
}
