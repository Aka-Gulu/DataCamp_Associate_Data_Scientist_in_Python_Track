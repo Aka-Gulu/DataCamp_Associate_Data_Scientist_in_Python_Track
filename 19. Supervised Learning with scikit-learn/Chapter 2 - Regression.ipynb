{
 "cells": [
  {
   "cell_type": "markdown",
   "id": "f94a0a03",
   "metadata": {},
   "source": [
    "#### Creating features"
   ]
  },
  {
   "cell_type": "code",
   "execution_count": null,
   "id": "32e60c27",
   "metadata": {},
   "outputs": [],
   "source": [
    "import numpy as np\n",
    "\n",
    "# Create X from the radio column's values\n",
    "X = sales_df['radio'].values\n",
    "\n",
    "# Create y from the sales column's values\n",
    "y = sales_df['sales']\n",
    "\n",
    "# Reshape X\n",
    "X = X.reshape(-1,1)\n",
    "\n",
    "# Check the shape of the features and targets\n",
    "print(X.shape,y.shape)"
   ]
  },
  {
   "cell_type": "markdown",
   "id": "efa72849",
   "metadata": {},
   "source": [
    "#### Building a linear regression model"
   ]
  },
  {
   "cell_type": "code",
   "execution_count": null,
   "id": "7cecc778",
   "metadata": {},
   "outputs": [],
   "source": [
    "# Import LinearRegression\n",
    "from sklearn.linear_model import LinearRegression\n",
    "\n",
    "# Create the model\n",
    "reg = LinearRegression()\n",
    "\n",
    "# Fit the model to the data\n",
    "reg.fit(X,y)\n",
    "\n",
    "# Make predictions\n",
    "predictions = reg.predict(X)\n",
    "\n",
    "print(predictions[:5])"
   ]
  },
  {
   "cell_type": "markdown",
   "id": "ea55152f",
   "metadata": {},
   "source": [
    "#### Visualizing a linear regression model"
   ]
  },
  {
   "cell_type": "code",
   "execution_count": null,
   "id": "1c796d2d",
   "metadata": {},
   "outputs": [],
   "source": [
    "# Import matplotlib.pyplot\n",
    "import matplotlib.pyplot as plt\n",
    "\n",
    "# Create scatter plot\n",
    "plt.scatter(X, y, color=\"b\")\n",
    "\n",
    "# Create line plot\n",
    "plt.plot(X, predictions, color=\"r\")\n",
    "plt.xlabel(\"Radio Expenditure ($)\")\n",
    "plt.ylabel(\"Sales ($)\")\n",
    "\n",
    "# Display the plot\n",
    "plt.show()"
   ]
  },
  {
   "cell_type": "markdown",
   "id": "03bd929e",
   "metadata": {},
   "source": [
    "#### Fit and predict for regression"
   ]
  },
  {
   "cell_type": "code",
   "execution_count": null,
   "id": "f658873b",
   "metadata": {},
   "outputs": [],
   "source": [
    "# Create X and y arrays\n",
    "X = sales_df.drop(\"sales\", axis=1).values\n",
    "y = sales_df[\"sales\"].values\n",
    "\n",
    "X_train, X_test, y_train, y_test = train_test_split(X, y, test_size=0.3, random_state=42)\n",
    "\n",
    "# Instantiate the model\n",
    "reg = LinearRegression()\n",
    "\n",
    "# Fit the model to the data\n",
    "reg.fit(X_train,y_train)\n",
    "\n",
    "# Make predictions\n",
    "y_pred = reg.predict(X_test)\n",
    "print(\"Predictions: {}, Actual Values: {}\".format(y_pred[:2], y_test[:2]))"
   ]
  },
  {
   "cell_type": "markdown",
   "id": "9e1d7643",
   "metadata": {},
   "source": [
    "#### Regression performance"
   ]
  },
  {
   "cell_type": "code",
   "execution_count": null,
   "id": "b716c552",
   "metadata": {},
   "outputs": [],
   "source": [
    "# Import mean_squared_error\n",
    "from sklearn.metrics import mean_squared_error\n",
    "\n",
    "# Compute R-squared\n",
    "r_squared = reg.score(X_test, y_test)\n",
    "\n",
    "# Compute RMSE\n",
    "rmse = mean_squared_error(y_test, y_pred, squared=False)\n",
    "\n",
    "# Print the metrics\n",
    "print(\"R^2: {}\".format(r_squared))\n",
    "print(\"RMSE: {}\".format(rmse))"
   ]
  },
  {
   "cell_type": "markdown",
   "id": "21dbf418",
   "metadata": {},
   "source": [
    "#### Cross-validation for R-squared"
   ]
  },
  {
   "cell_type": "code",
   "execution_count": null,
   "id": "341613b9",
   "metadata": {},
   "outputs": [],
   "source": [
    "# Import the necessary modules\n",
    "from sklearn.model_selection import cross_val_score, KFold\n",
    "\n",
    "# Create a KFold object\n",
    "kf = KFold(n_splits=6, shuffle=True, random_state=5)\n",
    "\n",
    "reg = LinearRegression()\n",
    "\n",
    "# Compute 6-fold cross-validation scores\n",
    "cv_scores = cross_val_score(reg, X, y, cv=kf)\n",
    "\n",
    "# Print scores\n",
    "print(cv_scores)"
   ]
  },
  {
   "cell_type": "markdown",
   "id": "e034e759",
   "metadata": {},
   "source": [
    "#### Analyzing cross-validation metrics"
   ]
  },
  {
   "cell_type": "code",
   "execution_count": null,
   "id": "e5c5fc3e",
   "metadata": {},
   "outputs": [],
   "source": [
    "# Print the mean\n",
    "print(np.mean(cv_results))\n",
    "\n",
    "# Print the standard deviation\n",
    "print(np.std(cv_results))\n",
    "\n",
    "# Print the 95% confidence interval\n",
    "print(np.quantile(cv_results, [0.025, 0.975]))"
   ]
  },
  {
   "cell_type": "markdown",
   "id": "4fd800c5",
   "metadata": {},
   "source": [
    "#### Regularized regression: Ridge"
   ]
  },
  {
   "cell_type": "code",
   "execution_count": null,
   "id": "ae46c8ff",
   "metadata": {},
   "outputs": [],
   "source": [
    "# Import Ridge\n",
    "from sklearn.linear_model import Ridge\n",
    "alphas = [0.1, 1.0, 10.0, 100.0, 1000.0, 10000.0]\n",
    "ridge_scores = []\n",
    "for alpha in alphas:\n",
    "  \n",
    "  # Create a Ridge regression model\n",
    "  ridge = Ridge(alpha=alpha)\n",
    "  \n",
    "  # Fit the data\n",
    "  ridge.fit(X_train,y_train)\n",
    "  y_pred = ridge.predict(X_test)\n",
    "  # Obtain R-squared\n",
    "  score = ridge.score(X_test,y_test)\n",
    "  ridge_scores.append(score)\n",
    "print(ridge_scores)"
   ]
  },
  {
   "cell_type": "markdown",
   "id": "908c2936",
   "metadata": {},
   "source": [
    "#### Lasso regression for feature importance"
   ]
  },
  {
   "cell_type": "code",
   "execution_count": null,
   "id": "ed9150e4",
   "metadata": {},
   "outputs": [],
   "source": [
    "# Import Lasso\n",
    "from sklearn.linear_model import Lasso\n",
    "\n",
    "# Instantiate a lasso regression model\n",
    "lasso = Lasso(alpha=0.3)\n",
    "\n",
    "# Fit the model to the data\n",
    "lasso.fit(X,y)\n",
    "\n",
    "# Compute and print the coefficients\n",
    "lasso_coef = lasso.coef_\n",
    "print(lasso_coef)\n",
    "plt.bar(sales_columns, lasso_coef)\n",
    "plt.xticks(rotation=45)\n",
    "plt.show()"
   ]
  }
 ],
 "metadata": {
  "kernelspec": {
   "display_name": "Python 3 (ipykernel)",
   "language": "python",
   "name": "python3"
  },
  "language_info": {
   "codemirror_mode": {
    "name": "ipython",
    "version": 3
   },
   "file_extension": ".py",
   "mimetype": "text/x-python",
   "name": "python",
   "nbconvert_exporter": "python",
   "pygments_lexer": "ipython3",
   "version": "3.11.4"
  }
 },
 "nbformat": 4,
 "nbformat_minor": 5
}
