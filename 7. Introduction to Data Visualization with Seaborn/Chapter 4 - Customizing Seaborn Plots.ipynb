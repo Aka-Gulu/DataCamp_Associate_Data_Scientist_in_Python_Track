{
 "cells": [
  {
   "cell_type": "markdown",
   "id": "7a3c49b0",
   "metadata": {},
   "source": [
    "#### Changing style and palette"
   ]
  },
  {
   "cell_type": "code",
   "execution_count": null,
   "id": "d733dee0",
   "metadata": {},
   "outputs": [],
   "source": [
    "# Set the style to \"whitegrid\"\n",
    "sns.set_style('whitegrid')\n",
    "\n",
    "# Create a count plot of survey responses\n",
    "category_order = [\"Never\", \"Rarely\", \"Sometimes\", \n",
    "                  \"Often\", \"Always\"]\n",
    "\n",
    "sns.catplot(x=\"Parents Advice\", \n",
    "            data=survey_data, \n",
    "            kind=\"count\", \n",
    "            order=category_order)\n",
    "\n",
    "# Show plot\n",
    "plt.show()"
   ]
  },
  {
   "cell_type": "code",
   "execution_count": null,
   "id": "9a6b2fed",
   "metadata": {},
   "outputs": [],
   "source": [
    "# Set the color palette to \"Purples\"\n",
    "sns.set_style(\"whitegrid\")\n",
    "sns.set_palette('Purples')\n",
    "\n",
    "# Create a count plot of survey responses\n",
    "category_order = [\"Never\", \"Rarely\", \"Sometimes\", \n",
    "                  \"Often\", \"Always\"]\n",
    "\n",
    "sns.catplot(x=\"Parents Advice\", \n",
    "            data=survey_data, \n",
    "            kind=\"count\", \n",
    "            order=category_order)\n",
    "\n",
    "# Show plot\n",
    "plt.show()"
   ]
  },
  {
   "cell_type": "code",
   "execution_count": null,
   "id": "0ac1f1be",
   "metadata": {},
   "outputs": [],
   "source": [
    "# Change the color palette to \"RdBu\"\n",
    "sns.set_style(\"whitegrid\")\n",
    "sns.set_palette(\"RdBu\")\n",
    "\n",
    "# Create a count plot of survey responses\n",
    "category_order = [\"Never\", \"Rarely\", \"Sometimes\", \n",
    "                  \"Often\", \"Always\"]\n",
    "\n",
    "sns.catplot(x=\"Parents Advice\", \n",
    "            data=survey_data, \n",
    "            kind=\"count\", \n",
    "            order=category_order)\n",
    "\n",
    "# Show plot\n",
    "plt.show()"
   ]
  },
  {
   "cell_type": "markdown",
   "id": "b935f760",
   "metadata": {},
   "source": [
    "#### Changing the scale"
   ]
  },
  {
   "cell_type": "code",
   "execution_count": null,
   "id": "b6b96c88",
   "metadata": {},
   "outputs": [],
   "source": [
    "# Set the context to \"paper\"\n",
    "sns.set_context('paper')\n",
    "\n",
    "# Create bar plot\n",
    "sns.catplot(x=\"Number of Siblings\", y=\"Feels Lonely\",\n",
    "            data=survey_data, kind=\"bar\")\n",
    "\n",
    "# Show plot\n",
    "plt.show()"
   ]
  },
  {
   "cell_type": "code",
   "execution_count": null,
   "id": "d63053c1",
   "metadata": {},
   "outputs": [],
   "source": [
    "# Change the context to \"notebook\"\n",
    "sns.set_context(\"notebook\")\n",
    "\n",
    "# Create bar plot\n",
    "sns.catplot(x=\"Number of Siblings\", y=\"Feels Lonely\",\n",
    "            data=survey_data, kind=\"bar\")\n",
    "\n",
    "# Show plot\n",
    "plt.show()"
   ]
  },
  {
   "cell_type": "code",
   "execution_count": null,
   "id": "871b34e0",
   "metadata": {},
   "outputs": [],
   "source": [
    "# Change the context to \"talk\"\n",
    "sns.set_context(\"talk\")\n",
    "\n",
    "# Create bar plot\n",
    "sns.catplot(x=\"Number of Siblings\", y=\"Feels Lonely\",\n",
    "            data=survey_data, kind=\"bar\")\n",
    "\n",
    "# Show plot\n",
    "plt.show()"
   ]
  },
  {
   "cell_type": "code",
   "execution_count": null,
   "id": "cdae74ad",
   "metadata": {},
   "outputs": [],
   "source": [
    "# Change the context to \"poster\"\n",
    "sns.set_context(\"poster\")\n",
    "\n",
    "# Create bar plot\n",
    "sns.catplot(x=\"Number of Siblings\", y=\"Feels Lonely\",\n",
    "            data=survey_data, kind=\"bar\")\n",
    "\n",
    "# Show plot\n",
    "plt.show()"
   ]
  },
  {
   "cell_type": "markdown",
   "id": "339d1132",
   "metadata": {},
   "source": [
    "#### Using a custom palette"
   ]
  },
  {
   "cell_type": "code",
   "execution_count": null,
   "id": "47973334",
   "metadata": {},
   "outputs": [],
   "source": [
    "# Set the style to \"darkgrid\"\n",
    "sns.set_style('darkgrid')\n",
    "\n",
    "# Set a custom color palette\n",
    "sns.set_palette(['#39A7D0','#36ADA4'])\n",
    "\n",
    "# Create the box plot of age distribution by gender\n",
    "sns.catplot(x=\"Gender\", y=\"Age\", \n",
    "            data=survey_data, kind=\"box\")\n",
    "\n",
    "# Show plot\n",
    "plt.show()"
   ]
  },
  {
   "cell_type": "markdown",
   "id": "fc52614f",
   "metadata": {},
   "source": [
    "#### FacetGrids vs. AxesSubplots"
   ]
  },
  {
   "cell_type": "code",
   "execution_count": null,
   "id": "be27dff3",
   "metadata": {},
   "outputs": [],
   "source": [
    "# Create scatter plot\n",
    "g = sns.relplot(x=\"weight\", \n",
    "                y=\"horsepower\", \n",
    "                data=mpg,\n",
    "                kind=\"scatter\")\n",
    "\n",
    "# Identify plot type\n",
    "type_of_g = type(g)\n",
    "\n",
    "# Print type\n",
    "print(type_of_g)"
   ]
  },
  {
   "cell_type": "markdown",
   "id": "063e1408",
   "metadata": {},
   "source": [
    "#### Adding a title to a FacetGrid object"
   ]
  },
  {
   "cell_type": "code",
   "execution_count": null,
   "id": "fa490d5b",
   "metadata": {},
   "outputs": [],
   "source": [
    "# Create scatter plot\n",
    "g = sns.relplot(x=\"weight\", \n",
    "                y=\"horsepower\", \n",
    "                data=mpg,\n",
    "                kind=\"scatter\")\n",
    "\n",
    "# Add a title \"Car Weight vs. Horsepower\"\n",
    "g.fig.suptitle('Car Weight vs. Horsepower')\n",
    "\n",
    "# Show plot\n",
    "plt.show()"
   ]
  },
  {
   "cell_type": "markdown",
   "id": "aceb50fd",
   "metadata": {},
   "source": [
    "#### Adding a title and axis labels"
   ]
  },
  {
   "cell_type": "code",
   "execution_count": null,
   "id": "a222529e",
   "metadata": {},
   "outputs": [],
   "source": [
    "# Create line plot\n",
    "g = sns.lineplot(x=\"model_year\", y=\"mpg_mean\", \n",
    "                 data=mpg_mean,\n",
    "                 hue=\"origin\")\n",
    "\n",
    "# Add a title \"Average MPG Over Time\"\n",
    "g.set_title('Average MPG Over Time')\n",
    "\n",
    "# Show plot\n",
    "plt.show()"
   ]
  },
  {
   "cell_type": "code",
   "execution_count": null,
   "id": "8410d521",
   "metadata": {},
   "outputs": [],
   "source": [
    "# Create line plot\n",
    "g = sns.lineplot(x=\"model_year\", y=\"mpg_mean\", \n",
    "                 data=mpg_mean,\n",
    "                 hue=\"origin\")\n",
    "\n",
    "# Add a title \"Average MPG Over Time\"\n",
    "g.set_title(\"Average MPG Over Time\")\n",
    "\n",
    "# Add x-axis and y-axis labels\n",
    "g.set(xlabel='Car Model Year',ylabel='Average MPG')\n",
    "\n",
    "\n",
    "# Show plot\n",
    "plt.show()"
   ]
  },
  {
   "cell_type": "markdown",
   "id": "ad73f042",
   "metadata": {},
   "source": [
    "#### Rotating x-tick labels"
   ]
  },
  {
   "cell_type": "code",
   "execution_count": null,
   "id": "6f6bb7ea",
   "metadata": {},
   "outputs": [],
   "source": [
    "# Create point plot\n",
    "sns.catplot(x=\"origin\", \n",
    "            y=\"acceleration\", \n",
    "            data=mpg, \n",
    "            kind=\"point\", \n",
    "            join=False, \n",
    "            capsize=0.1)\n",
    "\n",
    "# Rotate x-tick labels\n",
    "plt.xticks(rotation=90)\n",
    "\n",
    "# Show plot\n",
    "plt.show()"
   ]
  },
  {
   "cell_type": "markdown",
   "id": "1e241091",
   "metadata": {},
   "source": [
    "#### Box plot with subgroups"
   ]
  },
  {
   "cell_type": "code",
   "execution_count": null,
   "id": "24938ef5",
   "metadata": {},
   "outputs": [],
   "source": [
    "# Set palette to \"Blues\"\n",
    "sns.set_palette('Blues')\n",
    "\n",
    "# Adjust to add subgroups based on \"Interested in Pets\"\n",
    "g = sns.catplot(x=\"Gender\",\n",
    "                y=\"Age\", data=survey_data, \n",
    "                kind=\"box\", hue='Interested in Pets')\n",
    "\n",
    "# Set title to \"Age of Those Interested in Pets vs. Not\"\n",
    "g.fig.suptitle('Age of Those Interested in Pets vs. Not')\n",
    "\n",
    "# Show plot\n",
    "plt.show()"
   ]
  },
  {
   "cell_type": "markdown",
   "id": "f949d1fb",
   "metadata": {},
   "source": [
    "#### Bar plot with subgroups and subplots"
   ]
  },
  {
   "cell_type": "code",
   "execution_count": null,
   "id": "d06ac0e5",
   "metadata": {},
   "outputs": [],
   "source": [
    "# Set the figure style to \"dark\"\n",
    "sns.set_style('dark')\n",
    "\n",
    "# Adjust to add subplots per gender\n",
    "g = sns.catplot(x=\"Village - town\", y=\"Likes Techno\", \n",
    "                data=survey_data, kind=\"bar\",\n",
    "                col='Gender')\n",
    "\n",
    "# Add title and axis labels\n",
    "g.fig.suptitle(\"Percentage of Young People Who Like Techno\", y=1.02)\n",
    "g.set(xlabel=\"Location of Residence\", \n",
    "       ylabel=\"% Who Like Techno\")\n",
    "\n",
    "# Show plot\n",
    "plt.show()"
   ]
  }
 ],
 "metadata": {
  "kernelspec": {
   "display_name": "Python 3 (ipykernel)",
   "language": "python",
   "name": "python3"
  },
  "language_info": {
   "codemirror_mode": {
    "name": "ipython",
    "version": 3
   },
   "file_extension": ".py",
   "mimetype": "text/x-python",
   "name": "python",
   "nbconvert_exporter": "python",
   "pygments_lexer": "ipython3",
   "version": "3.11.4"
  }
 },
 "nbformat": 4,
 "nbformat_minor": 5
}
