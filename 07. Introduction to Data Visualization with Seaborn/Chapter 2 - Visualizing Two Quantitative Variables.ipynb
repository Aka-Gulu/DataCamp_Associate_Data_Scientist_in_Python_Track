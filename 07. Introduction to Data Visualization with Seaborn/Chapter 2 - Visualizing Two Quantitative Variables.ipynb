{
 "cells": [
  {
   "cell_type": "markdown",
   "id": "b6e8a8d8",
   "metadata": {},
   "source": [
    "#### Creating subplots with col and row"
   ]
  },
  {
   "cell_type": "code",
   "execution_count": null,
   "id": "c937055b",
   "metadata": {},
   "outputs": [],
   "source": [
    "# Change to use relplot() instead of scatterplot()\n",
    "sns.relplot(x=\"absences\", y=\"G3\", \n",
    "                data=student_data,kind='scatter')\n",
    "\n",
    "# Show plot\n",
    "plt.show()"
   ]
  },
  {
   "cell_type": "code",
   "execution_count": null,
   "id": "36f7f69d",
   "metadata": {},
   "outputs": [],
   "source": [
    "# Change to make subplots based on study time\n",
    "sns.relplot(x=\"absences\", y=\"G3\", \n",
    "            data=student_data,\n",
    "            kind=\"scatter\",col='study_time')\n",
    "\n",
    "# Show plot\n",
    "plt.show()"
   ]
  },
  {
   "cell_type": "code",
   "execution_count": null,
   "id": "c544d9cb",
   "metadata": {},
   "outputs": [],
   "source": [
    "# Change this scatter plot to arrange the plots in rows instead of columns\n",
    "sns.relplot(x=\"absences\", y=\"G3\", \n",
    "            data=student_data,\n",
    "            kind=\"scatter\", \n",
    "            row=\"study_time\")\n",
    "\n",
    "# Show plot\n",
    "plt.show()"
   ]
  },
  {
   "cell_type": "markdown",
   "id": "a5b36b7e",
   "metadata": {},
   "source": [
    "#### Creating two-factor subplots"
   ]
  },
  {
   "cell_type": "code",
   "execution_count": null,
   "id": "b288219d",
   "metadata": {},
   "outputs": [],
   "source": [
    "# Create a scatter plot of G1 vs. G3\n",
    "sns.relplot(x='G1',y='G3',data=student_data,kind='scatter')\n",
    "\n",
    "\n",
    "\n",
    "# Show plot\n",
    "plt.show()"
   ]
  },
  {
   "cell_type": "code",
   "execution_count": null,
   "id": "ed2a6f46",
   "metadata": {},
   "outputs": [],
   "source": [
    "# Adjust to add subplots based on school support\n",
    "sns.relplot(x=\"G1\", y=\"G3\", \n",
    "            data=student_data,\n",
    "            kind=\"scatter\",\n",
    "            col='schoolsup',\n",
    "            col_order=['yes','no'])\n",
    "\n",
    "# Show plot\n",
    "plt.show()"
   ]
  },
  {
   "cell_type": "code",
   "execution_count": null,
   "id": "bb9568c3",
   "metadata": {},
   "outputs": [],
   "source": [
    "# Adjust further to add subplots based on family support\n",
    "sns.relplot(x=\"G1\", y=\"G3\", \n",
    "            data=student_data,\n",
    "            kind=\"scatter\",\n",
    "            col='schoolsup',\n",
    "            col_order=['yes','no'], \n",
    "            row=\"famsup\",\n",
    "            row_order=[\"yes\", \"no\"])\n",
    "\n",
    "# Show plot\n",
    "plt.show()"
   ]
  },
  {
   "cell_type": "markdown",
   "id": "4ca0d4a8",
   "metadata": {},
   "source": [
    "#### Changing the size of scatter plot points"
   ]
  },
  {
   "cell_type": "code",
   "execution_count": null,
   "id": "da36257d",
   "metadata": {},
   "outputs": [],
   "source": [
    "# Import Matplotlib and Seaborn\n",
    "import matplotlib.pyplot as plt\n",
    "import seaborn as sns\n",
    "\n",
    "# Create scatter plot of horsepower vs. mpg\n",
    "sns.relplot(x='horsepower',y='mpg',data=mpg,kind='scatter',size='cylinders')\n",
    "\n",
    "\n",
    "\n",
    "# Show plot\n",
    "plt.show()"
   ]
  },
  {
   "cell_type": "code",
   "execution_count": null,
   "id": "a52cb0d6",
   "metadata": {},
   "outputs": [],
   "source": [
    "# Import Matplotlib and Seaborn\n",
    "import matplotlib.pyplot as plt\n",
    "import seaborn as sns\n",
    "\n",
    "# Create scatter plot of horsepower vs. mpg\n",
    "sns.relplot(x=\"horsepower\", y=\"mpg\", \n",
    "            data=mpg, kind=\"scatter\", \n",
    "            size=\"cylinders\",\n",
    "            hue='cylinders')\n",
    "\n",
    "# Show plot\n",
    "plt.show()"
   ]
  },
  {
   "cell_type": "markdown",
   "id": "ec221c1a",
   "metadata": {},
   "source": [
    "#### Changing the style of scatter plot points"
   ]
  },
  {
   "cell_type": "code",
   "execution_count": null,
   "id": "b7aeb31f",
   "metadata": {},
   "outputs": [],
   "source": [
    "# Import Matplotlib and Seaborn\n",
    "import matplotlib.pyplot as plt\n",
    "import seaborn as sns\n",
    "\n",
    "# Create a scatter plot of acceleration vs. mpg\n",
    "sns.relplot(x='acceleration',y='mpg',data=mpg,kind='scatter',hue='origin',style='origin')\n",
    "\n",
    "\n",
    "\n",
    "# Show plot\n",
    "plt.show()"
   ]
  },
  {
   "cell_type": "markdown",
   "id": "80dd5c8c",
   "metadata": {},
   "source": [
    "#### Interpreting line plots"
   ]
  },
  {
   "cell_type": "code",
   "execution_count": null,
   "id": "c813e426",
   "metadata": {},
   "outputs": [],
   "source": [
    "# Import Matplotlib and Seaborn\n",
    "import matplotlib.pyplot as plt\n",
    "import seaborn as sns\n",
    "\n",
    "# Create line plot\n",
    "sns.relplot(x='model_year',y='mpg',data=mpg,kind='line')\n",
    "\n",
    "\n",
    "# Show plot\n",
    "plt.show()"
   ]
  },
  {
   "cell_type": "markdown",
   "id": "5b919e4b",
   "metadata": {},
   "source": [
    "#### Visualizing standard deviation with line plots"
   ]
  },
  {
   "cell_type": "code",
   "execution_count": null,
   "id": "33bbfd58",
   "metadata": {},
   "outputs": [],
   "source": [
    "# Make the shaded area show the standard deviation\n",
    "sns.relplot(x=\"model_year\", y=\"mpg\",\n",
    "            data=mpg, kind=\"line\",ci='sd')\n",
    "\n",
    "# Show plot\n",
    "plt.show()"
   ]
  },
  {
   "cell_type": "markdown",
   "id": "ddc4e5f2",
   "metadata": {},
   "source": [
    "#### Plotting subgroups in line plots"
   ]
  },
  {
   "cell_type": "code",
   "execution_count": null,
   "id": "afdacacf",
   "metadata": {},
   "outputs": [],
   "source": [
    "# Import Matplotlib and Seaborn\n",
    "import matplotlib.pyplot as plt\n",
    "import seaborn as sns\n",
    "\n",
    "# Create line plot of model year vs. horsepower\n",
    "sns.relplot(x='model_year',y='horsepower',data=mpg,kind='line',ci=None)\n",
    "\n",
    "\n",
    "\n",
    "# Show plot\n",
    "plt.show()"
   ]
  },
  {
   "cell_type": "code",
   "execution_count": null,
   "id": "33e99b58",
   "metadata": {},
   "outputs": [],
   "source": [
    "# Import Matplotlib and Seaborn\n",
    "import matplotlib.pyplot as plt\n",
    "import seaborn as sns\n",
    "\n",
    "# Change to create subgroups for country of origin\n",
    "sns.relplot(x=\"model_year\", y=\"horsepower\", \n",
    "            data=mpg, kind=\"line\", \n",
    "            ci=None,style='origin',hue='origin')\n",
    "\n",
    "# Show plot\n",
    "plt.show()"
   ]
  },
  {
   "cell_type": "code",
   "execution_count": null,
   "id": "de896e01",
   "metadata": {},
   "outputs": [],
   "source": [
    "# Import Matplotlib and Seaborn\n",
    "import matplotlib.pyplot as plt\n",
    "import seaborn as sns\n",
    "\n",
    "# Add markers and make each line have the same style\n",
    "sns.relplot(x=\"model_year\", y=\"horsepower\", \n",
    "            data=mpg, kind=\"line\", \n",
    "            ci=None, style=\"origin\", \n",
    "            hue=\"origin\",markers=True,     dashes=False)\n",
    "\n",
    "# Show plot\n",
    "plt.show()"
   ]
  }
 ],
 "metadata": {
  "kernelspec": {
   "display_name": "Python 3 (ipykernel)",
   "language": "python",
   "name": "python3"
  },
  "language_info": {
   "codemirror_mode": {
    "name": "ipython",
    "version": 3
   },
   "file_extension": ".py",
   "mimetype": "text/x-python",
   "name": "python",
   "nbconvert_exporter": "python",
   "pygments_lexer": "ipython3",
   "version": "3.11.4"
  }
 },
 "nbformat": 4,
 "nbformat_minor": 5
}
