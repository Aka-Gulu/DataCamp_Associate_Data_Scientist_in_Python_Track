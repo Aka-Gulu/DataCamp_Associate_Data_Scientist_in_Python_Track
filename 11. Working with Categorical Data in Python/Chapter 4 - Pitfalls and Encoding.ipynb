{
 "cells": [
  {
   "cell_type": "markdown",
   "id": "075dfe37",
   "metadata": {},
   "source": [
    "#### Overcoming pitfalls: string issues"
   ]
  },
  {
   "cell_type": "code",
   "execution_count": null,
   "id": "8e89eda0",
   "metadata": {},
   "outputs": [],
   "source": [
    "# Print the frequency table of body_type and include NaN values\n",
    "print(used_cars['body_type'].value_counts(dropna=False))"
   ]
  },
  {
   "cell_type": "code",
   "execution_count": null,
   "id": "163b4b9e",
   "metadata": {},
   "outputs": [],
   "source": [
    "# Print the frequency table of body_type and include NaN values\n",
    "print(used_cars[\"body_type\"].value_counts(dropna=False))\n",
    "\n",
    "# Update NaN values\n",
    "used_cars.loc[pd.isna(used_cars[\"body_type\"]), 'body_type'] = 'other'"
   ]
  },
  {
   "cell_type": "code",
   "execution_count": null,
   "id": "5d16382f",
   "metadata": {},
   "outputs": [],
   "source": [
    "# Print the frequency table of body_type and include NaN values\n",
    "print(used_cars[\"body_type\"].value_counts(dropna=False))\n",
    "\n",
    "# Update NaN values\n",
    "used_cars.loc[used_cars[\"body_type\"].isna(), \"body_type\"] = \"other\"\n",
    "\n",
    "# Convert body_type to title case\n",
    "used_cars[\"body_type\"] = used_cars[\"body_type\"].str.title()"
   ]
  },
  {
   "cell_type": "code",
   "execution_count": null,
   "id": "45b6807d",
   "metadata": {},
   "outputs": [],
   "source": [
    "# Print the frequency table of body_type and include NaN values\n",
    "print(used_cars[\"body_type\"].value_counts(dropna=False))\n",
    "\n",
    "# Update NaN values\n",
    "used_cars.loc[used_cars[\"body_type\"].isna(), \"body_type\"] = \"other\"\n",
    "\n",
    "# Convert body_type to title case\n",
    "used_cars[\"body_type\"] = used_cars[\"body_type\"].str.title()\n",
    "\n",
    "# Check the dtype\n",
    "print(used_cars['body_type'].dtype)"
   ]
  },
  {
   "cell_type": "markdown",
   "id": "4fa69600",
   "metadata": {},
   "source": [
    "#### Overcoming pitfalls: using NumPy arrays"
   ]
  },
  {
   "cell_type": "code",
   "execution_count": null,
   "id": "ae56ebf3",
   "metadata": {},
   "outputs": [],
   "source": [
    "# Print the frequency table of Sale Rating\n",
    "print(used_cars['Sale Rating'].value_counts())"
   ]
  },
  {
   "cell_type": "code",
   "execution_count": null,
   "id": "c84fa89b",
   "metadata": {},
   "outputs": [],
   "source": [
    "# Print the frequency table of Sale Rating\n",
    "print(used_cars[\"Sale Rating\"].value_counts())\n",
    "\n",
    "# Find the average score\n",
    "average_score = used_cars[\"Sale Rating\"].astype(int).mean()\n",
    "\n",
    "# Print the average\n",
    "print(average_score)"
   ]
  },
  {
   "cell_type": "markdown",
   "id": "c1375f8b",
   "metadata": {},
   "source": [
    "#### Create a label encoding and map"
   ]
  },
  {
   "cell_type": "code",
   "execution_count": null,
   "id": "75e2a822",
   "metadata": {},
   "outputs": [],
   "source": [
    "# Convert to categorical and print the frequency table\n",
    "used_cars[\"color\"] = used_cars[\"color\"].astype('category')\n",
    "print(used_cars[\"color\"].value_counts())"
   ]
  },
  {
   "cell_type": "code",
   "execution_count": null,
   "id": "08c834ab",
   "metadata": {},
   "outputs": [],
   "source": [
    "# Convert to categorical and print the frequency table\n",
    "used_cars[\"color\"] = used_cars[\"color\"].astype(\"category\")\n",
    "print(used_cars[\"color\"].value_counts())\n",
    "\n",
    "# Create a label encoding\n",
    "used_cars[\"color_code\"] = used_cars[\"color\"].cat.codes"
   ]
  },
  {
   "cell_type": "code",
   "execution_count": null,
   "id": "5509f9bf",
   "metadata": {},
   "outputs": [],
   "source": [
    "# Convert to categorical and print the frequency table\n",
    "used_cars[\"color\"] = used_cars[\"color\"].astype(\"category\")\n",
    "print(used_cars[\"color\"].value_counts())\n",
    "\n",
    "# Create a label encoding\n",
    "used_cars[\"color_code\"] = used_cars[\"color\"].cat.codes\n",
    "\n",
    "# Create codes and categories objects\n",
    "codes = used_cars['color_code']\n",
    "categories = used_cars[\"color\"]\n",
    "color_map = dict(zip(codes, categories))\n",
    "print(color_map)"
   ]
  },
  {
   "cell_type": "code",
   "execution_count": null,
   "id": "2d063afa",
   "metadata": {},
   "outputs": [],
   "source": [
    "# Convert to categorical and print the frequency table\n",
    "used_cars[\"color\"] = used_cars[\"color\"].astype(\"category\")\n",
    "print(used_cars[\"color\"].value_counts())\n",
    "\n",
    "# Create a label encoding\n",
    "used_cars[\"color_code\"] = used_cars[\"color\"].cat.codes\n",
    "\n",
    "# Create codes and categories objects\n",
    "codes = used_cars[\"color\"].cat.codes\n",
    "categories = used_cars[\"color\"]\n",
    "color_map = dict(zip(codes, categories))\n",
    "\n",
    "# Print the map\n",
    "print(color_map)"
   ]
  },
  {
   "cell_type": "markdown",
   "id": "73a597f9",
   "metadata": {},
   "source": [
    "#### Using saved mappings"
   ]
  },
  {
   "cell_type": "code",
   "execution_count": null,
   "id": "d21e4d1c",
   "metadata": {},
   "outputs": [],
   "source": [
    "# Update the color column using the color_map\n",
    "used_cars_updated[\"color\"] = used_cars_updated[\"color\"].map(color_map)\n",
    "# Update the engine fuel column using the fuel_map\n",
    "used_cars_updated[\"engine_fuel\"] = used_cars_updated[\"engine_fuel\"].map(fuel_map)\n",
    "# Update the transmission column using the transmission_map\n",
    "used_cars_updated[\"transmission\"] = used_cars_updated[\"transmission\"].map(transmission_map)\n",
    "\n",
    "# Print the info statement\n",
    "print(used_cars_updated.info())"
   ]
  },
  {
   "cell_type": "markdown",
   "id": "b496e1bf",
   "metadata": {},
   "source": [
    "#### Creating a Boolean encoding"
   ]
  },
  {
   "cell_type": "code",
   "execution_count": null,
   "id": "344daf13",
   "metadata": {},
   "outputs": [],
   "source": [
    "# Print the manufacturer name frequency table\n",
    "print(used_cars['manufacturer_name'].value_counts())"
   ]
  },
  {
   "cell_type": "code",
   "execution_count": null,
   "id": "3cce87d2",
   "metadata": {},
   "outputs": [],
   "source": [
    "# Print the manufacturer name frequency table\n",
    "print(used_cars[\"manufacturer_name\"].value_counts())\n",
    "\n",
    "# Create a Boolean column based on if the manufacturer name that contain Volkswagen\n",
    "used_cars[\"is_volkswagen\"] = np.where(\n",
    "  used_cars[\"manufacturer_name\"].str.contains('Volkswagen', regex=False), True, False\n",
    ")"
   ]
  },
  {
   "cell_type": "code",
   "execution_count": null,
   "id": "5f158836",
   "metadata": {},
   "outputs": [],
   "source": [
    "# Print the manufacturer name frequency table\n",
    "print(used_cars[\"manufacturer_name\"].value_counts())\n",
    "\n",
    "# Create a Boolean column based on if the manufacturer name that contain Volkswagen: using 0s an 1s\n",
    "used_cars[\"is_volkswagen\"] = np.where(\n",
    "  used_cars[\"manufacturer_name\"].str.contains(\"Volkswagen\", regex=False), 1, 0\n",
    ")"
   ]
  },
  {
   "cell_type": "code",
   "execution_count": null,
   "id": "a015d222",
   "metadata": {},
   "outputs": [],
   "source": [
    "# Print the \"manufacturer_name\" frequency table.\n",
    "print(used_cars[\"manufacturer_name\"].value_counts())\n",
    "\n",
    "# Create a Boolean column for the most common manufacturer name\n",
    "used_cars[\"is_volkswagen\"] = np.where(\n",
    "  used_cars[\"manufacturer_name\"].str.contains(\"Volkswagen\", regex=False), 1, 0\n",
    ")\n",
    "  \n",
    "# Check the final frequency table\n",
    "print(used_cars['is_volkswagen'].value_counts())"
   ]
  },
  {
   "cell_type": "markdown",
   "id": "8cab6935",
   "metadata": {},
   "source": [
    "#### One-hot encoding specific columns"
   ]
  },
  {
   "cell_type": "code",
   "execution_count": null,
   "id": "eec0ec30",
   "metadata": {},
   "outputs": [],
   "source": [
    "# Create one-hot encoding for just two columns\n",
    "used_cars_simple = pd.get_dummies(\n",
    "  used_cars,\n",
    "  # Specify the columns from the instructions\n",
    "  columns=['manufacturer_name','transmission'],\n",
    "  # Set the prefix\n",
    "  prefix='dummy'\n",
    ")\n",
    "\n",
    "# Print the shape of the new dataset\n",
    "print(used_cars_simple.shape)"
   ]
  }
 ],
 "metadata": {
  "kernelspec": {
   "display_name": "Python 3 (ipykernel)",
   "language": "python",
   "name": "python3"
  },
  "language_info": {
   "codemirror_mode": {
    "name": "ipython",
    "version": 3
   },
   "file_extension": ".py",
   "mimetype": "text/x-python",
   "name": "python",
   "nbconvert_exporter": "python",
   "pygments_lexer": "ipython3",
   "version": "3.11.4"
  }
 },
 "nbformat": 4,
 "nbformat_minor": 5
}
