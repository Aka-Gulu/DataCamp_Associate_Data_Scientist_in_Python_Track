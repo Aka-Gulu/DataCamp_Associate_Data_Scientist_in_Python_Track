{
 "cells": [
  {
   "cell_type": "markdown",
   "id": "f75967ef",
   "metadata": {},
   "source": [
    "#### Creating a box plot"
   ]
  },
  {
   "cell_type": "code",
   "execution_count": null,
   "id": "65098725",
   "metadata": {},
   "outputs": [],
   "source": [
    "# Set the font size to 1.25\n",
    "sns.set(font_scale=1.25)\n",
    "\n",
    "# Set the background to \"darkgrid\"\n",
    "sns.set_style('darkgrid')\n",
    "\n",
    "# Create a boxplot\n",
    "sns.catplot(x='Traveler type',y='Helpful votes',data=reviews,kind='box')\n",
    "\n",
    "plt.show()"
   ]
  },
  {
   "cell_type": "markdown",
   "id": "8f757c95",
   "metadata": {},
   "source": [
    "#### Creating a bar plot"
   ]
  },
  {
   "cell_type": "code",
   "execution_count": null,
   "id": "a9c7937d",
   "metadata": {},
   "outputs": [],
   "source": [
    "# Print the frequency counts of \"Period of stay\"\n",
    "print(reviews['Period of stay'].value_counts())\n",
    "\n",
    "sns.set(font_scale=1.4)\n",
    "sns.set_style(\"whitegrid\")\n",
    "\n",
    "# Create a bar plot of \"Helpful votes\" by \"Period of stay\"\n",
    "sns.catplot(x='Period of stay',y='Helpful votes',data=reviews,kind='bar')\n",
    "plt.show()"
   ]
  },
  {
   "cell_type": "markdown",
   "id": "38a4916d",
   "metadata": {},
   "source": [
    "#### Ordering categories"
   ]
  },
  {
   "cell_type": "code",
   "execution_count": null,
   "id": "ecfb50f9",
   "metadata": {},
   "outputs": [],
   "source": [
    "# Create a bar chart\n",
    "sns.set(font_scale=.9)\n",
    "sns.set_style(\"whitegrid\")\n",
    "sns.catplot(x='User continent', y='Score', data=reviews, kind='bar')\n",
    "plt.show()"
   ]
  },
  {
   "cell_type": "code",
   "execution_count": null,
   "id": "1852b517",
   "metadata": {},
   "outputs": [],
   "source": [
    "# Create a bar chart\n",
    "sns.set(font_scale=.9)\n",
    "sns.set_style(\"whitegrid\")\n",
    "sns.catplot(x=\"User continent\", y=\"Score\", data=reviews, kind=\"bar\")\n",
    "\n",
    "# Print the frequency counts for \"User continent\"\n",
    "print(reviews['User continent'].value_counts())"
   ]
  },
  {
   "cell_type": "code",
   "execution_count": null,
   "id": "28d1af32",
   "metadata": {},
   "outputs": [],
   "source": [
    "# Set style\n",
    "sns.set(font_scale=.9)\n",
    "sns.set_style(\"whitegrid\")\n",
    "\n",
    "# Print the frequency counts for \"User continent\"\n",
    "print(reviews[\"User continent\"].value_counts())\n",
    "\n",
    "# Convert \"User continent\" to a categorical variable\n",
    "reviews[\"User continent\"] = reviews['User continent'].astype('category')\n",
    "sns.catplot(x='User continent', y=\"Score\", data=reviews, kind=\"bar\")\n",
    "plt.show()"
   ]
  },
  {
   "cell_type": "code",
   "execution_count": null,
   "id": "700d811a",
   "metadata": {},
   "outputs": [],
   "source": [
    "# Set style\n",
    "sns.set(font_scale=.9)\n",
    "sns.set_style(\"whitegrid\")\n",
    "\n",
    "# Print the frequency counts for \"User continent\"\n",
    "print(reviews[\"User continent\"].value_counts())\n",
    "\n",
    "# Convert \"User continent\" to a categorical variable\n",
    "reviews[\"User continent\"] = reviews[\"User continent\"].astype(\"category\")\n",
    "\n",
    "# Reorder \"User continent\" using continent_categories and rerun the graphic\n",
    "continent_categories = list(reviews[\"User continent\"].value_counts().index)\n",
    "reviews[\"User continent\"] = reviews[\"User continent\"].cat.reorder_categories(new_categories=continent_categories)\n",
    "sns.catplot(x=\"User continent\", y=\"Score\", data=reviews, kind=\"bar\")\n",
    "plt.show()"
   ]
  },
  {
   "cell_type": "markdown",
   "id": "ace447d7",
   "metadata": {},
   "source": [
    "#### Bar plot using hue"
   ]
  },
  {
   "cell_type": "code",
   "execution_count": null,
   "id": "9c739f2a",
   "metadata": {},
   "outputs": [],
   "source": [
    "# Add a second category to split the data on: \"Free internet\"\n",
    "sns.set(font_scale=2)\n",
    "sns.set_style(\"darkgrid\")\n",
    "sns.catplot(x='Casino', y=\"Score\", data=reviews, kind=\"bar\", hue='Free internet')\n",
    "plt.show()"
   ]
  },
  {
   "cell_type": "code",
   "execution_count": null,
   "id": "d2c21cf0",
   "metadata": {},
   "outputs": [],
   "source": [
    "# Switch the x and hue categories\n",
    "sns.set(font_scale=2)\n",
    "sns.set_style(\"darkgrid\")\n",
    "sns.catplot(x='Free internet', y=\"Score\", data=reviews, kind=\"bar\", hue='Casino')\n",
    "plt.show()"
   ]
  },
  {
   "cell_type": "code",
   "execution_count": null,
   "id": "6e925ffa",
   "metadata": {},
   "outputs": [],
   "source": [
    "# Update x to be \"User continent\"\n",
    "sns.set(font_scale=2)\n",
    "sns.set_style(\"darkgrid\")\n",
    "sns.catplot(x='User continent', y=\"Score\", data=reviews, kind=\"bar\", hue=\"Casino\")\n",
    "plt.show()"
   ]
  },
  {
   "cell_type": "code",
   "execution_count": null,
   "id": "316facbc",
   "metadata": {},
   "outputs": [],
   "source": [
    "# Lower the font size so that all text fits on the screen.\n",
    "sns.set(font_scale=1)\n",
    "sns.set_style(\"darkgrid\")\n",
    "sns.catplot(x=\"User continent\", y=\"Score\", data=reviews, kind=\"bar\", hue=\"Casino\")\n",
    "plt.show()"
   ]
  },
  {
   "cell_type": "markdown",
   "id": "b1ece3b3",
   "metadata": {},
   "source": [
    "#### Creating a point plot"
   ]
  },
  {
   "cell_type": "code",
   "execution_count": null,
   "id": "5aecf85d",
   "metadata": {},
   "outputs": [],
   "source": [
    "# Create a point plot with catplot using \"Hotel stars\" and \"Nr. reviews\"\n",
    "sns.catplot(\n",
    "  # Split the data across Hotel stars and summarize Nr. reviews\n",
    "  x='Hotel stars',\n",
    "  y='Nr. reviews',\n",
    "  data=reviews,\n",
    "  # Specify a point plot\n",
    "  kind='point',\n",
    "  hue=\"Pool\",\n",
    "  # Make sure the lines and points don't overlap\n",
    "  dodge=True\n",
    ")\n",
    "plt.show()"
   ]
  },
  {
   "cell_type": "markdown",
   "id": "9abf6c7f",
   "metadata": {},
   "source": [
    "#### Creating a count plot"
   ]
  },
  {
   "cell_type": "code",
   "execution_count": null,
   "id": "2c30e4ff",
   "metadata": {},
   "outputs": [],
   "source": [
    "sns.set(font_scale=1.4)\n",
    "sns.set_style(\"darkgrid\")\n",
    "\n",
    "# Create a catplot that will count the frequency of \"Score\" across \"Traveler type\"\n",
    "sns.catplot(\n",
    "  x='Score',kind='count',data=reviews,hue='Traveler type'\n",
    ")\n",
    "plt.show()"
   ]
  },
  {
   "cell_type": "markdown",
   "id": "04cacfa7",
   "metadata": {},
   "source": [
    "#### One visualization per group"
   ]
  },
  {
   "cell_type": "code",
   "execution_count": null,
   "id": "12e3b4a7",
   "metadata": {},
   "outputs": [],
   "source": [
    "# Create a catplot for each \"Period of stay\" broken down by \"Review weekday\"\n",
    "ax = sns.catplot(\n",
    "  # Make sure Review weekday is along the x-axis\n",
    "  x='Review weekday',\n",
    "  # Specify Period of stay as the column to create individual graphics for\n",
    "  col='Period of stay',\n",
    "  # Specify that a count plot should be created\n",
    "  kind='count',\n",
    "  # Wrap the plots after every 2nd graphic.\n",
    "  col_wrap=2,\n",
    "  data=reviews\n",
    ")\n",
    "plt.show()"
   ]
  },
  {
   "cell_type": "markdown",
   "id": "39471432",
   "metadata": {},
   "source": [
    "#### Updating categorical plots"
   ]
  },
  {
   "cell_type": "code",
   "execution_count": null,
   "id": "de511079",
   "metadata": {},
   "outputs": [],
   "source": [
    "# Adjust the color\n",
    "ax = sns.catplot(\n",
    "  x=\"Free internet\", y=\"Score\",\n",
    "  hue=\"Traveler type\", kind=\"bar\",\n",
    "  data=reviews,\n",
    "  palette=sns.color_palette('Set2')\n",
    ")"
   ]
  },
  {
   "cell_type": "code",
   "execution_count": null,
   "id": "a5e0d1f5",
   "metadata": {},
   "outputs": [],
   "source": [
    "# Adjust the color\n",
    "ax = sns.catplot(\n",
    "  x=\"Free internet\", y=\"Score\",\n",
    "  hue=\"Traveler type\", kind=\"bar\",\n",
    "  data=reviews,\n",
    "  palette=sns.color_palette(\"Set2\")\n",
    ")\n",
    "\n",
    "# Add a title\n",
    "ax.fig.suptitle('Hotel Score by Traveler Type and Free Internet Access')"
   ]
  },
  {
   "cell_type": "code",
   "execution_count": null,
   "id": "582504d9",
   "metadata": {},
   "outputs": [],
   "source": [
    "# Adjust the color\n",
    "ax = sns.catplot(\n",
    "  x=\"Free internet\", y=\"Score\",\n",
    "  hue=\"Traveler type\", kind=\"bar\",\n",
    "  data=reviews,\n",
    "  palette=sns.color_palette(\"Set2\")\n",
    ")\n",
    "\n",
    "# Add a title\n",
    "ax.fig.suptitle(\"Hotel Score by Traveler Type and Free Internet Access\")\n",
    "\n",
    "# Update the axis labels\n",
    "ax.set_axis_labels('Free Internet','Average Review Rating')"
   ]
  },
  {
   "cell_type": "code",
   "execution_count": null,
   "id": "3da21b04",
   "metadata": {},
   "outputs": [],
   "source": [
    "# Adjust the color\n",
    "ax = sns.catplot(\n",
    "  x=\"Free internet\", y=\"Score\",\n",
    "  hue=\"Traveler type\", kind=\"bar\",\n",
    "  data=reviews,\n",
    "  palette=sns.color_palette(\"Set2\")\n",
    ")\n",
    "\n",
    "# Add a title\n",
    "ax.fig.suptitle(\"Hotel Score by Traveler Type and Free Internet Access\")\n",
    "# Update the axis labels\n",
    "ax.set_axis_labels(\"Free Internet\", \"Average Review Rating\")\n",
    "\n",
    "# Adjust the starting height of the graphic\n",
    "plt.subplots_adjust(top=.93)\n",
    "plt.show()"
   ]
  }
 ],
 "metadata": {
  "kernelspec": {
   "display_name": "Python 3 (ipykernel)",
   "language": "python",
   "name": "python3"
  },
  "language_info": {
   "codemirror_mode": {
    "name": "ipython",
    "version": 3
   },
   "file_extension": ".py",
   "mimetype": "text/x-python",
   "name": "python",
   "nbconvert_exporter": "python",
   "pygments_lexer": "ipython3",
   "version": "3.11.4"
  }
 },
 "nbformat": 4,
 "nbformat_minor": 5
}
