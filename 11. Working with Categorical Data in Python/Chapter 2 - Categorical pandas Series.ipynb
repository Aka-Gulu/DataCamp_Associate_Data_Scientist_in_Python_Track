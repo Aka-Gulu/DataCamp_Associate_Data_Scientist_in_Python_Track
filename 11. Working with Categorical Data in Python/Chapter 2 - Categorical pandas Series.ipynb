{
 "cells": [
  {
   "cell_type": "markdown",
   "id": "7765c44a",
   "metadata": {},
   "source": [
    "#### Adding categories"
   ]
  },
  {
   "cell_type": "code",
   "execution_count": null,
   "id": "a527bce6",
   "metadata": {},
   "outputs": [],
   "source": [
    "# Check frequency counts while also printing the NaN count\n",
    "print(dogs['keep_in'].value_counts(dropna=False))"
   ]
  },
  {
   "cell_type": "code",
   "execution_count": null,
   "id": "b5f1310d",
   "metadata": {},
   "outputs": [],
   "source": [
    "# Check frequency counts while also printing the NaN count\n",
    "print(dogs[\"keep_in\"].value_counts(dropna=False))\n",
    "\n",
    "# Switch to a categorical variable\n",
    "dogs[\"keep_in\"] = dogs['keep_in'].astype('category')"
   ]
  },
  {
   "cell_type": "code",
   "execution_count": null,
   "id": "87de6eb0",
   "metadata": {},
   "outputs": [],
   "source": [
    "# Check frequency counts while also printing the NaN count\n",
    "print(dogs[\"keep_in\"].value_counts(dropna=False))\n",
    "\n",
    "# Switch to a categorical variable\n",
    "dogs[\"keep_in\"] = dogs[\"keep_in\"].astype(\"category\")\n",
    "\n",
    "# Add new categories\n",
    "new_categories = [\"Unknown History\", \"Open Yard (Countryside)\"]\n",
    "dogs[\"keep_in\"] = dogs['keep_in'].cat.add_categories(new_categories)"
   ]
  },
  {
   "cell_type": "code",
   "execution_count": null,
   "id": "38a2062c",
   "metadata": {},
   "outputs": [],
   "source": [
    "# Check frequency counts while also printing the NaN count\n",
    "print(dogs[\"keep_in\"].value_counts(dropna=False))\n",
    "\n",
    "# Switch to a categorical variable\n",
    "dogs[\"keep_in\"] = dogs[\"keep_in\"].astype(\"category\")\n",
    "\n",
    "# Add new categories\n",
    "new_categories = [\"Unknown History\", \"Open Yard (Countryside)\"]\n",
    "dogs[\"keep_in\"] = dogs[\"keep_in\"].cat.add_categories(new_categories)\n",
    "\n",
    "# Check frequency counts one more time\n",
    "print(dogs[\"keep_in\"].value_counts(dropna=False))"
   ]
  },
  {
   "cell_type": "markdown",
   "id": "7c25d832",
   "metadata": {},
   "source": [
    "#### Removing categories"
   ]
  },
  {
   "cell_type": "code",
   "execution_count": null,
   "id": "279f8fb1",
   "metadata": {},
   "outputs": [],
   "source": [
    "# Set \"maybe\" to be \"no\"\n",
    "dogs.loc[dogs[\"likes_children\"] == \"maybe\", \"likes_children\"] = \"no\"\n",
    "\n",
    "# Print out categories\n",
    "print(dogs['likes_children'].cat.categories)"
   ]
  },
  {
   "cell_type": "code",
   "execution_count": null,
   "id": "ecb3ce02",
   "metadata": {},
   "outputs": [],
   "source": [
    "# Set \"maybe\" to be \"no\"\n",
    "dogs.loc[dogs[\"likes_children\"] == \"maybe\", \"likes_children\"] = \"no\"\n",
    "\n",
    "# Print out categories\n",
    "print(dogs[\"likes_children\"].cat.categories)\n",
    "\n",
    "# Print the frequency table\n",
    "print(dogs['likes_children'].value_counts())"
   ]
  },
  {
   "cell_type": "code",
   "execution_count": null,
   "id": "025fc7d8",
   "metadata": {},
   "outputs": [],
   "source": [
    "# Set \"maybe\" to be \"no\"\n",
    "dogs.loc[dogs[\"likes_children\"] == \"maybe\", \"likes_children\"] = \"no\"\n",
    "\n",
    "# Print out categories\n",
    "print(dogs[\"likes_children\"].cat.categories)\n",
    "\n",
    "# Print the frequency table\n",
    "print(dogs[\"likes_children\"].value_counts())\n",
    "\n",
    "# Remove the \"maybe\" category\n",
    "dogs[\"likes_children\"] = dogs['likes_children'].cat.remove_categories(removals=('maybe'))\n",
    "print(dogs[\"likes_children\"].value_counts())"
   ]
  },
  {
   "cell_type": "code",
   "execution_count": null,
   "id": "190d91af",
   "metadata": {},
   "outputs": [],
   "source": [
    "# Set \"maybe\" to be \"no\"\n",
    "dogs.loc[dogs[\"likes_children\"] == \"maybe\", \"likes_children\"] = \"no\"\n",
    "\n",
    "# Print out categories\n",
    "print(dogs[\"likes_children\"].cat.categories)\n",
    "\n",
    "# Print the frequency table\n",
    "print(dogs[\"likes_children\"].value_counts())\n",
    "\n",
    "# Remove the `\"maybe\" category\n",
    "dogs[\"likes_children\"] = dogs[\"likes_children\"].cat.remove_categories([\"maybe\"])\n",
    "print(dogs[\"likes_children\"].value_counts())\n",
    "\n",
    "# Print the categories one more time\n",
    "print(dogs['likes_children'].cat.categories)"
   ]
  },
  {
   "cell_type": "markdown",
   "id": "e49e6d61",
   "metadata": {},
   "source": [
    "#### Renaming categories"
   ]
  },
  {
   "cell_type": "code",
   "execution_count": null,
   "id": "bf38e842",
   "metadata": {},
   "outputs": [],
   "source": [
    "# Create the my_changes dictionary\n",
    "my_changes={'Maybe?':'Maybe'}\n",
    "\n",
    "# Rename the categories listed in the my_changes dictionary\n",
    "dogs[\"likes_children\"] = dogs['likes_children'].cat.rename_categories(my_changes)\n",
    "\n",
    "# Use a lambda function to convert all categories to uppercase using upper()\n",
    "dogs[\"likes_children\"] =  dogs[\"likes_children\"].cat.rename_categories(lambda c: c.upper())\n",
    "\n",
    "# Print the list of categories\n",
    "print(dogs['likes_children'].cat.categories)"
   ]
  },
  {
   "cell_type": "markdown",
   "id": "60543948",
   "metadata": {},
   "source": [
    "#### Collapsing categories"
   ]
  },
  {
   "cell_type": "code",
   "execution_count": null,
   "id": "fa5a7a23",
   "metadata": {},
   "outputs": [],
   "source": [
    "# Create the update_coats dictionary\n",
    "update_coats = {'wirehaired':'medium','medium-long':'medium'}\n",
    "\n",
    "# Create a new column, coat_collapsed\n",
    "dogs[\"coat_collapsed\"] = dogs['coat'].replace(update_coats)\n",
    "\n",
    "# Convert the column to categorical\n",
    "dogs['coat_collapsed']=dogs['coat_collapsed'].astype('category')\n",
    "\n",
    "# Print the frequency table\n",
    "print(dogs['coat_collapsed'].value_counts())"
   ]
  },
  {
   "cell_type": "markdown",
   "id": "d0ed58d9",
   "metadata": {},
   "source": [
    "#### Reordering categories in a Series"
   ]
  },
  {
   "cell_type": "code",
   "execution_count": null,
   "id": "08e2e504",
   "metadata": {},
   "outputs": [],
   "source": [
    "# Print out the current categories of the size variable\n",
    "print(dogs['size'].cat.categories)"
   ]
  },
  {
   "cell_type": "code",
   "execution_count": null,
   "id": "09892255",
   "metadata": {},
   "outputs": [],
   "source": [
    "# Print out the current categories of the size variable\n",
    "print(dogs[\"size\"].cat.categories)\n",
    "\n",
    "# Reorder the categories using the list provided\n",
    "dogs[\"size\"] = dogs['size'].cat.reorder_categories(new_categories=['small','medium','large'],ordered=False)"
   ]
  },
  {
   "cell_type": "code",
   "execution_count": null,
   "id": "1f3e4604",
   "metadata": {},
   "outputs": [],
   "source": [
    "# Print out the current categories of the size variable\n",
    "print(dogs[\"size\"].cat.categories)\n",
    "\n",
    "# Reorder the categories, specifying the Series is ordinal\n",
    "dogs[\"size\"] = dogs[\"size\"].cat.reorder_categories(\n",
    "  new_categories=[\"small\", \"medium\", \"large\"],\n",
    "  ordered=True\n",
    ")"
   ]
  },
  {
   "cell_type": "code",
   "execution_count": null,
   "id": "0bfe1c79",
   "metadata": {},
   "outputs": [],
   "source": [
    "# Print out the current categories of the size variable\n",
    "print(dogs[\"size\"].cat.categories)\n",
    "\n",
    "# Reorder the categories, specifying the Series is ordinal, and overwriting the original series\n",
    "dogs[\"size\"].cat.reorder_categories(\n",
    "  new_categories=[\"small\", \"medium\", \"large\"],\n",
    "  ordered=True,\n",
    "  inplace=True\n",
    ")"
   ]
  },
  {
   "cell_type": "markdown",
   "id": "266d8d5b",
   "metadata": {},
   "source": [
    "#### Using .groupby() after reordering"
   ]
  },
  {
   "cell_type": "code",
   "execution_count": null,
   "id": "7d95b31c",
   "metadata": {},
   "outputs": [],
   "source": [
    "# Previous code\n",
    "dogs[\"size\"].cat.reorder_categories(\n",
    "  new_categories=[\"small\", \"medium\", \"large\"],\n",
    "  ordered=True,\n",
    "  inplace=True\n",
    ")\n",
    "\n",
    "# How many Male/Female dogs are available of each size?\n",
    "print(dogs.groupby('size')['sex'].value_counts())\n",
    "\n",
    "# Do larger dogs need more room to roam?\n",
    "print(dogs.groupby('size')['keep_in'].value_counts())"
   ]
  },
  {
   "cell_type": "markdown",
   "id": "578f1de4",
   "metadata": {},
   "source": [
    "#### Cleaning variables"
   ]
  },
  {
   "cell_type": "code",
   "execution_count": null,
   "id": "0cc5ad39",
   "metadata": {},
   "outputs": [],
   "source": [
    "# Fix the misspelled word \n",
    "replace_map = {'Malez':'male'}"
   ]
  },
  {
   "cell_type": "code",
   "execution_count": null,
   "id": "21ba93ca",
   "metadata": {},
   "outputs": [],
   "source": [
    "# Fix the misspelled word \n",
    "replace_map = {\"Malez\": \"male\"}\n",
    "\n",
    "# Update the sex column using the created map\n",
    "dogs[\"sex\"] = dogs['sex'].replace(replace_map)\n",
    "\n",
    "print(dogs[\"sex\"].value_counts())"
   ]
  },
  {
   "cell_type": "code",
   "execution_count": null,
   "id": "d2787e90",
   "metadata": {},
   "outputs": [],
   "source": [
    "# Fix the misspelled word\n",
    "replace_map = {\"Malez\": \"male\"}\n",
    "\n",
    "# Update the sex column using the created map\n",
    "dogs[\"sex\"] = dogs[\"sex\"].replace(replace_map)\n",
    "\n",
    "# Strip away leading whitespace\n",
    "dogs[\"sex\"] = dogs['sex'].str.strip()\n",
    "\n",
    "print(dogs[\"sex\"].value_counts())"
   ]
  },
  {
   "cell_type": "code",
   "execution_count": null,
   "id": "e0b6afa8",
   "metadata": {},
   "outputs": [],
   "source": [
    "# Fix the misspelled word\n",
    "replace_map = {\"Malez\": \"male\"}\n",
    "\n",
    "# Update the sex column using the created map\n",
    "dogs[\"sex\"] = dogs[\"sex\"].replace(replace_map)\n",
    "\n",
    "# Strip away leading whitespace\n",
    "dogs[\"sex\"] = dogs[\"sex\"].str.strip()\n",
    "\n",
    "# Make all responses lowercase\n",
    "dogs[\"sex\"] = dogs['sex'].str.lower()\n",
    "\n",
    "print(dogs[\"sex\"].value_counts())"
   ]
  },
  {
   "cell_type": "code",
   "execution_count": null,
   "id": "2756cc7e",
   "metadata": {},
   "outputs": [],
   "source": [
    "# Fix the misspelled word\n",
    "replace_map = {\"Malez\": \"male\"}\n",
    "\n",
    "# Update the sex column using the created map\n",
    "dogs[\"sex\"] = dogs[\"sex\"].replace(replace_map)\n",
    "\n",
    "# Strip away leading whitespace\n",
    "dogs[\"sex\"] = dogs[\"sex\"].str.strip()\n",
    "\n",
    "# Make all responses lowercase\n",
    "dogs[\"sex\"] = dogs[\"sex\"].str.lower()\n",
    "\n",
    "# Convert to a categorical Series\n",
    "dogs[\"sex\"] = dogs['sex'].astype('category')\n",
    "\n",
    "print(dogs[\"sex\"].value_counts())"
   ]
  },
  {
   "cell_type": "markdown",
   "id": "c031693a",
   "metadata": {},
   "source": [
    "#### Accessing and filtering data"
   ]
  },
  {
   "cell_type": "code",
   "execution_count": null,
   "id": "3896a6a0",
   "metadata": {},
   "outputs": [],
   "source": [
    "# Print the category of the coat for ID 23807\n",
    "print(dogs.loc[23807, \"coat\"])"
   ]
  },
  {
   "cell_type": "code",
   "execution_count": null,
   "id": "4ad07d80",
   "metadata": {},
   "outputs": [],
   "source": [
    "# Find the count of male and female dogs who have a \"long\" coat\n",
    "print(dogs.loc[dogs['coat']=='long', 'sex'].value_counts())"
   ]
  },
  {
   "cell_type": "code",
   "execution_count": null,
   "id": "7c8cd6c2",
   "metadata": {},
   "outputs": [],
   "source": [
    "# Print the mean age of dogs with a breed of \"English Cocker Spaniel\"\n",
    "print(dogs.loc[dogs['breed']=='English Cocker Spaniel', 'age'].mean())"
   ]
  },
  {
   "cell_type": "code",
   "execution_count": null,
   "id": "79f42ac3",
   "metadata": {},
   "outputs": [],
   "source": [
    "# Count the number of dogs that have \"English\" in their breed name\n",
    "print(dogs[dogs[\"breed\"].str.contains('English', regex=False)].shape[0])"
   ]
  }
 ],
 "metadata": {
  "kernelspec": {
   "display_name": "Python 3 (ipykernel)",
   "language": "python",
   "name": "python3"
  },
  "language_info": {
   "codemirror_mode": {
    "name": "ipython",
    "version": 3
   },
   "file_extension": ".py",
   "mimetype": "text/x-python",
   "name": "python",
   "nbconvert_exporter": "python",
   "pygments_lexer": "ipython3",
   "version": "3.11.4"
  }
 },
 "nbformat": 4,
 "nbformat_minor": 5
}
