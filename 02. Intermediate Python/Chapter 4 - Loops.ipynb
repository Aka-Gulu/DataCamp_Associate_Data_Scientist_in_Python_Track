{
 "cells": [
  {
   "cell_type": "markdown",
   "id": "e366ce7e",
   "metadata": {},
   "source": [
    "#### Basic while loop"
   ]
  },
  {
   "cell_type": "code",
   "execution_count": null,
   "id": "1c688237",
   "metadata": {},
   "outputs": [],
   "source": [
    "# Initialize offset\n",
    "offset = 8\n",
    "\n",
    "# Code the while loop\n",
    "while offset != 0 :\n",
    "    print('correcting...')\n",
    "    offset = offset - 1\n",
    "    print(offset)"
   ]
  },
  {
   "cell_type": "markdown",
   "id": "f6bfbb2c",
   "metadata": {},
   "source": [
    "#### Add conditionals"
   ]
  },
  {
   "cell_type": "code",
   "execution_count": null,
   "id": "7bfcf383",
   "metadata": {},
   "outputs": [],
   "source": [
    "# Initialize offset\n",
    "offset = -6\n",
    "\n",
    "# Code the while loop\n",
    "while offset != 0 :\n",
    "    print(\"correcting...\")\n",
    "    if offset > 0 :\n",
    "      offset = offset - 1\n",
    "    else : \n",
    "      offset = offset + 1    \n",
    "    print(offset)"
   ]
  },
  {
   "cell_type": "markdown",
   "id": "a2e41c88",
   "metadata": {},
   "source": [
    "#### Loop over a list"
   ]
  },
  {
   "cell_type": "code",
   "execution_count": null,
   "id": "df07128c",
   "metadata": {},
   "outputs": [],
   "source": [
    "# areas list\n",
    "areas = [11.25, 18.0, 20.0, 10.75, 9.50]\n",
    "\n",
    "# Code the for loop\n",
    "for b in areas:\n",
    "    print(b)"
   ]
  },
  {
   "cell_type": "markdown",
   "id": "80157c6f",
   "metadata": {},
   "source": [
    "#### Indexes and values (1)"
   ]
  },
  {
   "cell_type": "code",
   "execution_count": null,
   "id": "a41bf96f",
   "metadata": {},
   "outputs": [],
   "source": [
    "# areas list\n",
    "areas = [11.25, 18.0, 20.0, 10.75, 9.50]\n",
    "\n",
    "# Change for loop to use enumerate() and update print()\n",
    "for index,a in enumerate(areas) :\n",
    "    print('room '+ str(index) +':'+ str(a))"
   ]
  },
  {
   "cell_type": "markdown",
   "id": "b7e8f958",
   "metadata": {},
   "source": [
    "#### Indexes and values (2)"
   ]
  },
  {
   "cell_type": "code",
   "execution_count": null,
   "id": "b8ea9cf2",
   "metadata": {},
   "outputs": [],
   "source": [
    "# areas list\n",
    "areas = [11.25, 18.0, 20.0, 10.75, 9.50]\n",
    "\n",
    "# Code the for loop\n",
    "for index, area in enumerate(areas) :\n",
    "    print(\"room \" + str(index+1) + \": \" + str(area))"
   ]
  },
  {
   "cell_type": "markdown",
   "id": "20027e47",
   "metadata": {},
   "source": [
    "#### Loop over list of lists"
   ]
  },
  {
   "cell_type": "code",
   "execution_count": null,
   "id": "8e2ab787",
   "metadata": {},
   "outputs": [],
   "source": [
    "# house list of lists\n",
    "house = [[\"hallway\", 11.25], \n",
    "         [\"kitchen\", 18.0], \n",
    "         [\"living room\", 20.0], \n",
    "         [\"bedroom\", 10.75], \n",
    "         [\"bathroom\", 9.50]]\n",
    "         \n",
    "# Build a for loop from scratch\n",
    "for key,value in house:\n",
    "    print('the '+ key +' is ' + str(value)+ ' sqm')"
   ]
  },
  {
   "cell_type": "markdown",
   "id": "668e5b98",
   "metadata": {},
   "source": [
    "#### Loop over dictionary"
   ]
  },
  {
   "cell_type": "code",
   "execution_count": null,
   "id": "c7deb54d",
   "metadata": {},
   "outputs": [],
   "source": [
    "# Definition of dictionary\n",
    "europe = {'spain':'madrid', 'france':'paris', 'germany':'berlin',\n",
    "          'norway':'oslo', 'italy':'rome', 'poland':'warsaw', 'austria':'vienna' }\n",
    "          \n",
    "# Iterate over europe\n",
    "for key,value in europe.items():\n",
    "    print('the '+'capital '+'of '+ key +' is '+ value)"
   ]
  },
  {
   "cell_type": "markdown",
   "id": "0159e5b9",
   "metadata": {},
   "source": [
    "#### Loop over NumPy array"
   ]
  },
  {
   "cell_type": "code",
   "execution_count": null,
   "id": "37873bb7",
   "metadata": {},
   "outputs": [],
   "source": [
    "# Import numpy as np\n",
    "import numpy as np\n",
    "\n",
    "# For loop over np_height\n",
    "for a in np_height:\n",
    "    print(str(a) + ' inches')\n",
    "\n",
    "# For loop over np_baseball\n",
    "for a in np.nditer(np_baseball):\n",
    "    print(a)"
   ]
  },
  {
   "cell_type": "markdown",
   "id": "e3814c30",
   "metadata": {},
   "source": [
    "#### Loop over DataFrame (1)"
   ]
  },
  {
   "cell_type": "code",
   "execution_count": null,
   "id": "419cb6b8",
   "metadata": {},
   "outputs": [],
   "source": [
    "# Import cars data\n",
    "import pandas as pd\n",
    "cars = pd.read_csv('cars.csv', index_col = 0)\n",
    "\n",
    "# Iterate over rows of cars\n",
    "for a,b in cars.iterrows():\n",
    "    print(a)\n",
    "    print(b)"
   ]
  },
  {
   "cell_type": "markdown",
   "id": "6b0b9d43",
   "metadata": {},
   "source": [
    "#### Loop over DataFrame (2)"
   ]
  },
  {
   "cell_type": "code",
   "execution_count": null,
   "id": "bdc6f583",
   "metadata": {},
   "outputs": [],
   "source": [
    "# Import cars data\n",
    "import pandas as pd\n",
    "cars = pd.read_csv('cars.csv', index_col = 0)\n",
    "\n",
    "# Adapt for loop\n",
    "for a, b in cars.iterrows() :\n",
    "    print(a + ': ' + str(b['cars_per_cap']))"
   ]
  },
  {
   "cell_type": "markdown",
   "id": "d67f5280",
   "metadata": {},
   "source": [
    "#### Add column (1)"
   ]
  },
  {
   "cell_type": "code",
   "execution_count": null,
   "id": "fc0c27c4",
   "metadata": {},
   "outputs": [],
   "source": [
    "# Import cars data\n",
    "import pandas as pd\n",
    "cars = pd.read_csv('cars.csv', index_col = 0)\n",
    "\n",
    "# Code for loop that adds COUNTRY column\n",
    "for a,b in cars.iterrows():\n",
    "    cars.loc[a,'COUNTRY'] = b['country'].upper()\n",
    "\n",
    "\n",
    "# Print cars\n",
    "print(cars)"
   ]
  },
  {
   "cell_type": "markdown",
   "id": "e44c7b4c",
   "metadata": {},
   "source": [
    "#### Add column (2)"
   ]
  },
  {
   "cell_type": "code",
   "execution_count": null,
   "id": "d22a1165",
   "metadata": {},
   "outputs": [],
   "source": [
    "# Import cars data\n",
    "import pandas as pd\n",
    "cars = pd.read_csv('cars.csv', index_col = 0)\n",
    "\n",
    "# Use .apply(str.upper)\n",
    "for lab, row in cars.iterrows() :\n",
    "    cars['COUNTRY'] = cars['country'].apply(str.upper)\n",
    "\n",
    "print(cars)"
   ]
  }
 ],
 "metadata": {
  "kernelspec": {
   "display_name": "Python 3 (ipykernel)",
   "language": "python",
   "name": "python3"
  },
  "language_info": {
   "codemirror_mode": {
    "name": "ipython",
    "version": 3
   },
   "file_extension": ".py",
   "mimetype": "text/x-python",
   "name": "python",
   "nbconvert_exporter": "python",
   "pygments_lexer": "ipython3",
   "version": "3.11.4"
  }
 },
 "nbformat": 4,
 "nbformat_minor": 5
}
