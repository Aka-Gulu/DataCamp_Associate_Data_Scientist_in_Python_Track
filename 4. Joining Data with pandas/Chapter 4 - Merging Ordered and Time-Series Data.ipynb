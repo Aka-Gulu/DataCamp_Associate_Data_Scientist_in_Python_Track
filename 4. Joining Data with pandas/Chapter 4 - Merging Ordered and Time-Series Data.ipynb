{
 "cells": [
  {
   "cell_type": "markdown",
   "id": "da517f5e",
   "metadata": {},
   "source": [
    "#### Correlation between GDP and S&P500"
   ]
  },
  {
   "cell_type": "code",
   "execution_count": null,
   "id": "ab352903",
   "metadata": {},
   "outputs": [],
   "source": [
    "# Use merge_ordered() to merge gdp and sp500 on year and date\n",
    "gdp_sp500 = pd.merge_ordered(gdp, sp500, left_on='year', right_on='date', \n",
    "                             how='left')\n",
    "\n",
    "# Print gdp_sp500\n",
    "print(gdp_sp500)\n",
    "\n",
    "\n",
    "\n",
    "# Use merge_ordered() to merge gdp and sp500, interpolate missing value\n",
    "gdp_sp500 = pd.merge_ordered(gdp, sp500, left_on='year', right_on='date',how='left',\n",
    "                             fill_method='ffill')\n",
    "\n",
    "# Print gdp_sp500\n",
    "print (gdp_sp500)\n",
    "\n",
    "\n",
    "\n",
    "# Use merge_ordered() to merge gdp and sp500, interpolate missing value\n",
    "gdp_sp500 = pd.merge_ordered(gdp, sp500, left_on='year', right_on='date', \n",
    "                             how='left',  fill_method='ffill')\n",
    "\n",
    "# Subset the gdp and returns columns\n",
    "gdp_returns = gdp_sp500[['gdp','returns']]\n",
    "\n",
    "# Print gdp_returns correlation\n",
    "print (gdp_returns.corr())"
   ]
  },
  {
   "cell_type": "markdown",
   "id": "6465a551",
   "metadata": {},
   "source": [
    "#### Phillips curve using merge_ordered()"
   ]
  },
  {
   "cell_type": "code",
   "execution_count": null,
   "id": "a188a2a6",
   "metadata": {},
   "outputs": [],
   "source": [
    "# Use merge_ordered() to merge inflation, unemployment with inner join\n",
    "inflation_unemploy = pd.merge_ordered(inflation,unemployment,on='date',how='inner')\n",
    "\n",
    "# Print inflation_unemploy \n",
    "print(inflation_unemploy)\n",
    "\n",
    "# Plot a scatter plot of unemployment_rate vs cpi of inflation_unemploy\n",
    "inflation_unemploy.plot(kind='scatter',x='unemployment_rate',y='cpi',title='unemployment_rate vs cpi of inflation_unemploy')\n",
    "plt.show()"
   ]
  },
  {
   "cell_type": "markdown",
   "id": "426fd008",
   "metadata": {},
   "source": [
    "#### merge_ordered() caution, multiple columns"
   ]
  },
  {
   "cell_type": "code",
   "execution_count": null,
   "id": "b0bed456",
   "metadata": {},
   "outputs": [],
   "source": [
    "# Merge gdp and pop on date and country with fill and notice rows 2 and 3\n",
    "ctry_date = pd.merge_ordered(gdp,pop,on=['date','country'],\n",
    "                             fill_method='ffill')\n",
    "\n",
    "# Print ctry_date\n",
    "print(ctry_date)\n",
    "\n",
    "\n",
    "\n",
    "# Merge gdp and pop on country and date with fill\n",
    "date_ctry = pd.merge_ordered(gdp,pop,on=['country','date'],fill_method='ffill')\n",
    "\n",
    "# Print date_ctry\n",
    "print(date_ctry)"
   ]
  },
  {
   "cell_type": "markdown",
   "id": "89f7c2f1",
   "metadata": {},
   "source": [
    "#### Using merge_asof() to study stocks"
   ]
  },
  {
   "cell_type": "code",
   "execution_count": null,
   "id": "82a6269c",
   "metadata": {},
   "outputs": [],
   "source": [
    "# Use merge_asof() to merge jpm and wells\n",
    "jpm_wells = pd.merge_asof(jpm,wells,on='date_time',suffixes=(['','_wells']),direction='nearest')\n",
    "\n",
    "\n",
    "# Use merge_asof() to merge jpm_wells and bac\n",
    "jpm_wells_bac = pd.merge_asof(jpm_wells,bac,on='date_time',suffixes=(['_jpm','_bac']),direction='nearest')\n",
    "\n",
    "\n",
    "# Compute price diff\n",
    "price_diffs = jpm_wells_bac.diff()\n",
    "\n",
    "# Plot the price diff of the close of jpm, wells and bac only\n",
    "price_diffs.plot(y=['close_jpm', 'close_wells', 'close_bac'])\n",
    "plt.show()"
   ]
  },
  {
   "cell_type": "markdown",
   "id": "b9d171b6",
   "metadata": {},
   "source": [
    "#### Using merge_asof() to create dataset"
   ]
  },
  {
   "cell_type": "code",
   "execution_count": null,
   "id": "4d486ac1",
   "metadata": {},
   "outputs": [],
   "source": [
    "# Merge gdp and recession on date using merge_asof()\n",
    "gdp_recession = pd.merge_asof(gdp,recession,on='date')\n",
    "\n",
    "# Create a list based on the row value of gdp_recession['econ_status']\n",
    "is_recession = ['r' if s=='recession' else 'g' for s in gdp_recession['econ_status']]\n",
    "\n",
    "# Plot a bar chart of gdp_recession\n",
    "gdp_recession.plot(kind='bar', y='gdp', x='date', color=is_recession, rot=90)\n",
    "plt.show()"
   ]
  },
  {
   "cell_type": "markdown",
   "id": "fb1f97fd",
   "metadata": {},
   "source": [
    "#### Subsetting rows with .query()"
   ]
  },
  {
   "cell_type": "code",
   "execution_count": null,
   "id": "24e263d0",
   "metadata": {},
   "outputs": [],
   "source": [
    "# Merge gdp and pop on date and country with fill\n",
    "gdp_pop = pd.merge_ordered(gdp,pop,on=['country','date'],fill_method='ffill')\n",
    "\n",
    "\n",
    "\n",
    "# Merge gdp and pop on date and country with fill\n",
    "gdp_pop = pd.merge_ordered(gdp, pop, on=['country','date'], fill_method='ffill')\n",
    "\n",
    "# Add a column named gdp_per_capita to gdp_pop that divides the gdp by pop\n",
    "gdp_pop['gdp_per_capita']=gdp_pop['gdp']/gdp_pop['pop']\n",
    "\n",
    "\n",
    "\n",
    "# Merge gdp and pop on date and country with fill\n",
    "gdp_pop = pd.merge_ordered(gdp, pop, on=['country','date'], fill_method='ffill')\n",
    "\n",
    "# Add a column named gdp_per_capita to gdp_pop that divides the gdp by pop\n",
    "gdp_pop['gdp_per_capita'] = gdp_pop['gdp'] / gdp_pop['pop']\n",
    "\n",
    "# Pivot table of gdp_per_capita, where index is date and columns is country\n",
    "gdp_pivot = gdp_pop.pivot_table('gdp_per_capita', index='date', columns='country')\n",
    "\n",
    "\n",
    "\n",
    "\n",
    "\n",
    "# Merge gdp and pop on date and country with fill\n",
    "gdp_pop = pd.merge_ordered(gdp, pop, on=['country','date'], fill_method='ffill')\n",
    "\n",
    "# Add a column named gdp_per_capita to gdp_pop that divides the gdp by pop\n",
    "gdp_pop['gdp_per_capita'] = gdp_pop['gdp'] / gdp_pop['pop']\n",
    "\n",
    "# Pivot data so gdp_per_capita, where index is date and columns is country\n",
    "gdp_pivot = gdp_pop.pivot_table('gdp_per_capita', 'date', 'country')\n",
    "\n",
    "# Select dates equal to or greater than 1991-01-01\n",
    "recent_gdp_pop = gdp_pivot.query('date >= \"1991-01-01\"')\n",
    "\n",
    "# Plot recent_gdp_pop\n",
    "recent_gdp_pop.plot(rot=90)\n",
    "plt.show()"
   ]
  },
  {
   "cell_type": "markdown",
   "id": "b4e9f1c1",
   "metadata": {},
   "source": [
    "#### Using .melt() to reshape government data"
   ]
  },
  {
   "cell_type": "code",
   "execution_count": null,
   "id": "ce88d376",
   "metadata": {},
   "outputs": [],
   "source": [
    "# unpivot everything besides the year column\n",
    "ur_tall = ur_wide.melt(id_vars=['year'],var_name='month',value_name='unempl_rate')\n",
    "\n",
    "\n",
    "# Create a date column using the month and year columns of ur_tall\n",
    "ur_tall['date'] = pd.to_datetime(ur_tall['month'] + '-' + ur_tall['year'] )\n",
    "\n",
    "# Sort ur_tall by date in ascending order\n",
    "ur_sorted = ur_tall.sort_values('date',ascending = True)\n",
    "\n",
    "# Plot the unempl_rate by date\n",
    "ur_sorted.plot(x='date',y='unempl_rate')\n",
    "plt.show()"
   ]
  },
  {
   "cell_type": "markdown",
   "id": "b5cef04c",
   "metadata": {},
   "source": [
    "#### Using .melt() for stocks vs bond performance"
   ]
  },
  {
   "cell_type": "code",
   "execution_count": null,
   "id": "2ae47709",
   "metadata": {},
   "outputs": [],
   "source": [
    "# Use melt on ten_yr, unpivot everything besides the metric column\n",
    "bond_perc = ten_yr.melt(id_vars=['metric'],var_name='date',value_name='close')\n",
    "\n",
    "# Use query on bond_perc to select only the rows where metric=close\n",
    "bond_perc_close = bond_perc.query('metric == \"close\"')\n",
    "\n",
    "# Merge (ordered) dji and bond_perc_close on date with an inner join\n",
    "dow_bond = pd.merge_ordered(dji,bond_perc_close,on='date',how='inner',suffixes=(['_dow','_bond']))\n",
    "\n",
    "\n",
    "# Plot only the close_dow and close_bond columns\n",
    "dow_bond.plot(y=['close_dow','close_bond'], x='date', rot=90)\n",
    "plt.show()"
   ]
  }
 ],
 "metadata": {
  "kernelspec": {
   "display_name": "Python 3 (ipykernel)",
   "language": "python",
   "name": "python3"
  },
  "language_info": {
   "codemirror_mode": {
    "name": "ipython",
    "version": 3
   },
   "file_extension": ".py",
   "mimetype": "text/x-python",
   "name": "python",
   "nbconvert_exporter": "python",
   "pygments_lexer": "ipython3",
   "version": "3.11.4"
  }
 },
 "nbformat": 4,
 "nbformat_minor": 5
}
