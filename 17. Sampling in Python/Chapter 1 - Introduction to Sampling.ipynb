{
 "cells": [
  {
   "cell_type": "markdown",
   "id": "05ca6da7",
   "metadata": {},
   "source": [
    "#### Simple sampling with pandas"
   ]
  },
  {
   "cell_type": "code",
   "execution_count": null,
   "id": "67fcd5ba",
   "metadata": {},
   "outputs": [],
   "source": [
    "# Sample 1000 rows from spotify_population\n",
    "spotify_sample = spotify_population.sample(1000)\n",
    "\n",
    "# Print the sample\n",
    "print(spotify_sample)"
   ]
  },
  {
   "cell_type": "code",
   "execution_count": null,
   "id": "602cab85",
   "metadata": {},
   "outputs": [],
   "source": [
    "# Sample 1000 rows from spotify_population\n",
    "spotify_sample = spotify_population.sample(n=1000)\n",
    "\n",
    "# Print the sample\n",
    "print(spotify_sample)\n",
    "\n",
    "# Calculate the mean duration in mins from spotify_population\n",
    "mean_dur_pop = spotify_population['duration_minutes'].mean()\n",
    "\n",
    "# Calculate the mean duration in mins from spotify_sample\n",
    "mean_dur_samp = spotify_sample['duration_minutes'].mean()\n",
    "\n",
    "# Print the means\n",
    "print(mean_dur_pop)\n",
    "print(mean_dur_samp)"
   ]
  },
  {
   "cell_type": "markdown",
   "id": "3fed7269",
   "metadata": {},
   "source": [
    "#### Simple sampling and calculating with NumPy"
   ]
  },
  {
   "cell_type": "code",
   "execution_count": null,
   "id": "5a718457",
   "metadata": {},
   "outputs": [],
   "source": [
    "# Create a pandas Series from the loudness column of spotify_population\n",
    "loudness_pop = spotify_population['loudness']\n",
    "\n",
    "# Sample 100 values of loudness_pop\n",
    "loudness_samp = loudness_pop.sample(100)\n",
    "\n",
    "print(loudness_samp)"
   ]
  },
  {
   "cell_type": "code",
   "execution_count": null,
   "id": "99b122ab",
   "metadata": {},
   "outputs": [],
   "source": [
    "# Create a pandas Series from the loudness column of spotify_population\n",
    "loudness_pop = spotify_population['loudness']\n",
    "\n",
    "# Sample 100 values of loudness_pop\n",
    "loudness_samp = loudness_pop.sample(n=100)\n",
    "\n",
    "# Calculate the mean of loudness_pop\n",
    "mean_loudness_pop = loudness_pop.mean()\n",
    "\n",
    "# Calculate the mean of loudness_samp\n",
    "mean_loudness_samp = loudness_samp.mean()\n",
    "\n",
    "print(mean_loudness_pop)\n",
    "print(mean_loudness_samp)"
   ]
  },
  {
   "cell_type": "markdown",
   "id": "8d5666eb",
   "metadata": {},
   "source": [
    "#### Are findings from the sample generalizable?"
   ]
  },
  {
   "cell_type": "code",
   "execution_count": null,
   "id": "15c09fcf",
   "metadata": {},
   "outputs": [],
   "source": [
    "# Visualize the distribution of acousticness with a histogram\n",
    "spotify_population['acousticness'].hist(bins=np.arange(0,1.01,0.01))\n",
    "plt.show()"
   ]
  },
  {
   "cell_type": "code",
   "execution_count": null,
   "id": "1a0c9470",
   "metadata": {},
   "outputs": [],
   "source": [
    "# Update the histogram to use spotify_mysterious_sample\n",
    "spotify_mysterious_sample['acousticness'].hist(bins=np.arange(0, 1.01, 0.01))\n",
    "plt.show()"
   ]
  },
  {
   "cell_type": "markdown",
   "id": "d9d0acc2",
   "metadata": {},
   "source": [
    "#### Are these findings generalizable?"
   ]
  },
  {
   "cell_type": "code",
   "execution_count": null,
   "id": "b5769f9b",
   "metadata": {},
   "outputs": [],
   "source": [
    "# Visualize the distribution of duration_minutes as a histogram\n",
    "spotify_population['duration_minutes'].hist(bins=np.arange(0,15.5,0.5))\n",
    "plt.show()"
   ]
  },
  {
   "cell_type": "code",
   "execution_count": null,
   "id": "4e5bc1ee",
   "metadata": {},
   "outputs": [],
   "source": [
    "# Update the histogram to use spotify_mysterious_sample2\n",
    "spotify_mysterious_sample2['duration_minutes'].hist(bins=np.arange(0, 15.5, 0.5))\n",
    "plt.show()"
   ]
  },
  {
   "cell_type": "markdown",
   "id": "b3cfed55",
   "metadata": {},
   "source": [
    "#### Generating random numbers"
   ]
  },
  {
   "cell_type": "code",
   "execution_count": null,
   "id": "e6dc32e1",
   "metadata": {},
   "outputs": [],
   "source": [
    "# Generate random numbers from a Uniform(-3, 3)\n",
    "uniforms = np.random.uniform(-3,3,size=5000)\n",
    "\n",
    "# Print uniforms\n",
    "print(uniforms)"
   ]
  },
  {
   "cell_type": "code",
   "execution_count": null,
   "id": "f1ac6647",
   "metadata": {},
   "outputs": [],
   "source": [
    "# Generate random numbers from a Uniform(-3, 3)\n",
    "uniforms = np.random.uniform(low=-3, high=3, size=5000)\n",
    "\n",
    "# Generate random numbers from a Normal(5, 2)\n",
    "normals = np.random.normal(loc=5,scale=2,size=5000)\n",
    "\n",
    "# Print normals\n",
    "print(normals)"
   ]
  },
  {
   "cell_type": "code",
   "execution_count": null,
   "id": "67dea108",
   "metadata": {},
   "outputs": [],
   "source": [
    "# Generate random numbers from a Uniform(-3, 3)\n",
    "uniforms = np.random.uniform(low=-3, high=3, size=5000)\n",
    "\n",
    "# Plot a histogram of uniform values, binwidth 0.25\n",
    "plt.hist(uniforms,bins=np.arange(-3,3.25,0.25))\n",
    "plt.show()"
   ]
  },
  {
   "cell_type": "code",
   "execution_count": null,
   "id": "41ff8dfa",
   "metadata": {},
   "outputs": [],
   "source": [
    "# Generate random numbers from a Normal(5, 2)\n",
    "normals = np.random.normal(loc=5, scale=2, size=5000)\n",
    "\n",
    "# Plot a histogram of normal values, binwidth 0.5\n",
    "plt.hist(normals,bins=np.arange(-2,13.5,0.5))\n",
    "plt.show()"
   ]
  }
 ],
 "metadata": {
  "kernelspec": {
   "display_name": "Python 3 (ipykernel)",
   "language": "python",
   "name": "python3"
  },
  "language_info": {
   "codemirror_mode": {
    "name": "ipython",
    "version": 3
   },
   "file_extension": ".py",
   "mimetype": "text/x-python",
   "name": "python",
   "nbconvert_exporter": "python",
   "pygments_lexer": "ipython3",
   "version": "3.11.4"
  }
 },
 "nbformat": 4,
 "nbformat_minor": 5
}
