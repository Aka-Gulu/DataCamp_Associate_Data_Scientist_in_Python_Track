{
 "cells": [
  {
   "cell_type": "markdown",
   "id": "c99580f0",
   "metadata": {},
   "source": [
    "#### Generating a bootstrap distribution"
   ]
  },
  {
   "cell_type": "code",
   "execution_count": null,
   "id": "3e683a25",
   "metadata": {},
   "outputs": [],
   "source": [
    "# Generate 1 bootstrap resample\n",
    "spotify_1_resample = spotify_sample.sample(frac=1,replace=True)\n",
    "\n",
    "# Print the resample\n",
    "print(spotify_1_resample)"
   ]
  },
  {
   "cell_type": "code",
   "execution_count": null,
   "id": "8b61f720",
   "metadata": {},
   "outputs": [],
   "source": [
    "# Generate 1 bootstrap resample\n",
    "spotify_1_resample = spotify_sample.sample(frac=1, replace=True)\n",
    "\n",
    "# Calculate of the danceability column of spotify_1_resample\n",
    "mean_danceability_1 = np.mean(spotify_1_resample['danceability'])\n",
    "\n",
    "# Print the result\n",
    "print(mean_danceability_1)"
   ]
  },
  {
   "cell_type": "code",
   "execution_count": null,
   "id": "1e7d46da",
   "metadata": {},
   "outputs": [],
   "source": [
    "# Replicate this 1000 times\n",
    "mean_danceability_1000 = []\n",
    "for i in range(1000):\n",
    "\tmean_danceability_1000.append(\n",
    "        np.mean(spotify_sample.sample(frac=1, replace=True)['danceability'])\n",
    "\t)\n",
    "  \n",
    "# Print the result\n",
    "print(mean_danceability_1000)"
   ]
  },
  {
   "cell_type": "code",
   "execution_count": null,
   "id": "1469c0e9",
   "metadata": {},
   "outputs": [],
   "source": [
    "# Replicate this 1000 times\n",
    "mean_danceability_1000 = []\n",
    "for i in range(1000):\n",
    "\tmean_danceability_1000.append(\n",
    "        np.mean(spotify_sample.sample(frac=1, replace=True)['danceability'])\n",
    "\t)\n",
    "\n",
    "# Draw a histogram of the resample means\n",
    "plt.hist(mean_danceability_1000)\n",
    "plt.show()"
   ]
  },
  {
   "cell_type": "markdown",
   "id": "82a92603",
   "metadata": {},
   "source": [
    "#### Sampling distribution vs. bootstrap distribution"
   ]
  },
  {
   "cell_type": "code",
   "execution_count": null,
   "id": "ba60efd4",
   "metadata": {},
   "outputs": [],
   "source": [
    "mean_popularity_2000_samp = []\n",
    "\n",
    "# Generate a sampling distribution of 2000 replicates\n",
    "for i in range(2000):\n",
    "    mean_popularity_2000_samp.append(\n",
    "    \t# Sample 500 rows and calculate the mean popularity \n",
    "    \tnp.mean(spotify_population.sample(n=500,replace=False)['popularity'])\n",
    "    )\n",
    "\n",
    "# Print the sampling distribution results\n",
    "print(mean_popularity_2000_samp)"
   ]
  },
  {
   "cell_type": "code",
   "execution_count": null,
   "id": "e2704e5b",
   "metadata": {},
   "outputs": [],
   "source": [
    "mean_popularity_2000_boot = []\n",
    "\n",
    "# Generate a bootstrap distribution of 2000 replicates\n",
    "for i in range(2000):\n",
    "    mean_popularity_2000_boot.append(\n",
    "    \t# Resample 500 rows and calculate the mean popularity     \n",
    "    \tnp.mean(spotify_sample.sample(frac=1,replace=True)['popularity'])\n",
    "    )\n",
    "\n",
    "# Print the bootstrap distribution results\n",
    "print(mean_popularity_2000_boot)"
   ]
  },
  {
   "cell_type": "markdown",
   "id": "af5dfe60",
   "metadata": {},
   "source": [
    "#### Compare sampling and bootstrap means"
   ]
  },
  {
   "cell_type": "code",
   "execution_count": null,
   "id": "bcc185ff",
   "metadata": {},
   "outputs": [],
   "source": [
    "# Calculate the population mean popularity\n",
    "pop_mean = np.mean(spotify_population['popularity'])\n",
    "\n",
    "# Calculate the original sample mean popularity\n",
    "samp_mean = np.mean(spotify_sample.sample(n=5000)['popularity'])\n",
    "\n",
    "# Calculate the sampling dist'n estimate of mean popularity\n",
    "samp_distn_mean = np.mean(sampling_distribution)\n",
    "\n",
    "# Calculate the bootstrap dist'n estimate of mean popularity\n",
    "boot_distn_mean = np.mean(bootstrap_distribution)\n",
    "\n",
    "# Print the means\n",
    "print([pop_mean, samp_mean, samp_distn_mean, boot_distn_mean])"
   ]
  },
  {
   "cell_type": "markdown",
   "id": "a24a3c61",
   "metadata": {},
   "source": [
    "#### Compare sampling and bootstrap standard deviations"
   ]
  },
  {
   "cell_type": "code",
   "execution_count": null,
   "id": "10ce0cc2",
   "metadata": {},
   "outputs": [],
   "source": [
    "# Calculate the population std dev popularity\n",
    "pop_sd = spotify_population['popularity'].std(ddof=0)\n",
    "\n",
    "# Calculate the original sample std dev popularity\n",
    "samp_sd = spotify_sample['popularity'].std()\n",
    "\n",
    "# Calculate the sampling dist'n estimate of std dev popularity\n",
    "samp_distn_sd = np.std(sampling_distribution, ddof=1) * np.sqrt(5000)\n",
    "\n",
    "# Calculate the bootstrap dist'n estimate of std dev popularity\n",
    "boot_distn_sd = np.std(bootstrap_distribution, ddof=1) * np.sqrt(5000)\n",
    "\n",
    "# Print the standard deviations\n",
    "print([pop_sd, samp_sd, samp_distn_sd, boot_distn_sd])"
   ]
  },
  {
   "cell_type": "markdown",
   "id": "ae38fbe2",
   "metadata": {},
   "source": [
    "#### Calculating confidence intervals"
   ]
  },
  {
   "cell_type": "code",
   "execution_count": null,
   "id": "3a6e9d7e",
   "metadata": {},
   "outputs": [],
   "source": [
    "# Generate a 95% confidence interval using the quantile method\n",
    "lower_quant = np.quantile(bootstrap_distribution,0.025)\n",
    "upper_quant = np.quantile(bootstrap_distribution,0.975)\n",
    "\n",
    "# Print quantile method confidence interval\n",
    "print((lower_quant, upper_quant))"
   ]
  },
  {
   "cell_type": "code",
   "execution_count": null,
   "id": "f5fb5ae4",
   "metadata": {},
   "outputs": [],
   "source": [
    "# Find the mean and std dev of the bootstrap distribution\n",
    "point_estimate = np.mean(bootstrap_distribution)\n",
    "standard_error = np.std(bootstrap_distribution,ddof=1)\n",
    "\n",
    "# Find the lower limit of the confidence interval\n",
    "lower_se = norm.ppf(0.025, loc=point_estimate, scale=standard_error)\n",
    "\n",
    "# Find the upper limit of the confidence interval\n",
    "upper_se = norm.ppf(0.975, loc=point_estimate, scale=standard_error)\n",
    "\n",
    "# Print standard error method confidence interval\n",
    "print((lower_se, upper_se))"
   ]
  }
 ],
 "metadata": {
  "kernelspec": {
   "display_name": "Python 3 (ipykernel)",
   "language": "python",
   "name": "python3"
  },
  "language_info": {
   "codemirror_mode": {
    "name": "ipython",
    "version": 3
   },
   "file_extension": ".py",
   "mimetype": "text/x-python",
   "name": "python",
   "nbconvert_exporter": "python",
   "pygments_lexer": "ipython3",
   "version": "3.11.4"
  }
 },
 "nbformat": 4,
 "nbformat_minor": 5
}
