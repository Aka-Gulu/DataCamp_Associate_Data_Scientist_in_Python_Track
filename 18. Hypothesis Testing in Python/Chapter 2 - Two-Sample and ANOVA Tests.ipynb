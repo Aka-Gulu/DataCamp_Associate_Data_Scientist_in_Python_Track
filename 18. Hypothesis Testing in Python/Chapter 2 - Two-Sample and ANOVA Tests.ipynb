{
 "cells": [
  {
   "cell_type": "markdown",
   "id": "cd0427ee",
   "metadata": {},
   "source": [
    "#### Two sample mean test statistic"
   ]
  },
  {
   "cell_type": "code",
   "execution_count": null,
   "id": "5298f38e",
   "metadata": {},
   "outputs": [],
   "source": [
    "# Calculate the numerator of the test statistic\n",
    "numerator = xbar_no - xbar_yes\n",
    "\n",
    "# Calculate the denominator of the test statistic\n",
    "denominator = np.sqrt(s_no**2/n_no + s_yes**2/n_yes)\n",
    "\n",
    "# Calculate the test statistic\n",
    "t_stat = numerator/denominator\n",
    "\n",
    "# Print the test statistic\n",
    "print(t_stat)"
   ]
  },
  {
   "cell_type": "markdown",
   "id": "e8e49082",
   "metadata": {},
   "source": [
    "#### From t to p"
   ]
  },
  {
   "cell_type": "code",
   "execution_count": null,
   "id": "1600d93d",
   "metadata": {},
   "outputs": [],
   "source": [
    "# Calculate the degrees of freedom\n",
    "degrees_of_freedom = n_no + n_yes - 2\n",
    "\n",
    "# Calculate the p-value from the test stat\n",
    "p_value = t.cdf(t_stat,df=degrees_of_freedom)\n",
    "\n",
    "# Print the p_value\n",
    "print(p_value)"
   ]
  },
  {
   "cell_type": "markdown",
   "id": "e8bd407a",
   "metadata": {},
   "source": [
    "#### Visualizing the difference"
   ]
  },
  {
   "cell_type": "code",
   "execution_count": null,
   "id": "e56ee437",
   "metadata": {},
   "outputs": [],
   "source": [
    "# Calculate the differences from 2012 to 2016\n",
    "sample_dem_data['diff'] = sample_dem_data['dem_percent_12'] - sample_dem_data['dem_percent_16']\n",
    "\n",
    "# Print sample_dem_data\n",
    "print(sample_dem_data)"
   ]
  },
  {
   "cell_type": "code",
   "execution_count": null,
   "id": "6589c294",
   "metadata": {},
   "outputs": [],
   "source": [
    "# Calculate the differences from 2012 to 2016\n",
    "sample_dem_data['diff'] = sample_dem_data['dem_percent_12'] - sample_dem_data['dem_percent_16']\n",
    "\n",
    "# Find the mean of the diff column\n",
    "xbar_diff = sample_dem_data['diff'].mean()\n",
    "\n",
    "# Print xbar_diff\n",
    "print(xbar_diff)"
   ]
  },
  {
   "cell_type": "code",
   "execution_count": null,
   "id": "319fe47b",
   "metadata": {},
   "outputs": [],
   "source": [
    "# Calculate the differences from 2012 to 2016\n",
    "sample_dem_data['diff'] = sample_dem_data['dem_percent_12'] - sample_dem_data['dem_percent_16']\n",
    "\n",
    "# Find the mean of the diff column\n",
    "xbar_diff = sample_dem_data['diff'].mean()\n",
    "\n",
    "# Find the standard deviation of the diff column\n",
    "s_diff = sample_dem_data['diff'].std()\n",
    "\n",
    "# Print s_diff\n",
    "print(s_diff)"
   ]
  },
  {
   "cell_type": "code",
   "execution_count": null,
   "id": "7cec38b6",
   "metadata": {},
   "outputs": [],
   "source": [
    "# Calculate the differences from 2012 to 2016\n",
    "sample_dem_data['diff'] = sample_dem_data['dem_percent_12'] - sample_dem_data['dem_percent_16']\n",
    "\n",
    "# Find the mean of the diff column\n",
    "xbar_diff = sample_dem_data['diff'].mean()\n",
    "\n",
    "# Find the standard deviation of the diff column\n",
    "s_diff = sample_dem_data['diff'].std()\n",
    "\n",
    "# Plot a histogram of diff with 20 bins\n",
    "sample_dem_data['diff'].hist(bins=20)\n",
    "plt.show()"
   ]
  },
  {
   "cell_type": "markdown",
   "id": "489d3ff9",
   "metadata": {},
   "source": [
    "#### Using ttest()"
   ]
  },
  {
   "cell_type": "code",
   "execution_count": null,
   "id": "942e8df3",
   "metadata": {},
   "outputs": [],
   "source": [
    "# Conduct a t-test on diff\n",
    "test_results = pingouin.ttest(x=sample_dem_data['diff'],y=0,alternative='two-sided')\n",
    "                           \n",
    "# Print the test results\n",
    "print(test_results)"
   ]
  },
  {
   "cell_type": "code",
   "execution_count": null,
   "id": "eeea0d7c",
   "metadata": {},
   "outputs": [],
   "source": [
    "# Conduct a t-test on diff\n",
    "test_results = pingouin.ttest(x=sample_dem_data['diff'], \n",
    "                              y=0, \n",
    "                              alternative=\"two-sided\")\n",
    "\n",
    "# Conduct a paired t-test on dem_percent_12 and dem_percent_16\n",
    "paired_test_results = pingouin.ttest(x=sample_dem_data['dem_percent_12'],\n",
    "                                    y=sample_dem_data['dem_percent_16'],alternative='two-sided')\n",
    "\n",
    "\n",
    "\n",
    "                              \n",
    "# Print the paired test results\n",
    "print(paired_test_results)\n"
   ]
  },
  {
   "cell_type": "markdown",
   "id": "cb2895f9",
   "metadata": {},
   "source": [
    "#### Visualizing many categories"
   ]
  },
  {
   "cell_type": "code",
   "execution_count": null,
   "id": "a6eee46d",
   "metadata": {},
   "outputs": [],
   "source": [
    "# Calculate the mean pack_price for each shipment_mode\n",
    "xbar_pack_by_mode = late_shipments.groupby('shipment_mode')['pack_price'].mean()\n",
    "\n",
    "# Print the grouped means\n",
    "print(xbar_pack_by_mode)"
   ]
  },
  {
   "cell_type": "code",
   "execution_count": null,
   "id": "b929c761",
   "metadata": {},
   "outputs": [],
   "source": [
    "# Calculate the mean pack_price for each shipment_mode\n",
    "xbar_pack_by_mode = late_shipments.groupby(\"shipment_mode\")['pack_price'].mean()\n",
    "\n",
    "# Calculate the standard deviation of the pack_price for each shipment_mode\n",
    "s_pack_by_mode = late_shipments.groupby(\"shipment_mode\")['pack_price'].std()\n",
    "\n",
    "# Print the grouped standard deviations\n",
    "print(s_pack_by_mode)"
   ]
  },
  {
   "cell_type": "code",
   "execution_count": null,
   "id": "1a7fdbd6",
   "metadata": {},
   "outputs": [],
   "source": [
    "# Calculate the mean pack_price for each shipment_mode\n",
    "xbar_pack_by_mode = late_shipments.groupby(\"shipment_mode\")['pack_price'].mean()\n",
    "\n",
    "# Calculate the standard deviation of the pack_price for each shipment_mode\n",
    "s_pack_by_mode = late_shipments.groupby(\"shipment_mode\")['pack_price'].std()\n",
    "\n",
    "# Boxplot of shipment_mode vs. pack_price\n",
    "sns.boxplot(x='pack_price',y='shipment_mode',data=late_shipments)\n",
    "plt.show()"
   ]
  },
  {
   "cell_type": "markdown",
   "id": "0ff9aff1",
   "metadata": {},
   "source": [
    "#### Conducting an ANOVA test"
   ]
  },
  {
   "cell_type": "code",
   "execution_count": null,
   "id": "cc0fbea6",
   "metadata": {},
   "outputs": [],
   "source": [
    "# Run an ANOVA for pack_price across shipment_mode\n",
    "anova_results = pingouin.anova(data=late_shipments,dv='pack_price',between='shipment_mode')\n",
    "\n",
    "# Print anova_results\n",
    "print(anova_results)"
   ]
  },
  {
   "cell_type": "markdown",
   "id": "50c07bdb",
   "metadata": {},
   "source": [
    "#### Pairwise t-tests"
   ]
  },
  {
   "cell_type": "code",
   "execution_count": null,
   "id": "ed50f53f",
   "metadata": {},
   "outputs": [],
   "source": [
    "# Perform a pairwise t-test on pack price, grouped by shipment mode\n",
    "pairwise_results = pingouin.pairwise_tests(data=late_shipments,dv='pack_price',between='shipment_mode')\n",
    "\n",
    "# Print pairwise_results\n",
    "print(pairwise_results)"
   ]
  },
  {
   "cell_type": "code",
   "execution_count": null,
   "id": "5af50c21",
   "metadata": {},
   "outputs": [],
   "source": [
    "# Modify the pairwise t-tests to use Bonferroni p-value adjustment\n",
    "pairwise_results = pingouin.pairwise_tests(data=late_shipments, \n",
    "                                           dv=\"pack_price\",\n",
    "                                           between=\"shipment_mode\",\n",
    "                                           padjust=\"bonf\")\n",
    "\n",
    "# Print pairwise_results\n",
    "print(pairwise_results)"
   ]
  }
 ],
 "metadata": {
  "kernelspec": {
   "display_name": "Python 3 (ipykernel)",
   "language": "python",
   "name": "python3"
  },
  "language_info": {
   "codemirror_mode": {
    "name": "ipython",
    "version": 3
   },
   "file_extension": ".py",
   "mimetype": "text/x-python",
   "name": "python",
   "nbconvert_exporter": "python",
   "pygments_lexer": "ipython3",
   "version": "3.11.4"
  }
 },
 "nbformat": 4,
 "nbformat_minor": 5
}
