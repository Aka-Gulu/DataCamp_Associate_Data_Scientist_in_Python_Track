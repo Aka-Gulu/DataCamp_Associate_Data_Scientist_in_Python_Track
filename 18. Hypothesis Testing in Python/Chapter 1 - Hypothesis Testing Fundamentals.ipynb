{
 "cells": [
  {
   "cell_type": "markdown",
   "id": "80e7d4a6",
   "metadata": {},
   "source": [
    "#### Calculating the sample mean"
   ]
  },
  {
   "cell_type": "code",
   "execution_count": null,
   "id": "eb5a82a4",
   "metadata": {},
   "outputs": [],
   "source": [
    "# Print the late_shipments dataset\n",
    "print(late_shipments)"
   ]
  },
  {
   "cell_type": "code",
   "execution_count": null,
   "id": "9d2fcab3",
   "metadata": {},
   "outputs": [],
   "source": [
    "# Print the late_shipments dataset\n",
    "print(late_shipments)\n",
    "\n",
    "# Calculate the proportion of late shipments\n",
    "late_prop_samp = (late_shipments['late']=='Yes').mean()\n",
    "\n",
    "# Print the results\n",
    "print(late_prop_samp)"
   ]
  },
  {
   "cell_type": "markdown",
   "id": "a8a624cc",
   "metadata": {},
   "source": [
    "#### Calculating a z-score"
   ]
  },
  {
   "cell_type": "code",
   "execution_count": null,
   "id": "4ce23631",
   "metadata": {},
   "outputs": [],
   "source": [
    "# Hypothesize that the proportion is 6%\n",
    "late_prop_hyp = 0.06\n",
    "\n",
    "# Calculate the standard error\n",
    "std_error = np.std(late_shipments_boot_distn)\n",
    "\n",
    "# Find z-score of late_prop_samp\n",
    "z_score = (late_prop_samp - late_prop_hyp)/std_error\n",
    "\n",
    "# Print z_score\n",
    "print(z_score)"
   ]
  },
  {
   "cell_type": "markdown",
   "id": "32c2e3dd",
   "metadata": {},
   "source": [
    "#### Calculating p-values"
   ]
  },
  {
   "cell_type": "code",
   "execution_count": null,
   "id": "6dd066fa",
   "metadata": {},
   "outputs": [],
   "source": [
    "# Calculate the z-score of late_prop_samp\n",
    "z_score = (late_prop_samp - late_prop_hyp)/std_error \n",
    "\n",
    "# Calculate the p-value\n",
    "p_value = 1 - norm.cdf(z_score,loc=0,scale=1)\n",
    "                 \n",
    "# Print the p-value\n",
    "print(p_value) "
   ]
  },
  {
   "cell_type": "markdown",
   "id": "aafbc1c3",
   "metadata": {},
   "source": [
    "#### Calculating a confidence interval"
   ]
  },
  {
   "cell_type": "code",
   "execution_count": null,
   "id": "452642d8",
   "metadata": {},
   "outputs": [],
   "source": [
    "# Calculate 95% confidence interval using quantile method\n",
    "lower = np.quantile(late_shipments_boot_distn,0.025)\n",
    "upper = np.quantile(late_shipments_boot_distn,0.975)\n",
    "\n",
    "# Print the confidence interval\n",
    "print((lower, upper))"
   ]
  }
 ],
 "metadata": {
  "kernelspec": {
   "display_name": "Python 3 (ipykernel)",
   "language": "python",
   "name": "python3"
  },
  "language_info": {
   "codemirror_mode": {
    "name": "ipython",
    "version": 3
   },
   "file_extension": ".py",
   "mimetype": "text/x-python",
   "name": "python",
   "nbconvert_exporter": "python",
   "pygments_lexer": "ipython3",
   "version": "3.11.4"
  }
 },
 "nbformat": 4,
 "nbformat_minor": 5
}
