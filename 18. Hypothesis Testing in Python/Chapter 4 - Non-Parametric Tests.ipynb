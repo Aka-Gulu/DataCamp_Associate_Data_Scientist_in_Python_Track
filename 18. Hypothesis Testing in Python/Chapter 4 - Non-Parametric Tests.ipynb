{
 "cells": [
  {
   "cell_type": "markdown",
   "id": "ccc56bc9",
   "metadata": {},
   "source": [
    "#### Testing sample size"
   ]
  },
  {
   "cell_type": "code",
   "execution_count": null,
   "id": "a054e08f",
   "metadata": {},
   "outputs": [],
   "source": [
    "# Count the freight_cost_group values\n",
    "counts = late_shipments['freight_cost_group'].value_counts()\n",
    "\n",
    "# Print the result\n",
    "print(counts)\n",
    "\n",
    "# Inspect whether the counts are big enough\n",
    "print((counts >= 30).all())"
   ]
  },
  {
   "cell_type": "code",
   "execution_count": null,
   "id": "af361d2c",
   "metadata": {},
   "outputs": [],
   "source": [
    "# Count the late values\n",
    "counts = late_shipments['late'].value_counts()\n",
    "\n",
    "# Print the result\n",
    "print(counts)\n",
    "\n",
    "# Inspect whether the counts are big enough\n",
    "print((counts >= 10).all())"
   ]
  },
  {
   "cell_type": "code",
   "execution_count": null,
   "id": "0105c422",
   "metadata": {},
   "outputs": [],
   "source": [
    "# Count the values of freight_cost_group grouped by vendor_inco_term\n",
    "counts = late_shipments.groupby('vendor_inco_term')['freight_cost_group'].value_counts()\n",
    "\n",
    "# Print the result\n",
    "print(counts)\n",
    "\n",
    "# Inspect whether the counts are big enough\n",
    "print((counts >= 5).all())"
   ]
  },
  {
   "cell_type": "code",
   "execution_count": null,
   "id": "b3f37f47",
   "metadata": {},
   "outputs": [],
   "source": [
    "# Count the shipment_mode values\n",
    "counts = late_shipments['shipment_mode'].value_counts()\n",
    "\n",
    "# Print the result\n",
    "print(counts)\n",
    "\n",
    "# Inspect whether the counts are big enough\n",
    "print((counts >= 30).all())"
   ]
  },
  {
   "cell_type": "markdown",
   "id": "5c4e8a81",
   "metadata": {},
   "source": [
    "#### Wilcoxon signed-rank test"
   ]
  },
  {
   "cell_type": "code",
   "execution_count": null,
   "id": "82f40b74",
   "metadata": {},
   "outputs": [],
   "source": [
    "# Conduct a paired t-test on dem_percent_12 and dem_percent_16\n",
    "paired_test_results = pingouin.ttest(sample_dem_data['dem_percent_12'],sample_dem_data['dem_percent_16'],paired=True)\n",
    "\n",
    "\n",
    "# Print paired t-test results\n",
    "print(paired_test_results)"
   ]
  },
  {
   "cell_type": "code",
   "execution_count": null,
   "id": "30403a9a",
   "metadata": {},
   "outputs": [],
   "source": [
    "# Conduct a Wilcoxon test on dem_percent_12 and dem_percent_16\n",
    "wilcoxon_test_results = pingouin.wilcoxon(sample_dem_data['dem_percent_12'],sample_dem_data['dem_percent_16'])\n",
    "\n",
    "# Print Wilcoxon test results\n",
    "print(wilcoxon_test_results)"
   ]
  },
  {
   "cell_type": "markdown",
   "id": "a3a69c88",
   "metadata": {},
   "source": [
    "#### Wilcoxon-Mann-Whitney"
   ]
  },
  {
   "cell_type": "code",
   "execution_count": null,
   "id": "64c80599",
   "metadata": {},
   "outputs": [],
   "source": [
    "# Select the weight_kilograms and late columns\n",
    "weight_vs_late = late_shipments[['weight_kilograms','late']]\n",
    "\n",
    "# Convert weight_vs_late into wide format\n",
    "weight_vs_late_wide = weight_vs_late.pivot(columns='late', \n",
    "                                           values='weight_kilograms')\n",
    "\n",
    "\n",
    "# Run a two-sided Wilcoxon-Mann-Whitney test on weight_kilograms vs. late\n",
    "wmw_test = pingouin.mwu(x=weight_vs_late_wide['Yes'],y=weight_vs_late_wide['No'],alternative='two-sided')\n",
    "\n",
    "\n",
    "\n",
    "# Print the test results\n",
    "print(wmw_test)"
   ]
  },
  {
   "cell_type": "markdown",
   "id": "8d75f6c0",
   "metadata": {},
   "source": [
    "#### Kruskal-Wallis"
   ]
  },
  {
   "cell_type": "code",
   "execution_count": null,
   "id": "7a13896c",
   "metadata": {},
   "outputs": [],
   "source": [
    "# Run a Kruskal-Wallis test on weight_kilograms vs. shipment_mode\n",
    "kw_test = pingouin.kruskal(data=late_shipments,dv='weight_kilograms',between='shipment_mode')\n",
    "\n",
    "\n",
    "# Print the results\n",
    "print(kw_test)"
   ]
  }
 ],
 "metadata": {
  "kernelspec": {
   "display_name": "Python 3 (ipykernel)",
   "language": "python",
   "name": "python3"
  },
  "language_info": {
   "codemirror_mode": {
    "name": "ipython",
    "version": 3
   },
   "file_extension": ".py",
   "mimetype": "text/x-python",
   "name": "python",
   "nbconvert_exporter": "python",
   "pygments_lexer": "ipython3",
   "version": "3.11.4"
  }
 },
 "nbformat": 4,
 "nbformat_minor": 5
}
