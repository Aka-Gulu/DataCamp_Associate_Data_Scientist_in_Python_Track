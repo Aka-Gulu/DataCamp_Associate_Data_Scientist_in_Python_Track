{
 "cells": [
  {
   "cell_type": "markdown",
   "id": "d8ee3ccd",
   "metadata": {},
   "source": [
    "#### Test for single proportions"
   ]
  },
  {
   "cell_type": "code",
   "execution_count": null,
   "id": "bcb25fe0",
   "metadata": {},
   "outputs": [],
   "source": [
    "# Hypothesize that the proportion of late shipments is 6%\n",
    "p_0 = 0.06\n",
    "\n",
    "# Calculate the sample proportion of late shipments\n",
    "p_hat = len(late_shipments[late_shipments['late']=='Yes'])/len(late_shipments)\n",
    "\n",
    "# Calculate the sample size\n",
    "n = len(late_shipments)\n",
    "\n",
    "# Print p_hat and n\n",
    "print(p_hat, n)"
   ]
  },
  {
   "cell_type": "code",
   "execution_count": null,
   "id": "481b3b74",
   "metadata": {},
   "outputs": [],
   "source": [
    "# Hypothesize that the proportion of late shipments is 6%\n",
    "p_0 = 0.06\n",
    "\n",
    "# Calculate the sample proportion of late shipments\n",
    "p_hat = (late_shipments['late'] == \"Yes\").mean()\n",
    "\n",
    "# Calculate the sample size\n",
    "n = len(late_shipments)\n",
    "\n",
    "# Calculate the numerator and denominator of the test statistic\n",
    "numerator = p_hat - p_0\n",
    "denominator = np.sqrt(p_0 *(1-p_0)/n)\n",
    "\n",
    "# Calculate the test statistic\n",
    "z_score = numerator/denominator\n",
    "\n",
    "# Print the result\n",
    "print(z_score)"
   ]
  },
  {
   "cell_type": "code",
   "execution_count": null,
   "id": "6784e806",
   "metadata": {},
   "outputs": [],
   "source": [
    "# Hypothesize that the proportion of late shipments is 6%\n",
    "p_0 = 0.06\n",
    "\n",
    "# Calculate the sample proportion of late shipments\n",
    "p_hat = (late_shipments['late'] == \"Yes\").mean()\n",
    "\n",
    "# Calculate the sample size\n",
    "n = len(late_shipments)\n",
    "\n",
    "# Calculate the numerator and denominator of the test statistic\n",
    "numerator = p_hat - p_0\n",
    "denominator = np.sqrt(p_0 * (1 - p_0) / n)\n",
    "\n",
    "# Calculate the test statistic\n",
    "z_score = numerator / denominator\n",
    "\n",
    "# Calculate the p-value from the z-score\n",
    "p_value = 1 - norm.cdf(z_score)\n",
    "\n",
    "# Print the p-value\n",
    "print(p_value)"
   ]
  },
  {
   "cell_type": "markdown",
   "id": "5e2fb870",
   "metadata": {},
   "source": [
    "#### Test of two proportions"
   ]
  },
  {
   "cell_type": "code",
   "execution_count": null,
   "id": "e3077f59",
   "metadata": {},
   "outputs": [],
   "source": [
    "# Calculate the pooled estimate of the population proportion\n",
    "p_hat = (ns['expensive'] * p_hats['expensive']['Yes']+ ns['reasonable'] * p_hats['reasonable']['Yes'])/(ns['expensive'] + ns['reasonable'])\n",
    "\n",
    "# Print the result\n",
    "print(p_hat)"
   ]
  },
  {
   "cell_type": "code",
   "execution_count": null,
   "id": "974513b9",
   "metadata": {},
   "outputs": [],
   "source": [
    "# Calculate the pooled estimate of the population proportion\n",
    "p_hat = (p_hats[\"reasonable\"] * ns[\"reasonable\"] + p_hats[\"expensive\"] * ns[\"expensive\"]) / (ns[\"reasonable\"] + ns[\"expensive\"])\n",
    "\n",
    "# Calculate p_hat one minus p_hat\n",
    "p_hat_times_not_p_hat = p_hat * (1 - p_hat)\n",
    "\n",
    "# Divide this by each of the sample sizes and then sum\n",
    "p_hat_times_not_p_hat_over_ns = p_hat_times_not_p_hat/ ns['expensive'] + p_hat_times_not_p_hat/ns['reasonable']\n",
    "\n",
    "# Calculate the standard error\n",
    "std_error = np.sqrt(p_hat_times_not_p_hat_over_ns)\n",
    "# Print the result\n",
    "print(std_error)"
   ]
  },
  {
   "cell_type": "code",
   "execution_count": null,
   "id": "c3d99f90",
   "metadata": {},
   "outputs": [],
   "source": [
    "# Calculate the pooled estimate of the population proportion\n",
    "p_hat = (p_hats[\"reasonable\"] * ns[\"reasonable\"] + p_hats[\"expensive\"] * ns[\"expensive\"]) / (ns[\"reasonable\"] + ns[\"expensive\"])\n",
    "\n",
    "# Calculate p_hat one minus p_hat\n",
    "p_hat_times_not_p_hat = p_hat * (1 - p_hat)\n",
    "\n",
    "# Divide this by each of the sample sizes and then sum\n",
    "p_hat_times_not_p_hat_over_ns = p_hat_times_not_p_hat / ns[\"expensive\"] + p_hat_times_not_p_hat / ns[\"reasonable\"]\n",
    "\n",
    "# Calculate the standard error\n",
    "std_error = np.sqrt(p_hat_times_not_p_hat_over_ns)\n",
    "\n",
    "# Calculate the z-score\n",
    "z_score = (p_hats['expensive']-p_hats['reasonable'])/std_error\n",
    "\n",
    "# Print z_score\n",
    "print(z_score)"
   ]
  },
  {
   "cell_type": "code",
   "execution_count": null,
   "id": "2c54f391",
   "metadata": {},
   "outputs": [],
   "source": [
    "# Calculate the pooled estimate of the population proportion\n",
    "p_hat = (p_hats[\"reasonable\"] * ns[\"reasonable\"] + p_hats[\"expensive\"] * ns[\"expensive\"]) / (ns[\"reasonable\"] + ns[\"expensive\"])\n",
    "\n",
    "# Calculate p_hat one minus p_hat\n",
    "p_hat_times_not_p_hat = p_hat * (1 - p_hat)\n",
    "\n",
    "# Divide this by each of the sample sizes and then sum\n",
    "p_hat_times_not_p_hat_over_ns = p_hat_times_not_p_hat / ns[\"expensive\"] + p_hat_times_not_p_hat / ns[\"reasonable\"]\n",
    "\n",
    "# Calculate the standard error\n",
    "std_error = np.sqrt(p_hat_times_not_p_hat_over_ns)\n",
    "\n",
    "# Calculate the z-score\n",
    "z_score = (p_hats[\"expensive\"] - p_hats[\"reasonable\"]) / std_error\n",
    "\n",
    "# Calculate the p-value from the z-score\n",
    "p_value = 1-norm.cdf(z_score)\n",
    "\n",
    "# Print p_value\n",
    "print(p_value)"
   ]
  },
  {
   "cell_type": "markdown",
   "id": "eb0028ea",
   "metadata": {},
   "source": [
    "#### proportions_ztest() for two samples"
   ]
  },
  {
   "cell_type": "code",
   "execution_count": null,
   "id": "bfb172b4",
   "metadata": {},
   "outputs": [],
   "source": [
    "# Count the late column values for each freight_cost_group\n",
    "late_by_freight_cost_group = late_shipments.groupby('freight_cost_group')['late'].value_counts()\n",
    "\n",
    "# Print the counts\n",
    "print(late_by_freight_cost_group)"
   ]
  },
  {
   "cell_type": "code",
   "execution_count": null,
   "id": "f00c23c0",
   "metadata": {},
   "outputs": [],
   "source": [
    "# Count the late column values for each freight_cost_group\n",
    "late_by_freight_cost_group = late_shipments.groupby(\"freight_cost_group\")['late'].value_counts()\n",
    "\n",
    "# Create an array of the \"Yes\" counts for each freight_cost_group\n",
    "success_counts = np.array([45, 16])\n",
    "\n",
    "# Create an array of the total number of rows in each freight_cost_group\n",
    "n = np.array([500+45, 439+16])\n",
    "\n",
    "# Run a z-test on the two proportions\n",
    "stat, p_value = proportions_ztest(success_counts,n,alternative='larger')\n",
    "\n",
    "\n",
    "# Print the results\n",
    "print(stat, p_value)"
   ]
  },
  {
   "cell_type": "markdown",
   "id": "e0b2454e",
   "metadata": {},
   "source": [
    "#### Performing a chi-square test"
   ]
  },
  {
   "cell_type": "code",
   "execution_count": null,
   "id": "c0bbfe94",
   "metadata": {},
   "outputs": [],
   "source": [
    "# Proportion of freight_cost_group grouped by vendor_inco_term\n",
    "props = late_shipments.groupby('vendor_inco_term')['freight_cost_group'].value_counts(normalize=True)\n",
    "\n",
    "# Print props\n",
    "print(props)"
   ]
  },
  {
   "cell_type": "code",
   "execution_count": null,
   "id": "f0b99b08",
   "metadata": {},
   "outputs": [],
   "source": [
    "# Proportion of freight_cost_group grouped by vendor_inco_term\n",
    "props = late_shipments.groupby('vendor_inco_term')['freight_cost_group'].value_counts(normalize=True)\n",
    "\n",
    "# Convert props to wide format\n",
    "wide_props = props.unstack()\n",
    "\n",
    "# Print wide_props\n",
    "print(wide_props)"
   ]
  },
  {
   "cell_type": "code",
   "execution_count": null,
   "id": "19da93fd",
   "metadata": {},
   "outputs": [],
   "source": [
    "# Proportion of freight_cost_group grouped by vendor_inco_term\n",
    "props = late_shipments.groupby('vendor_inco_term')['freight_cost_group'].value_counts(normalize=True)\n",
    "\n",
    "# Convert props to wide format\n",
    "wide_props = props.unstack()\n",
    "\n",
    "# Proportional stacked bar plot of freight_cost_group vs. vendor_inco_term\n",
    "wide_props.plot(kind='bar',stacked=True)\n",
    "plt.show()\n"
   ]
  },
  {
   "cell_type": "code",
   "execution_count": null,
   "id": "18177a67",
   "metadata": {},
   "outputs": [],
   "source": [
    "# Proportion of freight_cost_group grouped by vendor_inco_term\n",
    "props = late_shipments.groupby('vendor_inco_term')['freight_cost_group'].value_counts(normalize=True)\n",
    "\n",
    "# Convert props to wide format\n",
    "wide_props = props.unstack()\n",
    "\n",
    "# Proportional stacked bar plot of freight_cost_group vs. vendor_inco_term\n",
    "wide_props.plot(kind=\"bar\", stacked=True)\n",
    "plt.show()\n",
    "\n",
    "# Determine if freight_cost_group and vendor_inco_term are independent\n",
    "expected, observed, stats = pingouin.chi2_independence(data=late_shipments,x='freight_cost_group',y='vendor_inco_term')\n",
    "\n",
    "# Print results\n",
    "print(stats[stats['test'] == 'pearson']) "
   ]
  },
  {
   "cell_type": "markdown",
   "id": "a9edf512",
   "metadata": {},
   "source": [
    "#### Visualizing goodness of fit"
   ]
  },
  {
   "cell_type": "code",
   "execution_count": null,
   "id": "a092bcfb",
   "metadata": {},
   "outputs": [],
   "source": [
    "# Find the number of rows in late_shipments\n",
    "n_total = len(late_shipments)\n",
    "\n",
    "# Print n_total\n",
    "print(n_total)"
   ]
  },
  {
   "cell_type": "code",
   "execution_count": null,
   "id": "3e350d45",
   "metadata": {},
   "outputs": [],
   "source": [
    "# Find the number of rows in late_shipments\n",
    "n_total = len(late_shipments)\n",
    "\n",
    "# Create n column that is prop column * n_total\n",
    "hypothesized['n'] = hypothesized['prop'] * n_total\n",
    "\n",
    "# Print the modified hypothesized DataFrame\n",
    "print(hypothesized)"
   ]
  },
  {
   "cell_type": "code",
   "execution_count": null,
   "id": "4b1e3bac",
   "metadata": {},
   "outputs": [],
   "source": [
    "# Find the number of rows in late_shipments\n",
    "n_total = len(late_shipments)\n",
    "\n",
    "# Create n column that is prop column * n_total\n",
    "hypothesized[\"n\"] = hypothesized[\"prop\"] * n_total\n",
    "\n",
    "# Plot a red bar graph of n vs. vendor_inco_term for incoterm_counts\n",
    "plt.bar(incoterm_counts['vendor_inco_term'],incoterm_counts['n'],color='red', label=\"Observed\")\n",
    "plt.legend()\n",
    "plt.show()"
   ]
  },
  {
   "cell_type": "code",
   "execution_count": null,
   "id": "f0f7570c",
   "metadata": {},
   "outputs": [],
   "source": [
    "# Find the number of rows in late_shipments\n",
    "n_total = len(late_shipments)\n",
    "\n",
    "# Create n column that is prop column * n_total\n",
    "hypothesized[\"n\"] = hypothesized[\"prop\"] * n_total\n",
    "\n",
    "# Plot a red bar graph of n vs. vendor_inco_term for incoterm_counts\n",
    "plt.bar(incoterm_counts['vendor_inco_term'], incoterm_counts['n'], color=\"red\", label=\"Observed\")\n",
    "\n",
    "# Add a blue bar plot for the hypothesized counts\n",
    "plt.bar(hypothesized['vendor_inco_term'], hypothesized['n'], color=\"blue\",alpha=0.5, label=\"Hypothesized\")\n",
    "plt.legend()\n",
    "plt.show()"
   ]
  },
  {
   "cell_type": "markdown",
   "id": "e1ba355e",
   "metadata": {},
   "source": [
    "#### Performing a goodness of fit test"
   ]
  },
  {
   "cell_type": "code",
   "execution_count": null,
   "id": "9718096c",
   "metadata": {},
   "outputs": [],
   "source": [
    "# Perform a goodness of fit test on the incoterm counts n\n",
    "gof_test = chisquare(f_obs=incoterm_counts['n'],f_exp=hypothesized['n'])\n",
    "\n",
    "\n",
    "# Print gof_test results\n",
    "print(gof_test)"
   ]
  }
 ],
 "metadata": {
  "kernelspec": {
   "display_name": "Python 3 (ipykernel)",
   "language": "python",
   "name": "python3"
  },
  "language_info": {
   "codemirror_mode": {
    "name": "ipython",
    "version": 3
   },
   "file_extension": ".py",
   "mimetype": "text/x-python",
   "name": "python",
   "nbconvert_exporter": "python",
   "pygments_lexer": "ipython3",
   "version": "3.11.4"
  }
 },
 "nbformat": 4,
 "nbformat_minor": 5
}
