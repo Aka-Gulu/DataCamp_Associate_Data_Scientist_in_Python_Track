{
 "cells": [
  {
   "cell_type": "markdown",
   "id": "2d28b566",
   "metadata": {},
   "source": [
    "#### Functions for initial exploration"
   ]
  },
  {
   "cell_type": "code",
   "execution_count": null,
   "id": "5a9b968c",
   "metadata": {},
   "outputs": [],
   "source": [
    "# Print the first five rows of unemployment\n",
    "print(unemployment.head())"
   ]
  },
  {
   "cell_type": "code",
   "execution_count": null,
   "id": "45188c97",
   "metadata": {},
   "outputs": [],
   "source": [
    "# Print a summary of non-missing values and data types in the unemployment DataFrame\n",
    "print(unemployment.info())"
   ]
  },
  {
   "cell_type": "code",
   "execution_count": null,
   "id": "e0506f1b",
   "metadata": {},
   "outputs": [],
   "source": [
    "# Print summary statistics for numerical columns in unemployment\n",
    "print(unemployment.describe())"
   ]
  },
  {
   "cell_type": "markdown",
   "id": "c1a677fb",
   "metadata": {},
   "source": [
    "#### Counting categorical values"
   ]
  },
  {
   "cell_type": "code",
   "execution_count": null,
   "id": "03287a86",
   "metadata": {},
   "outputs": [],
   "source": [
    "# Count the values associated with each continent in unemployment\n",
    "print(unemployment['continent'].value_counts())"
   ]
  },
  {
   "cell_type": "markdown",
   "id": "13a0d96f",
   "metadata": {},
   "source": [
    "#### Global unemployment in 2021"
   ]
  },
  {
   "cell_type": "code",
   "execution_count": null,
   "id": "3e0c9447",
   "metadata": {},
   "outputs": [],
   "source": [
    "# Import the required visualization libraries\n",
    "import seaborn as sns\n",
    "import matplotlib.pyplot as plt\n",
    "\n",
    "# Create a histogram of 2021 unemployment; show a full percent in each bin\n",
    "sns.histplot(x='2021',data=unemployment,binwidth=1)\n",
    "plt.show()"
   ]
  },
  {
   "cell_type": "markdown",
   "id": "610c03c6",
   "metadata": {},
   "source": [
    "#### Detecting data types"
   ]
  },
  {
   "cell_type": "code",
   "execution_count": null,
   "id": "ab452645",
   "metadata": {},
   "outputs": [],
   "source": [
    "# Update the data type of the 2019 column to a float\n",
    "unemployment[\"2019\"] = unemployment['2019'].astype(float)\n",
    "# Print the dtypes to check your work\n",
    "print(unemployment.dtypes)"
   ]
  },
  {
   "cell_type": "markdown",
   "id": "35d0f480",
   "metadata": {},
   "source": [
    "#### Validating continents"
   ]
  },
  {
   "cell_type": "code",
   "execution_count": null,
   "id": "5d10f62c",
   "metadata": {},
   "outputs": [],
   "source": [
    "# Define a Series describing whether each continent is outside of Oceania\n",
    "not_oceania = unemployment['continent'].isin(['Oceania'])\n",
    "not_oceania = not_oceania == False"
   ]
  },
  {
   "cell_type": "code",
   "execution_count": null,
   "id": "53ab9492",
   "metadata": {},
   "outputs": [],
   "source": [
    "# Define a Series describing whether each continent is outside of Oceania\n",
    "not_oceania = ~unemployment[\"continent\"].isin([\"Oceania\"])\n",
    "\n",
    "# Print unemployment without records related to countries in Oceania\n",
    "print(unemployment[not_oceania])"
   ]
  },
  {
   "cell_type": "markdown",
   "id": "5149084d",
   "metadata": {},
   "source": [
    "#### Validating range"
   ]
  },
  {
   "cell_type": "code",
   "execution_count": null,
   "id": "187dffae",
   "metadata": {},
   "outputs": [],
   "source": [
    "# Print the minimum and maximum unemployment rates during 2021\n",
    "print(unemployment['2021'].min(), unemployment['2021'].max())\n",
    "\n",
    "# Create a boxplot of 2021 unemployment rates, broken down by continent\n",
    "sns.boxplot(x='2021',y='continent',data=unemployment)\n",
    "plt.show()"
   ]
  },
  {
   "cell_type": "markdown",
   "id": "fd5ef2fd",
   "metadata": {},
   "source": [
    "#### Summaries with .groupby() and .agg()"
   ]
  },
  {
   "cell_type": "code",
   "execution_count": null,
   "id": "4037e498",
   "metadata": {},
   "outputs": [],
   "source": [
    "# Print the mean and standard deviation of rates by year\n",
    "print(unemployment.agg(['mean','std']))"
   ]
  },
  {
   "cell_type": "code",
   "execution_count": null,
   "id": "3fe876ef",
   "metadata": {},
   "outputs": [],
   "source": [
    "# Print yearly mean and standard deviation grouped by continent\n",
    "print(unemployment.groupby('continent').agg(['mean','std']))"
   ]
  },
  {
   "cell_type": "code",
   "execution_count": null,
   "id": "3a04107b",
   "metadata": {},
   "outputs": [],
   "source": [
    "continent_summary = unemployment.groupby(\"continent\").agg(\n",
    "    # Create the mean_rate_2021 column\n",
    "    mean_rate_2021 = ('2021','mean'),\n",
    "    # Create the std_rate_2021 column\n",
    "    std_rate_2021 = ('2021','std')\n",
    ")\n",
    "print(continent_summary)"
   ]
  },
  {
   "cell_type": "markdown",
   "id": "8d8eaab2",
   "metadata": {},
   "source": [
    "#### Visualizing categorical summaries"
   ]
  },
  {
   "cell_type": "code",
   "execution_count": null,
   "id": "3decac99",
   "metadata": {},
   "outputs": [],
   "source": [
    "# Create a bar plot of continents and their average unemployment\n",
    "sns.barplot(x='continent',y='2021',data=unemployment)\n",
    "plt.show()"
   ]
  }
 ],
 "metadata": {
  "kernelspec": {
   "display_name": "Python 3 (ipykernel)",
   "language": "python",
   "name": "python3"
  },
  "language_info": {
   "codemirror_mode": {
    "name": "ipython",
    "version": 3
   },
   "file_extension": ".py",
   "mimetype": "text/x-python",
   "name": "python",
   "nbconvert_exporter": "python",
   "pygments_lexer": "ipython3",
   "version": "3.11.4"
  }
 },
 "nbformat": 4,
 "nbformat_minor": 5
}
