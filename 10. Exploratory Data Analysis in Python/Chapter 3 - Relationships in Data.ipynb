{
 "cells": [
  {
   "cell_type": "markdown",
   "id": "9c010a93",
   "metadata": {},
   "source": [
    "#### Importing DateTime data"
   ]
  },
  {
   "cell_type": "code",
   "execution_count": null,
   "id": "5bdee9f6",
   "metadata": {},
   "outputs": [],
   "source": [
    "# Import divorce.csv, parsing the appropriate columns as dates in the import\n",
    "divorce = pd.read_csv('divorce.csv',parse_dates=['divorce_date','dob_man','dob_woman','marriage_date'])\n",
    "print(divorce.dtypes)"
   ]
  },
  {
   "cell_type": "markdown",
   "id": "73339164",
   "metadata": {},
   "source": [
    "#### Updating data type to DateTime"
   ]
  },
  {
   "cell_type": "code",
   "execution_count": null,
   "id": "d14f6770",
   "metadata": {},
   "outputs": [],
   "source": [
    "# Convert the marriage_date column to DateTime values\n",
    "divorce[\"marriage_date\"] = pd.to_datetime(divorce['marriage_date'])"
   ]
  },
  {
   "cell_type": "markdown",
   "id": "9036e8e5",
   "metadata": {},
   "source": [
    "#### Visualizing relationships over time"
   ]
  },
  {
   "cell_type": "code",
   "execution_count": null,
   "id": "a8d05f76",
   "metadata": {},
   "outputs": [],
   "source": [
    "# Define the marriage_year column\n",
    "divorce[\"marriage_year\"] = divorce['marriage_date'].dt.year"
   ]
  },
  {
   "cell_type": "code",
   "execution_count": null,
   "id": "0a622390",
   "metadata": {},
   "outputs": [],
   "source": [
    "# Define the marriage_year column\n",
    "divorce[\"marriage_year\"] = divorce[\"marriage_date\"].dt.year\n",
    "\n",
    "# Create a line plot showing the average number of kids by year\n",
    "sns.lineplot(x='marriage_year',y='num_kids',data=divorce)\n",
    "plt.show()\n",
    "\n",
    "divorce"
   ]
  },
  {
   "cell_type": "markdown",
   "id": "71d908bd",
   "metadata": {},
   "source": [
    "#### Visualizing variable relationships"
   ]
  },
  {
   "cell_type": "code",
   "execution_count": null,
   "id": "df25192a",
   "metadata": {},
   "outputs": [],
   "source": [
    "# Create the scatterplot\n",
    "sns.scatterplot(x='marriage_duration',y='num_kids',data=divorce)\n",
    "plt.show()"
   ]
  },
  {
   "cell_type": "markdown",
   "id": "92fdd127",
   "metadata": {},
   "source": [
    "#### Visualizing multiple variable relationships"
   ]
  },
  {
   "cell_type": "code",
   "execution_count": null,
   "id": "ffabd6c6",
   "metadata": {},
   "outputs": [],
   "source": [
    "# Create a pairplot for income_woman and marriage_duration\n",
    "sns.pairplot(data=divorce,vars=['income_woman','marriage_duration'])\n",
    "plt.show()"
   ]
  },
  {
   "cell_type": "markdown",
   "id": "a1f03d73",
   "metadata": {},
   "source": [
    "#### Categorial data in scatter plots"
   ]
  },
  {
   "cell_type": "code",
   "execution_count": null,
   "id": "97794e9d",
   "metadata": {},
   "outputs": [],
   "source": [
    "# Create the scatter plot\n",
    "sns.scatterplot(x='woman_age_marriage',y='income_woman',hue='education_woman',data=divorce)\n",
    "plt.show()"
   ]
  },
  {
   "cell_type": "markdown",
   "id": "36246aad",
   "metadata": {},
   "source": [
    "#### Exploring with KDE plots"
   ]
  },
  {
   "cell_type": "code",
   "execution_count": null,
   "id": "413ba0b7",
   "metadata": {},
   "outputs": [],
   "source": [
    "# Create the KDE plot\n",
    "sns.kdeplot(x='marriage_duration',hue='num_kids',data=divorce)\n",
    "plt.show()"
   ]
  },
  {
   "cell_type": "code",
   "execution_count": null,
   "id": "a252b979",
   "metadata": {},
   "outputs": [],
   "source": [
    "# Update the KDE plot so that marriage duration can't be smoothed too far\n",
    "sns.kdeplot(data=divorce, x=\"marriage_duration\", hue=\"num_kids\", cut=0)\n",
    "plt.show()"
   ]
  },
  {
   "cell_type": "code",
   "execution_count": null,
   "id": "8653edce",
   "metadata": {},
   "outputs": [],
   "source": [
    "# Update the KDE plot to show a cumulative distribution function\n",
    "sns.kdeplot(data=divorce, x=\"marriage_duration\", hue=\"num_kids\", cut=0, cumulative=True)\n",
    "plt.show()"
   ]
  }
 ],
 "metadata": {
  "kernelspec": {
   "display_name": "Python 3 (ipykernel)",
   "language": "python",
   "name": "python3"
  },
  "language_info": {
   "codemirror_mode": {
    "name": "ipython",
    "version": 3
   },
   "file_extension": ".py",
   "mimetype": "text/x-python",
   "name": "python",
   "nbconvert_exporter": "python",
   "pygments_lexer": "ipython3",
   "version": "3.11.4"
  }
 },
 "nbformat": 4,
 "nbformat_minor": 5
}
