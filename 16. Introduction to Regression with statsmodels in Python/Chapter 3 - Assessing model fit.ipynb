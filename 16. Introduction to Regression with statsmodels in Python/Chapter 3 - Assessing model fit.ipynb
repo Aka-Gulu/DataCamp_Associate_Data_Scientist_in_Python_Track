{
 "cells": [
  {
   "cell_type": "markdown",
   "id": "d10b492b",
   "metadata": {},
   "source": [
    "#### Coefficient of determination"
   ]
  },
  {
   "cell_type": "code",
   "execution_count": null,
   "id": "ee05c16e",
   "metadata": {},
   "outputs": [],
   "source": [
    "# Print a summary of mdl_click_vs_impression_orig\n",
    "print(mdl_click_vs_impression_orig.summary())\n",
    "\n",
    "# Print a summary of mdl_click_vs_impression_trans\n",
    "print(mdl_click_vs_impression_trans.summary())"
   ]
  },
  {
   "cell_type": "code",
   "execution_count": null,
   "id": "f3515996",
   "metadata": {},
   "outputs": [],
   "source": [
    "# Print the coeff of determination for mdl_click_vs_impression_orig\n",
    "print(mdl_click_vs_impression_orig.rsquared)\n",
    "\n",
    "# Print the coeff of determination for mdl_click_vs_impression_trans\n",
    "print(mdl_click_vs_impression_trans.rsquared)"
   ]
  },
  {
   "cell_type": "markdown",
   "id": "194b0518",
   "metadata": {},
   "source": [
    "#### Residual standard error"
   ]
  },
  {
   "cell_type": "code",
   "execution_count": null,
   "id": "475d4702",
   "metadata": {},
   "outputs": [],
   "source": [
    "# Calculate mse_orig for mdl_click_vs_impression_orig\n",
    "mse_orig = mdl_click_vs_impression_orig.mse_resid\n",
    "\n",
    "# Calculate rse_orig for mdl_click_vs_impression_orig and print it\n",
    "rse_orig = np.sqrt(mse_orig)\n",
    "print(\"RSE of original model: \", rse_orig)\n",
    "\n",
    "# Calculate mse_trans for mdl_click_vs_impression_trans\n",
    "mse_trans = mdl_click_vs_impression_trans.mse_resid\n",
    "\n",
    "# Calculate rse_trans for mdl_click_vs_impression_trans and print it\n",
    "rse_trans = np.sqrt(mse_trans)\n",
    "print(\"RSE of transformed model: \", rse_trans)"
   ]
  },
  {
   "cell_type": "markdown",
   "id": "9173eddf",
   "metadata": {},
   "source": [
    "#### Drawing diagnostic plots"
   ]
  },
  {
   "cell_type": "code",
   "execution_count": null,
   "id": "f3e2c34e",
   "metadata": {},
   "outputs": [],
   "source": [
    "# Plot the residuals vs. fitted values\n",
    "sns.residplot(x='n_convenience', y='price_twd_msq', data=taiwan_real_estate, lowess=True)\n",
    "plt.xlabel(\"Fitted values\")\n",
    "plt.ylabel(\"Residuals\")\n",
    "\n",
    "# Show the plot\n",
    "plt.show()"
   ]
  },
  {
   "cell_type": "code",
   "execution_count": null,
   "id": "f417e58d",
   "metadata": {},
   "outputs": [],
   "source": [
    "# Import qqplot\n",
    "from statsmodels.api import qqplot\n",
    "\n",
    "# Create the Q-Q plot of the residuals\n",
    "qqplot(data=mdl_price_vs_conv.resid, fit=True, line=\"45\")\n",
    "\n",
    "# Show the plot\n",
    "plt.show()"
   ]
  },
  {
   "cell_type": "code",
   "execution_count": null,
   "id": "6ea545b7",
   "metadata": {},
   "outputs": [],
   "source": [
    "# Preprocessing steps\n",
    "model_norm_residuals = mdl_price_vs_conv.get_influence().resid_studentized_internal\n",
    "model_norm_residuals_abs_sqrt = np.sqrt(np.abs(model_norm_residuals))\n",
    "\n",
    "# Create the scale-location plot\n",
    "sns.regplot(x=mdl_price_vs_conv.fittedvalues, y=model_norm_residuals_abs_sqrt, ci=None, lowess=True)\n",
    "plt.xlabel(\"Fitted values\")\n",
    "plt.ylabel(\"Sqrt of abs val of stdized residuals\")\n",
    "\n",
    "# Show the plot\n",
    "plt.show()"
   ]
  },
  {
   "cell_type": "markdown",
   "id": "9b43da15",
   "metadata": {},
   "source": [
    "#### Extracting leverage and influence"
   ]
  },
  {
   "cell_type": "code",
   "execution_count": null,
   "id": "3310cbb7",
   "metadata": {},
   "outputs": [],
   "source": [
    "# Create summary_info\n",
    "summary_info = mdl_price_vs_dist.get_influence().summary_frame()"
   ]
  },
  {
   "cell_type": "code",
   "execution_count": null,
   "id": "4f05bca6",
   "metadata": {},
   "outputs": [],
   "source": [
    "# Create summary_info\n",
    "summary_info = mdl_price_vs_dist.get_influence().summary_frame()\n",
    "\n",
    "# Add the hat_diag column to taiwan_real_estate, name it leverage\n",
    "taiwan_real_estate[\"leverage\"] = summary_info['hat_diag']\n",
    "\n",
    "# Sort taiwan_real_estate by leverage in descending order and print the head\n",
    "print(taiwan_real_estate.sort_values(by='leverage', ascending=False).head())"
   ]
  },
  {
   "cell_type": "code",
   "execution_count": null,
   "id": "47ffdf0c",
   "metadata": {},
   "outputs": [],
   "source": [
    "# Create summary_info\n",
    "summary_info = mdl_price_vs_dist.get_influence().summary_frame()\n",
    "\n",
    "# Add the hat_diag column to taiwan_real_estate, name it leverage\n",
    "taiwan_real_estate[\"leverage\"] = summary_info[\"hat_diag\"]\n",
    "\n",
    "# Add the cooks_d column to taiwan_real_estate, name it cooks_dist\n",
    "taiwan_real_estate[\"cooks_dist\"] = summary_info[\"cooks_d\"]\n",
    "\n",
    "# Sort taiwan_real_estate by cooks_dist in descending order and print the head.\n",
    "print(taiwan_real_estate.sort_values(\"cooks_dist\", ascending=False).head())"
   ]
  }
 ],
 "metadata": {
  "kernelspec": {
   "display_name": "Python 3 (ipykernel)",
   "language": "python",
   "name": "python3"
  },
  "language_info": {
   "codemirror_mode": {
    "name": "ipython",
    "version": 3
   },
   "file_extension": ".py",
   "mimetype": "text/x-python",
   "name": "python",
   "nbconvert_exporter": "python",
   "pygments_lexer": "ipython3",
   "version": "3.11.4"
  }
 },
 "nbformat": 4,
 "nbformat_minor": 5
}
