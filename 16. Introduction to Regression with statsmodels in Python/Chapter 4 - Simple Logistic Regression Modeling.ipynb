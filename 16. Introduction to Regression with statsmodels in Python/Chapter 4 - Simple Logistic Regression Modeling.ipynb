{
 "cells": [
  {
   "cell_type": "markdown",
   "id": "6e29a7b5",
   "metadata": {},
   "source": [
    "#### Exploring the explanatory variables"
   ]
  },
  {
   "cell_type": "code",
   "execution_count": null,
   "id": "41f42a03",
   "metadata": {},
   "outputs": [],
   "source": [
    "# Create the histograms of time_since_last_purchase split by has_churned\n",
    "sns.displot(x='time_since_last_purchase',col='has_churned',data=churn)\n",
    "\n",
    "plt.show()"
   ]
  },
  {
   "cell_type": "code",
   "execution_count": null,
   "id": "18e9a683",
   "metadata": {},
   "outputs": [],
   "source": [
    "# Redraw the plot with time_since_first_purchase\n",
    "sns.displot(x='time_since_first_purchase',col='has_churned',data=churn)\n",
    "\n",
    "plt.show()"
   ]
  },
  {
   "cell_type": "markdown",
   "id": "d085822a",
   "metadata": {},
   "source": [
    "#### Visualizing linear and logistic models"
   ]
  },
  {
   "cell_type": "code",
   "execution_count": null,
   "id": "26c3bd4b",
   "metadata": {},
   "outputs": [],
   "source": [
    "# Draw a linear regression trend line and a scatter plot of time_since_first_purchase vs. has_churned\n",
    "sns.regplot(x='time_since_first_purchase',y='has_churned',data=churn,\n",
    "            line_kws={\"color\": \"red\"})\n",
    "\n",
    "plt.show()"
   ]
  },
  {
   "cell_type": "code",
   "execution_count": null,
   "id": "3a7e046e",
   "metadata": {},
   "outputs": [],
   "source": [
    "# Draw a linear regression trend line and a scatter plot of time_since_first_purchase vs. has_churned\n",
    "sns.regplot(x=\"time_since_first_purchase\",\n",
    "            y=\"has_churned\",\n",
    "            data=churn, \n",
    "            ci=None,\n",
    "            line_kws={\"color\": \"red\"})\n",
    "\n",
    "# Draw a logistic regression trend line and a scatter plot of time_since_first_purchase vs. has_churned\n",
    "sns.regplot(x=\"time_since_first_purchase\",\n",
    "            y=\"has_churned\",\n",
    "            data=churn,\n",
    "            ci=None,\n",
    "            logistic=True,\n",
    "            line_kws={\"color\": \"blue\"})\n",
    "\n",
    "plt.show()"
   ]
  },
  {
   "cell_type": "markdown",
   "id": "574b2288",
   "metadata": {},
   "source": [
    "#### Logistic regression with logit()"
   ]
  },
  {
   "cell_type": "code",
   "execution_count": null,
   "id": "0e782ee5",
   "metadata": {},
   "outputs": [],
   "source": [
    "# Import logit\n",
    "from statsmodels.formula.api import logit\n",
    "\n",
    "# Fit a logistic regression of churn vs. length of relationship using the churn dataset\n",
    "mdl_churn_vs_relationship = logit('has_churned ~ time_since_first_purchase',data=churn).fit()\n",
    "\n",
    "# Print the parameters of the fitted model\n",
    "print(mdl_churn_vs_relationship.params)"
   ]
  },
  {
   "cell_type": "markdown",
   "id": "ff3b380e",
   "metadata": {},
   "source": [
    "#### Probabilities"
   ]
  },
  {
   "cell_type": "code",
   "execution_count": null,
   "id": "637815e4",
   "metadata": {},
   "outputs": [],
   "source": [
    "# Create prediction_data\n",
    "prediction_data = explanatory_data.assign(\n",
    "  has_churned = mdl_churn_vs_relationship.predict(explanatory_data)\n",
    ")\n",
    "\n",
    "# Print the head\n",
    "print(prediction_data.head())"
   ]
  },
  {
   "cell_type": "code",
   "execution_count": null,
   "id": "945a97a9",
   "metadata": {},
   "outputs": [],
   "source": [
    "# Create prediction_data\n",
    "prediction_data = explanatory_data.assign(\n",
    "    has_churned = mdl_churn_vs_relationship.predict(explanatory_data)\n",
    ")\n",
    "\n",
    "fig = plt.figure()\n",
    "\n",
    "# Create a scatter plot with logistic trend line\n",
    "sns.regplot(x='time_since_first_purchase',y='has_churned',data=churn,ci=None,logistic=True)\n",
    "\n",
    "# Overlay with prediction_data, colored red\n",
    "sns.scatterplot(x='time_since_first_purchase',y='has_churned',data=prediction_data,color='r')\n",
    "\n",
    "plt.show()"
   ]
  },
  {
   "cell_type": "markdown",
   "id": "9ada2640",
   "metadata": {},
   "source": [
    "#### Most likely outcome"
   ]
  },
  {
   "cell_type": "code",
   "execution_count": null,
   "id": "f9beea50",
   "metadata": {},
   "outputs": [],
   "source": [
    "# Update prediction data by adding most_likely_outcome\n",
    "prediction_data[\"most_likely_outcome\"] = np.round(prediction_data['has_churned'])\n",
    "\n",
    "# Print the head\n",
    "print(prediction_data.head())"
   ]
  },
  {
   "cell_type": "code",
   "execution_count": null,
   "id": "8df38a07",
   "metadata": {},
   "outputs": [],
   "source": [
    "# Update prediction data by adding most_likely_outcome\n",
    "prediction_data[\"most_likely_outcome\"] = np.round(prediction_data[\"has_churned\"])\n",
    "\n",
    "fig = plt.figure()\n",
    "\n",
    "# Create a scatter plot with logistic trend line (from previous exercise)\n",
    "sns.regplot(x=\"time_since_first_purchase\",\n",
    "            y=\"has_churned\",\n",
    "            data=churn,\n",
    "            ci=None,\n",
    "            logistic=True)\n",
    "\n",
    "# Overlay with prediction_data, colored red\n",
    "sns.scatterplot(x='time_since_first_purchase',y='most_likely_outcome',data=prediction_data,color='r')\n",
    "\n",
    "plt.show()"
   ]
  },
  {
   "cell_type": "markdown",
   "id": "c8b0166e",
   "metadata": {},
   "source": [
    "#### Odds ratio"
   ]
  },
  {
   "cell_type": "code",
   "execution_count": null,
   "id": "7c8d4c89",
   "metadata": {},
   "outputs": [],
   "source": [
    "# Update prediction data with odds_ratio\n",
    "prediction_data[\"odds_ratio\"] = prediction_data['has_churned']/(1-prediction_data['has_churned'])\n",
    "# Print the head\n",
    "print(prediction_data.head())"
   ]
  },
  {
   "cell_type": "code",
   "execution_count": null,
   "id": "8ea4629f",
   "metadata": {},
   "outputs": [],
   "source": [
    "# Update prediction data with odds_ratio\n",
    "prediction_data[\"odds_ratio\"] = prediction_data[\"has_churned\"] / (1 - prediction_data[\"has_churned\"])\n",
    "\n",
    "fig = plt.figure()\n",
    "\n",
    "# Create a line plot of odds_ratio vs time_since_first_purchase\n",
    "sns.lineplot(x='time_since_first_purchase',y='odds_ratio',data=prediction_data)\n",
    "\n",
    "# Add a dotted horizontal line at odds_ratio = 1\n",
    "plt.axhline(y=1, linestyle=\"dotted\")\n",
    "\n",
    "plt.show()"
   ]
  },
  {
   "cell_type": "markdown",
   "id": "c17b8f21",
   "metadata": {},
   "source": [
    "#### Log odds ratio"
   ]
  },
  {
   "cell_type": "code",
   "execution_count": null,
   "id": "e24951ff",
   "metadata": {},
   "outputs": [],
   "source": [
    "# Update prediction data with log_odds_ratio\n",
    "prediction_data['log_odds_ratio'] = np.log(prediction_data['odds_ratio'])\n",
    "\n",
    "# Print the head\n",
    "print(prediction_data.head())"
   ]
  },
  {
   "cell_type": "code",
   "execution_count": null,
   "id": "e3edcfe7",
   "metadata": {},
   "outputs": [],
   "source": [
    "# Update prediction data with log_odds_ratio\n",
    "prediction_data[\"log_odds_ratio\"] = np.log(prediction_data[\"odds_ratio\"])\n",
    "\n",
    "fig = plt.figure()\n",
    "\n",
    "# Update the line plot: log_odds_ratio vs. time_since_first_purchase\n",
    "sns.lineplot(x=\"time_since_first_purchase\",\n",
    "             y=\"log_odds_ratio\",\n",
    "             data=prediction_data)\n",
    "\n",
    "# Add a dotted horizontal line at log_odds_ratio = 0\n",
    "plt.axhline(y=0, linestyle=\"dotted\")\n",
    "\n",
    "plt.show()"
   ]
  },
  {
   "cell_type": "markdown",
   "id": "40acaaf2",
   "metadata": {},
   "source": [
    "#### Calculating the confusion matrix"
   ]
  },
  {
   "cell_type": "code",
   "execution_count": null,
   "id": "535a142c",
   "metadata": {},
   "outputs": [],
   "source": [
    "  # Get the actual responses\n",
    "actual_response = churn['has_churned']\n",
    "\n",
    "# Get the predicted responses\n",
    "predicted_response = np.round(mdl_churn_vs_relationship.predict())\n",
    "\n",
    "# Create outcomes as a DataFrame of both Series\n",
    "outcomes = pd.DataFrame({'actual_response':actual_response,\n",
    "                         'predicted_response':predicted_response})\n",
    "\n",
    "# Print the outcomes\n",
    "print(outcomes.value_counts(sort = False))\n",
    "actual_response"
   ]
  },
  {
   "cell_type": "markdown",
   "id": "7c871af6",
   "metadata": {},
   "source": [
    "#### Drawing a mosaic plot of the confusion matrix"
   ]
  },
  {
   "cell_type": "code",
   "execution_count": null,
   "id": "b8eaa909",
   "metadata": {},
   "outputs": [],
   "source": [
    "# Import mosaic from statsmodels.graphics.mosaicplot\n",
    "from statsmodels.graphics.mosaicplot import mosaic \n",
    "\n",
    "# Calculate the confusion matrix conf_matrix\n",
    "conf_matrix = mdl_churn_vs_relationship.pred_table()\n",
    "\n",
    "# Print it\n",
    "print(conf_matrix)\n",
    "\n",
    "# Draw a mosaic plot of conf_matrix\n",
    "mosaic(conf_matrix)\n",
    "plt.show()"
   ]
  },
  {
   "cell_type": "markdown",
   "id": "2e09671a",
   "metadata": {},
   "source": [
    "#### Measuring logistic model performance"
   ]
  },
  {
   "cell_type": "code",
   "execution_count": null,
   "id": "a576b127",
   "metadata": {},
   "outputs": [],
   "source": [
    "# Extract TN, TP, FN and FP from conf_matrix\n",
    "TN = conf_matrix[0,0]\n",
    "TP = conf_matrix[1,1]\n",
    "FN = conf_matrix[1,0]\n",
    "FP = conf_matrix[0,1]\n",
    "\n",
    "# Calculate and print the accuracy\n",
    "accuracy = (TN + TP) / (TN + TP + FN + FP)\n",
    "print(\"accuracy: \", accuracy)\n",
    "\n",
    "# Calculate and print the sensitivity\n",
    "sensitivity = TP/(TP + FN)\n",
    "print(\"sensitivity: \", sensitivity)\n",
    "\n",
    "# Calculate and print the specificity\n",
    "specificity = TN/(TN + FP)\n",
    "print(\"specificity: \", specificity)"
   ]
  }
 ],
 "metadata": {
  "kernelspec": {
   "display_name": "Python 3 (ipykernel)",
   "language": "python",
   "name": "python3"
  },
  "language_info": {
   "codemirror_mode": {
    "name": "ipython",
    "version": 3
   },
   "file_extension": ".py",
   "mimetype": "text/x-python",
   "name": "python",
   "nbconvert_exporter": "python",
   "pygments_lexer": "ipython3",
   "version": "3.11.4"
  }
 },
 "nbformat": 4,
 "nbformat_minor": 5
}
