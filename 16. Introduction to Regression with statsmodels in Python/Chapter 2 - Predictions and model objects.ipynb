{
 "cells": [
  {
   "cell_type": "markdown",
   "id": "2aac3895",
   "metadata": {},
   "source": [
    "#### Predicting house prices"
   ]
  },
  {
   "cell_type": "code",
   "execution_count": null,
   "id": "3b5b9939",
   "metadata": {},
   "outputs": [],
   "source": [
    "# Import numpy with alias np\n",
    "import numpy as np\n",
    "\n",
    "# Create the explanatory_data \n",
    "explanatory_data = pd.DataFrame({'n_convenience': np.arange(0,11)})\n",
    "\n",
    "# Print it\n",
    "print(explanatory_data)"
   ]
  },
  {
   "cell_type": "code",
   "execution_count": null,
   "id": "782ce358",
   "metadata": {},
   "outputs": [],
   "source": [
    "# Import numpy with alias np\n",
    "import numpy as np\n",
    "\n",
    "# Create explanatory_data \n",
    "explanatory_data = pd.DataFrame({'n_convenience': np.arange(0, 11)})\n",
    "\n",
    "# Use mdl_price_vs_conv to predict with explanatory_data, call it price_twd_msq\n",
    "price_twd_msq = mdl_price_vs_conv.predict(explanatory_data)\n",
    "\n",
    "# Print it\n",
    "print(price_twd_msq)"
   ]
  },
  {
   "cell_type": "code",
   "execution_count": null,
   "id": "b0f3ce41",
   "metadata": {},
   "outputs": [],
   "source": [
    "# Import numpy with alias np\n",
    "import numpy as np\n",
    "\n",
    "# Create explanatory_data \n",
    "explanatory_data = pd.DataFrame({'n_convenience': np.arange(0, 11)})\n",
    "\n",
    "# Use mdl_price_vs_conv to predict with explanatory_data, call it price_twd_msq\n",
    "price_twd_msq = mdl_price_vs_conv.predict(explanatory_data)\n",
    "\n",
    "# Create prediction_data\n",
    "prediction_data = explanatory_data.assign(\n",
    "    price_twd_msq = mdl_price_vs_conv.predict(explanatory_data))\n",
    "\n",
    "# Print the result\n",
    "print(prediction_data)"
   ]
  },
  {
   "cell_type": "markdown",
   "id": "c8e1e145",
   "metadata": {},
   "source": [
    "#### Visualizing predictions"
   ]
  },
  {
   "cell_type": "code",
   "execution_count": null,
   "id": "0d04df8b",
   "metadata": {},
   "outputs": [],
   "source": [
    "# Create a new figure, fig\n",
    "fig = plt.figure()\n",
    "\n",
    "sns.regplot(x=\"n_convenience\",\n",
    "            y=\"price_twd_msq\",\n",
    "            data=taiwan_real_estate,\n",
    "            ci=None)\n",
    "# Add a scatter plot layer to the regplot\n",
    "sns.scatterplot(x=\"n_convenience\",\n",
    "            y=\"price_twd_msq\",\n",
    "            data=prediction_data,\n",
    "            color='r')\n",
    "\n",
    "# Show the layered plot\n",
    "plt.show()"
   ]
  },
  {
   "cell_type": "markdown",
   "id": "9a1f9e05",
   "metadata": {},
   "source": [
    "#### The limits of prediction"
   ]
  },
  {
   "cell_type": "code",
   "execution_count": null,
   "id": "8dc906bd",
   "metadata": {},
   "outputs": [],
   "source": [
    "# Define a DataFrame impossible\n",
    "impossible = pd.DataFrame({'n_convenience': [-1, 2.5]})"
   ]
  },
  {
   "cell_type": "markdown",
   "id": "02216af8",
   "metadata": {},
   "source": [
    "#### Extracting model elements"
   ]
  },
  {
   "cell_type": "code",
   "execution_count": null,
   "id": "3ee028f5",
   "metadata": {},
   "outputs": [],
   "source": [
    "# Print the model parameters of mdl_price_vs_conv\n",
    "print(mdl_price_vs_conv.params)"
   ]
  },
  {
   "cell_type": "code",
   "execution_count": null,
   "id": "46b29b18",
   "metadata": {},
   "outputs": [],
   "source": [
    "# Print the fitted values of mdl_price_vs_conv\n",
    "print(mdl_price_vs_conv.fittedvalues)"
   ]
  },
  {
   "cell_type": "code",
   "execution_count": null,
   "id": "828c17ab",
   "metadata": {},
   "outputs": [],
   "source": [
    "# Print the residuals of mdl_price_vs_conv\n",
    "print(mdl_price_vs_conv.resid)"
   ]
  },
  {
   "cell_type": "code",
   "execution_count": null,
   "id": "5122958c",
   "metadata": {},
   "outputs": [],
   "source": [
    "# Print a summary of mdl_price_vs_conv\n",
    "print(mdl_price_vs_conv.summary())"
   ]
  },
  {
   "cell_type": "markdown",
   "id": "686591de",
   "metadata": {},
   "source": [
    "#### Manually predicting house prices"
   ]
  },
  {
   "cell_type": "code",
   "execution_count": null,
   "id": "7d5bb0b3",
   "metadata": {},
   "outputs": [],
   "source": [
    "# Get the coefficients of mdl_price_vs_conv\n",
    "coeffs = mdl_price_vs_conv.params\n",
    "\n",
    "# Get the intercept\n",
    "intercept = coeffs[0]\n",
    "\n",
    "# Get the slope\n",
    "slope = coeffs[1]\n",
    "\n",
    "# Manually calculate the predictions\n",
    "price_twd_msq = intercept + slope * explanatory_data\n",
    "print(price_twd_msq)\n",
    "\n",
    "# Compare to the results from .predict()\n",
    "print(price_twd_msq.assign(predictions_auto=mdl_price_vs_conv.predict(explanatory_data)))"
   ]
  },
  {
   "cell_type": "markdown",
   "id": "772a1aec",
   "metadata": {},
   "source": [
    "#### Plotting consecutive portfolio returns"
   ]
  },
  {
   "cell_type": "code",
   "execution_count": null,
   "id": "f99328b7",
   "metadata": {},
   "outputs": [],
   "source": [
    "# Create a new figure, fig\n",
    "fig = plt.figure()\n",
    "\n",
    "# Plot the first layer: y = x\n",
    "plt.axline(xy1=(0,0), slope=1, linewidth=2, color=\"green\")\n",
    "\n",
    "# Add scatter plot with linear regression trend line\n",
    "sns.regplot(x='return_2018',y='return_2019',data=sp500_yearly_returns)\n",
    "\n",
    "# Set the axes so that the distances along the x and y axes look the same\n",
    "plt.axis('equal')\n",
    "\n",
    "# Show the plot\n",
    "plt.show()"
   ]
  },
  {
   "cell_type": "markdown",
   "id": "536ba68c",
   "metadata": {},
   "source": [
    "#### Modeling consecutive returns"
   ]
  },
  {
   "cell_type": "code",
   "execution_count": null,
   "id": "02986654",
   "metadata": {},
   "outputs": [],
   "source": [
    "# Run a linear regression on return_2019 vs. return_2018 using sp500_yearly_returns\n",
    "mdl_returns = ols('return_2019~return_2018',data=sp500_yearly_returns).fit()\n",
    "\n",
    "# Print the parameters\n",
    "print(mdl_returns.params)"
   ]
  },
  {
   "cell_type": "code",
   "execution_count": null,
   "id": "93165dec",
   "metadata": {},
   "outputs": [],
   "source": [
    "mdl_returns = ols(\"return_2019 ~ return_2018\", data=sp500_yearly_returns).fit()\n",
    "\n",
    "# Create a DataFrame with return_2018 at -1, 0, and 1 \n",
    "explanatory_data = pd.DataFrame({'return_2018': [-1,0,1]})\n",
    "\n",
    "# Use mdl_returns to predict with explanatory_data\n",
    "print(mdl_returns.predict(explanatory_data))"
   ]
  },
  {
   "cell_type": "markdown",
   "id": "37b80942",
   "metadata": {},
   "source": [
    "#### Transforming the explanatory variable"
   ]
  },
  {
   "cell_type": "code",
   "execution_count": null,
   "id": "5cd41295",
   "metadata": {},
   "outputs": [],
   "source": [
    "# Create sqrt_dist_to_mrt_m\n",
    "taiwan_real_estate[\"sqrt_dist_to_mrt_m\"] = np.sqrt(taiwan_real_estate[\"dist_to_mrt_m\"])\n",
    "\n",
    "plt.figure()\n",
    "\n",
    "# Plot using the transformed variable\n",
    "sns.regplot(x='sqrt_dist_to_mrt_m',y='price_twd_msq',data=taiwan_real_estate)\n",
    "plt.show()"
   ]
  },
  {
   "cell_type": "code",
   "execution_count": null,
   "id": "917a52b2",
   "metadata": {},
   "outputs": [],
   "source": [
    "# Create sqrt_dist_to_mrt_m\n",
    "taiwan_real_estate[\"sqrt_dist_to_mrt_m\"] = np.sqrt(taiwan_real_estate[\"dist_to_mrt_m\"])\n",
    "\n",
    "# Run a linear regression of price_twd_msq vs. square root of dist_to_mrt_m using taiwan_real_estate\n",
    "mdl_price_vs_dist = ols('price_twd_msq~sqrt_dist_to_mrt_m',data=taiwan_real_estate).fit()\n",
    "\n",
    "# Print the parameters\n",
    "print(mdl_price_vs_dist.params)"
   ]
  },
  {
   "cell_type": "code",
   "execution_count": null,
   "id": "5eb3d4b2",
   "metadata": {},
   "outputs": [],
   "source": [
    "# Create sqrt_dist_to_mrt_m\n",
    "taiwan_real_estate[\"sqrt_dist_to_mrt_m\"] = np.sqrt(taiwan_real_estate[\"dist_to_mrt_m\"])\n",
    "\n",
    "# Run a linear regression of price_twd_msq vs. sqrt_dist_to_mrt_m\n",
    "mdl_price_vs_dist = ols(\"price_twd_msq ~ sqrt_dist_to_mrt_m\", data=taiwan_real_estate).fit()\n",
    "\n",
    "explanatory_data = pd.DataFrame({\"sqrt_dist_to_mrt_m\": np.sqrt(np.arange(0, 81, 10) ** 2),\n",
    "                                \"dist_to_mrt_m\": np.arange(0, 81, 10) ** 2})\n",
    "\n",
    "# Create prediction_data by adding a column of predictions to explantory_data\n",
    "prediction_data = explanatory_data.assign(\n",
    "    price_twd_msq = mdl_price_vs_dist.predict(explanatory_data)\n",
    ")\n",
    "\n",
    "# Print the result\n",
    "print(prediction_data)"
   ]
  },
  {
   "cell_type": "code",
   "execution_count": null,
   "id": "f806986d",
   "metadata": {},
   "outputs": [],
   "source": [
    "# Create sqrt_dist_to_mrt_m\n",
    "taiwan_real_estate[\"sqrt_dist_to_mrt_m\"] = np.sqrt(taiwan_real_estate[\"dist_to_mrt_m\"])\n",
    "\n",
    "# Run a linear regression of price_twd_msq vs. sqrt_dist_to_mrt_m\n",
    "mdl_price_vs_dist = ols(\"price_twd_msq ~ sqrt_dist_to_mrt_m\", data=taiwan_real_estate).fit()\n",
    "\n",
    "# Use this explanatory data\n",
    "explanatory_data = pd.DataFrame({\"sqrt_dist_to_mrt_m\": np.sqrt(np.arange(0, 81, 10) ** 2),\n",
    "                                \"dist_to_mrt_m\": np.arange(0, 81, 10) ** 2})\n",
    "\n",
    "# Use mdl_price_vs_dist to predict explanatory_data\n",
    "prediction_data = explanatory_data.assign(\n",
    "    price_twd_msq = mdl_price_vs_dist.predict(explanatory_data)\n",
    ")\n",
    "\n",
    "fig = plt.figure()\n",
    "sns.regplot(x=\"sqrt_dist_to_mrt_m\", y=\"price_twd_msq\", data=taiwan_real_estate, ci=None)\n",
    "\n",
    "# Add a layer of your prediction points\n",
    "sns.scatterplot(x='sqrt_dist_to_mrt_m', y='price_twd_msq', data=prediction_data, color=\"red\")\n",
    "plt.show()"
   ]
  },
  {
   "cell_type": "markdown",
   "id": "aaa3ccab",
   "metadata": {},
   "source": [
    "#### Transforming the response variable too"
   ]
  },
  {
   "cell_type": "code",
   "execution_count": null,
   "id": "1c39efb9",
   "metadata": {},
   "outputs": [],
   "source": [
    "# Create qdrt_n_impressions and qdrt_n_clicks\n",
    "ad_conversion[\"qdrt_n_impressions\"] = ad_conversion['n_impressions'] **0.25\n",
    "ad_conversion[\"qdrt_n_clicks\"] = ad_conversion['n_clicks']**0.25\n",
    "\n",
    "plt.figure()\n",
    "\n",
    "# Plot using the transformed variables\n",
    "sns.regplot(x='qdrt_n_impressions',y='qdrt_n_clicks',data=ad_conversion)\n",
    "plt.show()"
   ]
  },
  {
   "cell_type": "code",
   "execution_count": null,
   "id": "85ce8fde",
   "metadata": {},
   "outputs": [],
   "source": [
    "ad_conversion[\"qdrt_n_impressions\"] = ad_conversion[\"n_impressions\"] ** 0.25\n",
    "ad_conversion[\"qdrt_n_clicks\"] = ad_conversion[\"n_clicks\"] ** 0.25\n",
    "\n",
    "# Run a linear regression of your transformed variables\n",
    "mdl_click_vs_impression = ols('qdrt_n_clicks~qdrt_n_impressions',data=ad_conversion).fit()"
   ]
  },
  {
   "cell_type": "code",
   "execution_count": null,
   "id": "96521468",
   "metadata": {},
   "outputs": [],
   "source": [
    "ad_conversion[\"qdrt_n_impressions\"] = ad_conversion[\"n_impressions\"] ** 0.25\n",
    "ad_conversion[\"qdrt_n_clicks\"] = ad_conversion[\"n_clicks\"] ** 0.25\n",
    "\n",
    "mdl_click_vs_impression = ols(\"qdrt_n_clicks ~ qdrt_n_impressions\", data=ad_conversion, ci=None).fit()\n",
    "\n",
    "explanatory_data = pd.DataFrame({\"qdrt_n_impressions\": np.arange(0, 3e6+1, 5e5) ** .25,\n",
    "                                 \"n_impressions\": np.arange(0, 3e6+1, 5e5)})\n",
    "\n",
    "# Complete prediction_data\n",
    "prediction_data = explanatory_data.assign(\n",
    "    qdrt_n_clicks = mdl_click_vs_impression.predict(explanatory_data)\n",
    ")\n",
    "\n",
    "# Print the result\n",
    "print(prediction_data)"
   ]
  },
  {
   "cell_type": "markdown",
   "id": "893283de",
   "metadata": {},
   "source": [
    "#### Back transformation"
   ]
  },
  {
   "cell_type": "code",
   "execution_count": null,
   "id": "48cb2eef",
   "metadata": {},
   "outputs": [],
   "source": [
    "# Back transform qdrt_n_clicks\n",
    "prediction_data[\"n_clicks\"] = prediction_data['qdrt_n_clicks']**4\n",
    "print(prediction_data)"
   ]
  },
  {
   "cell_type": "code",
   "execution_count": null,
   "id": "2540eb6c",
   "metadata": {},
   "outputs": [],
   "source": [
    "# Back transform qdrt_n_clicks\n",
    "prediction_data[\"n_clicks\"] = prediction_data[\"qdrt_n_clicks\"] ** 4\n",
    "\n",
    "# Plot the transformed variables\n",
    "fig = plt.figure()\n",
    "sns.regplot(x=\"qdrt_n_impressions\", y=\"qdrt_n_clicks\", data=ad_conversion, ci=None)\n",
    "\n",
    "# Add a layer of your prediction points\n",
    "sns.scatterplot(x='qdrt_n_impressions', y='qdrt_n_clicks', data=prediction_data, color='r')\n",
    "plt.show()"
   ]
  }
 ],
 "metadata": {
  "kernelspec": {
   "display_name": "Python 3 (ipykernel)",
   "language": "python",
   "name": "python3"
  },
  "language_info": {
   "codemirror_mode": {
    "name": "ipython",
    "version": 3
   },
   "file_extension": ".py",
   "mimetype": "text/x-python",
   "name": "python",
   "nbconvert_exporter": "python",
   "pygments_lexer": "ipython3",
   "version": "3.11.4"
  }
 },
 "nbformat": 4,
 "nbformat_minor": 5
}
