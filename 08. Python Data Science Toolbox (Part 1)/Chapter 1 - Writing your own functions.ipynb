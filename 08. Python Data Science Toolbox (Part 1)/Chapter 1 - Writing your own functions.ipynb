{
 "cells": [
  {
   "cell_type": "markdown",
   "id": "04847483",
   "metadata": {},
   "source": [
    "#### Write a simple function"
   ]
  },
  {
   "cell_type": "code",
   "execution_count": null,
   "id": "336f4a44",
   "metadata": {},
   "outputs": [],
   "source": [
    "# Define the function shout\n",
    "def shout():\n",
    "    \"\"\"Print a string with three exclamation marks\"\"\"\n",
    "    # Concatenate the strings: shout_word\n",
    "    shout_word = 'congratulations'+'!!!'\n",
    "    \n",
    "    # Print shout_word\n",
    "    print(shout_word)\n",
    "\n",
    "# Call shout\n",
    "shout()"
   ]
  },
  {
   "cell_type": "markdown",
   "id": "6cd88223",
   "metadata": {},
   "source": [
    "#### Single-parameter functions"
   ]
  },
  {
   "cell_type": "code",
   "execution_count": null,
   "id": "fe20840e",
   "metadata": {},
   "outputs": [],
   "source": [
    "# Define shout with the parameter, word\n",
    "def shout(word):\n",
    "    \"\"\"Print a string with three exclamation marks\"\"\"\n",
    "    # Concatenate the strings: shout_word\n",
    "    shout_word = word + '!!!'\n",
    "    \n",
    "    # Print shout_word\n",
    "    print(shout_word)\n",
    "\n",
    "# Call shout with the string 'congratulations'\n",
    "shout('congratulations')"
   ]
  },
  {
   "cell_type": "markdown",
   "id": "85961200",
   "metadata": {},
   "source": [
    "#### Functions that return single values"
   ]
  },
  {
   "cell_type": "code",
   "execution_count": null,
   "id": "af98827b",
   "metadata": {},
   "outputs": [],
   "source": [
    "# Define shout with the parameter, word\n",
    "def shout(word):\n",
    "    \"\"\"Return a string with three exclamation marks\"\"\"\n",
    "    # Concatenate the strings: shout_word\n",
    "    shout_word = word + '!!!'\n",
    "\n",
    "    # Replace print with return\n",
    "    return shout_word\n",
    "\n",
    "# Pass 'congratulations' to shout: yell\n",
    "yell = shout('congratulations')\n",
    "\n",
    "# Print yell\n",
    "print(yell)"
   ]
  },
  {
   "cell_type": "markdown",
   "id": "761e0e3a",
   "metadata": {},
   "source": [
    "#### Functions with multiple parameters"
   ]
  },
  {
   "cell_type": "code",
   "execution_count": null,
   "id": "b039ac83",
   "metadata": {},
   "outputs": [],
   "source": [
    " # Define shout with parameters word1 and word2\n",
    "def shout(word1, word2):\n",
    "    \"\"\"Concatenate strings with three exclamation marks\"\"\"\n",
    "    # Concatenate word1 with '!!!': shout1\n",
    "    shout1 = word1 + '!!!'\n",
    "    \n",
    "    # Concatenate word2 with '!!!': shout2\n",
    "    shout2 = word2 + '!!!'\n",
    "    \n",
    "    # Concatenate shout1 with shout2: new_shout\n",
    "    new_shout = shout1 + shout2\n",
    "\n",
    "    # Return new_shout\n",
    "    return new_shout\n",
    "\n",
    "# Pass 'congratulations' and 'you' to shout(): yell\n",
    "yell = shout('congratulations','you')\n",
    "\n",
    "# Print yell\n",
    "print(yell)"
   ]
  },
  {
   "cell_type": "markdown",
   "id": "3cc81cfe",
   "metadata": {},
   "source": [
    "#### A brief introduction to tuples"
   ]
  },
  {
   "cell_type": "code",
   "execution_count": null,
   "id": "beda1ee8",
   "metadata": {},
   "outputs": [],
   "source": [
    "# Unpack nums into num1, num2, and num3\n",
    "num1,num2,num3 = nums\n",
    "\n",
    "\n",
    "# Construct even_nums\n",
    "even_nums = (2,num2,num3)"
   ]
  },
  {
   "cell_type": "markdown",
   "id": "6fd83237",
   "metadata": {},
   "source": [
    "#### Functions that return multiple values"
   ]
  },
  {
   "cell_type": "code",
   "execution_count": null,
   "id": "02b79a05",
   "metadata": {},
   "outputs": [],
   "source": [
    "# Define shout_all with parameters word1 and word2\n",
    "def shout_all(word1,word2):\n",
    "    \n",
    "    # Concatenate word1 with '!!!': shout1\n",
    "    shout1 = word1 + '!!!'\n",
    "    \n",
    "    # Concatenate word2 with '!!!': shout2\n",
    "    shout2 = word2 + '!!!'\n",
    "    \n",
    "    # Construct a tuple with shout1 and shout2: shout_words\n",
    "    shout_words = (shout1,shout2)\n",
    "\n",
    "    # Return shout_words\n",
    "    return shout_words\n",
    "\n",
    "# Pass 'congratulations' and 'you' to shout_all(): yell1, yell2\n",
    "yell1,yell2 = shout_all('congratulations','you')\n",
    "\n",
    "print(yell1)\n",
    "print(yell2)"
   ]
  },
  {
   "cell_type": "markdown",
   "id": "a91edee2",
   "metadata": {},
   "source": [
    "#### Bringing it all together (1)"
   ]
  },
  {
   "cell_type": "code",
   "execution_count": null,
   "id": "8e51ed94",
   "metadata": {},
   "outputs": [],
   "source": [
    "# Import pandas\n",
    "import pandas as pd\n",
    "\n",
    "# Import Twitter data as DataFrame: df\n",
    "df = pd.read_csv('tweets.csv')\n",
    "\n",
    "# Initialize an empty dictionary: langs_count\n",
    "langs_count = {}\n",
    "\n",
    "# Extract column from DataFrame: col\n",
    "col = df['lang']\n",
    "\n",
    "# Iterate over lang column in DataFrame\n",
    "for entry in col:\n",
    "\n",
    "    # If the language is in langs_count, add 1 \n",
    "    if entry in langs_count.keys():\n",
    "        langs_count[entry]+=1\n",
    "    # Else add the language to langs_count, set the value to 1\n",
    "    else:\n",
    "        langs_count[entry] = 1\n",
    "\n",
    "# Print the populated dictionary\n",
    "print(langs_count)"
   ]
  },
  {
   "cell_type": "markdown",
   "id": "9d6046bb",
   "metadata": {},
   "source": [
    "#### Bringing it all together (2)"
   ]
  },
  {
   "cell_type": "code",
   "execution_count": null,
   "id": "316b261a",
   "metadata": {},
   "outputs": [],
   "source": [
    "# Define count_entries()\n",
    "def count_entries(df, col_name):\n",
    "    \"\"\"Return a dictionary with counts of \n",
    "    occurrences as value for each key.\"\"\"\n",
    "\n",
    "    # Initialize an empty dictionary: langs_count\n",
    "    langs_count = {}\n",
    "    \n",
    "    # Extract column from DataFrame: col\n",
    "    col = df[col_name]\n",
    "    \n",
    "    # Iterate over lang column in DataFrame\n",
    "    for entry in col:\n",
    "\n",
    "        # If the language is in langs_count, add 1\n",
    "        if entry in langs_count.keys():\n",
    "            langs_count[entry] += 1\n",
    "        # Else add the language to langs_count, set the value to 1\n",
    "        else:\n",
    "            langs_count[entry] = 1\n",
    "\n",
    "    # Return the langs_count dictionary\n",
    "    return langs_count\n",
    "\n",
    "# Call count_entries(): result\n",
    "result = count_entries(tweets_df,'lang')\n",
    "\n",
    "# Print the result\n",
    "print(result)"
   ]
  }
 ],
 "metadata": {
  "kernelspec": {
   "display_name": "Python 3 (ipykernel)",
   "language": "python",
   "name": "python3"
  },
  "language_info": {
   "codemirror_mode": {
    "name": "ipython",
    "version": 3
   },
   "file_extension": ".py",
   "mimetype": "text/x-python",
   "name": "python",
   "nbconvert_exporter": "python",
   "pygments_lexer": "ipython3",
   "version": "3.11.4"
  }
 },
 "nbformat": 4,
 "nbformat_minor": 5
}
